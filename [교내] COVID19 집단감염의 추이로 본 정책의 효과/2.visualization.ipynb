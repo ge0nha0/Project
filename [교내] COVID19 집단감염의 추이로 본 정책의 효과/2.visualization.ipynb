{
 "cells": [
  {
   "cell_type": "code",
   "execution_count": null,
   "id": "0c6c2172",
   "metadata": {},
   "outputs": [],
   "source": [
    "import pandas as pd\n",
    "import numpy as np\n",
    "import matplotlib.pyplot as plt\n",
    "import seaborn as sns\n",
    "import plotly.express as px\n",
    "import plotly.graph_objects as go\n",
    "\n",
    "%matplotlib inline\n",
    "plt.rc('font', family='malgun gothic')\n",
    "plt.rc('axes', unicode_minus=False)"
   ]
  },
  {
   "cell_type": "markdown",
   "id": "c70700a2",
   "metadata": {},
   "source": [
    "## 데이터 분석 & 시각화"
   ]
  },
  {
   "cell_type": "code",
   "execution_count": null,
   "id": "4f6cd5bc",
   "metadata": {},
   "outputs": [],
   "source": [
    "df_con = df.groupby('age')[['contact_number']].sum()\n",
    "df_con"
   ]
  },
  {
   "cell_type": "code",
   "execution_count": null,
   "id": "bb98ae01",
   "metadata": {},
   "outputs": [],
   "source": [
    "df_con.plot()\n",
    "plt.title('연령별 확진자')\n",
    "plt.xlabel('나이')\n",
    "plt.ylabel('확진자수');"
   ]
  },
  {
   "cell_type": "code",
   "execution_count": null,
   "id": "0bdb9cb3",
   "metadata": {},
   "outputs": [],
   "source": [
    "c = df['confirmed_date'].isin(['2000-02-02'])\n",
    "df_c = df[~c]\n",
    "df_c"
   ]
  },
  {
   "cell_type": "code",
   "execution_count": null,
   "id": "1155aa3b",
   "metadata": {},
   "outputs": [],
   "source": [
    "df_con_count = df_c.groupby('confirmed_date')[['patient_id']].count().reset_index()\n",
    "df_con_count"
   ]
  },
  {
   "cell_type": "code",
   "execution_count": null,
   "id": "72a46f77",
   "metadata": {},
   "outputs": [],
   "source": [
    "fig = px.line(df_con_count, x='confirmed_date', y='patient_id',\n",
    "              labels={'confirmed_date': '확진 판정일', 'patient_id': '확진자 수'},\n",
    "              width=700, height=500)\n",
    "fig.update_layout(plot_bgcolor='white')\n",
    "fig.update_xaxes(linecolor='gray', mirror=True)\n",
    "fig.update_yaxes(linecolor='gray', gridcolor='lightgray', mirror=False)\n",
    "\n",
    "\n",
    "fig.show()"
   ]
  },
  {
   "cell_type": "code",
   "execution_count": null,
   "id": "967e2adf",
   "metadata": {},
   "outputs": [],
   "source": [
    "fig = px.line(df_con_count, x='confirmed_date', y='patient_id',\n",
    "              labels={'confirmed_date': '확진 판정일', 'patient_id': '확진자 수'},\n",
    "              width=700, height=500)\n",
    "fig.update_layout(plot_bgcolor='white')\n",
    "fig.update_xaxes(linecolor='gray', mirror=True)\n",
    "fig.update_yaxes(linecolor='gray', gridcolor='lightgray', mirror=False)\n",
    "\n",
    "fig.add_vline(x='2020-02-18', line_color='red', line_width=3)\n",
    "fig.add_vline(x='2020-05-06', line_color='red', line_width=3)\n",
    "fig.add_vline(x='2020-05-25', line_color='red', line_width=3)\n",
    "fig.add_vline(x='2020-02-29', line_color='green', line_width=3)\n",
    "fig.add_vline(x='2020-05-08', line_color='green', line_width=3)\n",
    "fig.add_vline(x='2020-05-29', line_color='green', line_width=3)\n",
    "\n",
    "\n",
    "fig.show()"
   ]
  },
  {
   "cell_type": "code",
   "execution_count": null,
   "id": "e2cb5c69",
   "metadata": {},
   "outputs": [],
   "source": [
    "fig = px.line(df_con_count, x='confirmed_date', y='patient_id',\n",
    "              labels={'confirmed_date': '확진 판정일', 'patient_id': '확진자 수'},\n",
    "              width=700, height=500,markers=True )\n",
    "fig.update_layout(plot_bgcolor='white')\n",
    "fig.update_xaxes(linecolor='gray', mirror=True,\n",
    "                 range=['2020-02-10', '2020-03-20'])\n",
    "fig.update_yaxes(linecolor='gray', gridcolor='lightgray', mirror=False)\n",
    "\n",
    "fig.add_vline(x='2020-02-18', line_color='red', line_width=3)\n",
    "fig.add_vline(x='2020-02-29', line_color='green', line_width=3)\n",
    "fig.add_vline(x='2020-03-14', line_color='#ff9914', line_width=3)\n"
   ]
  },
  {
   "cell_type": "code",
   "execution_count": null,
   "id": "79a1ce57",
   "metadata": {},
   "outputs": [],
   "source": [
    "fig = px.line(df_con_count, x='confirmed_date', y='patient_id',\n",
    "              labels={'confirmed_date': '확진 판정일', 'patient_id': '확진자 수'},\n",
    "              width=700, height=500,markers=True)\n",
    "fig.update_layout(plot_bgcolor='white')\n",
    "fig.update_xaxes(linecolor='gray', mirror=True,\n",
    "                 range=['2020-05-01', '2020-06-10'])\n",
    "fig.update_yaxes(linecolor='gray', gridcolor='lightgray', mirror=False)\n",
    "\n",
    "\n",
    "fig.add_vline(x='2020-05-06', line_color='red', line_width=3)\n",
    "fig.add_vline(x='2020-05-08', line_color='green', line_width=3)\n",
    "fig.add_vline(x='2020-05-22', line_color='#ff9914', line_width=3)"
   ]
  },
  {
   "cell_type": "code",
   "execution_count": null,
   "id": "8223bed3",
   "metadata": {},
   "outputs": [],
   "source": [
    "fig = px.line(df_con_count, x='confirmed_date', y='patient_id',\n",
    "              labels={'confirmed_date': '확진 판정일', 'patient_id': '확진자 수'},\n",
    "              width=700, height=500,markers=True)\n",
    "fig.update_layout(plot_bgcolor='white')\n",
    "fig.update_xaxes(linecolor='gray', mirror=True,\n",
    "                 range=['2020-05-20', '2020-6-15'])\n",
    "fig.update_yaxes(linecolor='gray', gridcolor='lightgray', mirror=False)\n",
    "\n",
    "fig.add_vline(x='2020-05-25', line_color='red', line_width=3)\n",
    "fig.add_vline(x='2020-05-29', line_color='green', line_width=3)\n",
    "fig.add_vline(x='2020-06-12', line_color='#ff9914', line_width=3)\n"
   ]
  },
  {
   "cell_type": "code",
   "execution_count": null,
   "id": "f04267be",
   "metadata": {},
   "outputs": [],
   "source": [
    "c = case['group'].isin([False])\n",
    "case_c = case[~c]"
   ]
  },
  {
   "cell_type": "code",
   "execution_count": null,
   "id": "03651038",
   "metadata": {},
   "outputs": [],
   "source": [
    "case_c_g = case_c.groupby('infection_case')[['confirmed']].sum()\n",
    "case_c_g"
   ]
  },
  {
   "cell_type": "code",
   "execution_count": null,
   "id": "be677ded",
   "metadata": {},
   "outputs": [],
   "source": [
    "sor_case_c_g=case_c_g.sort_values(by='confirmed', ascending=False)[:15]\n",
    "sor_case_c_g=sor_case_c_g.reset_index()"
   ]
  },
  {
   "cell_type": "code",
   "execution_count": null,
   "id": "1bc5ab85",
   "metadata": {},
   "outputs": [],
   "source": [
    "colors = ['#3e3b92'] * 15\n",
    "colors[0] = '#f44369'\n",
    "\n",
    "fig = go.Figure(data=[go.Bar(x=sor_case_c_g['infection_case'], y=sor_case_c_g['confirmed'],\n",
    "                             text=sor_case_c_g['confirmed'], textposition='outside',\n",
    "                             width=0.7, marker_color=colors)])\n",
    "fig.update_layout(plot_bgcolor='white', xaxis_tickangle=-90, xaxis_title='감염 경로', yaxis_title='감염자 수',\n",
    "                  autosize=False, width=700, height=650)\n",
    "fig.update_xaxes(linecolor='gray', mirror=False)\n",
    "fig.update_yaxes(linecolor='gray', gridcolor='lightgray', mirror=False)\n",
    "fig.show()"
   ]
  },
  {
   "cell_type": "code",
   "execution_count": null,
   "id": "fc6a4c38",
   "metadata": {},
   "outputs": [],
   "source": [
    "sor_case_c2 = sor_case_c_g.iloc[1:].reset_index()"
   ]
  },
  {
   "cell_type": "code",
   "execution_count": null,
   "id": "aab45d0e",
   "metadata": {},
   "outputs": [],
   "source": [
    "colors = ['#3e3b92'] * 14\n",
    "colors[0] = '#f44369'\n",
    "colors[4] = '#f44369'\n",
    "fig = go.Figure(data=[go.Bar(x=sor_case_c2['infection_case'], y=sor_case_c2['confirmed'],\n",
    "                             text=sor_case_c2['confirmed'], textposition='outside',\n",
    "                             width=0.6, marker_color=colors)])\n",
    "fig.update_layout(plot_bgcolor='white', xaxis_tickangle=-90, xaxis_title='감염 경로', yaxis_title='감염자 수',\n",
    "                  autosize=False, width=700, height=650)\n",
    "fig.update_xaxes(linecolor='gray', mirror=False)\n",
    "fig.update_yaxes(linecolor='gray', gridcolor='lightgray', mirror=False)\n",
    "fig.show()"
   ]
  },
  {
   "cell_type": "code",
   "execution_count": null,
   "id": "40eb3592",
   "metadata": {},
   "outputs": [],
   "source": [
    "df.sort_values('contact_number',ascending=False).reset_index()"
   ]
  },
  {
   "cell_type": "code",
   "execution_count": null,
   "id": "fa9da113",
   "metadata": {},
   "outputs": [],
   "source": [
    "df_con_count['cumsum'] = df_con_count['patient_id'].cumsum()\n",
    "df_con_count"
   ]
  },
  {
   "cell_type": "code",
   "execution_count": null,
   "id": "7e77be6e",
   "metadata": {},
   "outputs": [],
   "source": [
    "fig = px.line(df_con_count, x='confirmed_date', y='cumsum',\n",
    "              labels={'confirmed_date': '확진 판정일', 'cumsum': '누적 확진자 수'},\n",
    "              width=700, height=500)\n",
    "fig.update_layout(plot_bgcolor='white')\n",
    "fig.update_xaxes(linecolor='gray', mirror=True)\n",
    "fig.update_yaxes(linecolor='gray', gridcolor='lightgray', mirror=False)\n",
    "\n",
    "fig.add_vline(x='2020-02-18', line_color='red', line_width=3)\n",
    "\n",
    "fig.show()"
   ]
  },
  {
   "cell_type": "code",
   "execution_count": null,
   "id": "90a58a98",
   "metadata": {},
   "outputs": [],
   "source": [
    "Shincheonji = df_c[(df_c['infection_case'] == 'Shincheonji Church')].reset_index()\n",
    "Shincheonji_count = Shincheonji.groupby('confirmed_date')[['patient_id']].count().reset_index()\n",
    "Shincheonji_count['cumsum'] = Shincheonji_count['patient_id'].cumsum()"
   ]
  },
  {
   "cell_type": "code",
   "execution_count": null,
   "id": "cbaf4a4d",
   "metadata": {},
   "outputs": [],
   "source": [
    "fig = px.line(Shincheonji_count, x='confirmed_date', y='cumsum',\n",
    "              labels={'confirmed_date': '확진 판정일', 'cumsum': '누적 확진자 수'},\n",
    "              width=700, height=500,markers=True)\n",
    "fig.update_layout(plot_bgcolor='white')\n",
    "fig.update_xaxes(linecolor='gray', mirror=True)\n",
    "fig.update_yaxes(linecolor='gray', gridcolor='lightgray', mirror=False)\n",
    "\n",
    "fig.add_vline(x='2020-02-18', line_color='red', line_width=3)\n",
    "\n",
    "fig.show()"
   ]
  },
  {
   "cell_type": "code",
   "execution_count": null,
   "id": "4a1e1d57",
   "metadata": {},
   "outputs": [],
   "source": [
    "df_date = df.set_index('confirmed_date')\n",
    "df_date"
   ]
  },
  {
   "cell_type": "code",
   "execution_count": null,
   "id": "e3115b38",
   "metadata": {},
   "outputs": [],
   "source": [
    "df_date = df_date[['age']].dropna()\n",
    "df_date"
   ]
  },
  {
   "cell_type": "code",
   "execution_count": null,
   "id": "6a37c4b5",
   "metadata": {},
   "outputs": [],
   "source": [
    "df_date_1 = df_date.loc['2020-05-08' : '2020-05-22']\n",
    "df_date_1"
   ]
  },
  {
   "cell_type": "code",
   "execution_count": null,
   "id": "a0c9a7ff",
   "metadata": {},
   "outputs": [],
   "source": [
    "df_date_1_counting = df_date_1['age'].value_counts()\n",
    "df_date_1_counting"
   ]
  },
  {
   "cell_type": "code",
   "execution_count": null,
   "id": "79fadfd7",
   "metadata": {},
   "outputs": [],
   "source": [
    "x = df_date_1_counting.index\n",
    "values = df_date_1_counting.values\n",
    "explode=[0.1, 0,0,0,0,0,0,0,0,0]\n",
    "\n",
    "\n",
    "plt.figure(figsize=(7,7))\n",
    "colors = sns.color_palette('pastel')\n",
    "plt.pie(values, labels = x, startangle = 90,autopct = '%.1f', colors = colors,explode=explode)\n",
    "plt.show()"
   ]
  },
  {
   "cell_type": "code",
   "execution_count": null,
   "id": "69f06f77",
   "metadata": {},
   "outputs": [],
   "source": [
    "df_date_2 = df_date.loc['2020-05-22' : '2020-06-05']\n",
    "df_date_2"
   ]
  },
  {
   "cell_type": "code",
   "execution_count": null,
   "id": "f288fd07",
   "metadata": {},
   "outputs": [],
   "source": [
    "df_date_2_counting = df_date_2['age'].value_counts()\n",
    "df_date_2_counting"
   ]
  },
  {
   "cell_type": "code",
   "execution_count": null,
   "id": "dcbd9d03",
   "metadata": {},
   "outputs": [],
   "source": [
    "x_ = df_date_2_counting.index\n",
    "values = df_date_2_counting.values\n",
    "explode=[0, 0,0,0.1,0,0,0,0,0,0]\n",
    "\n",
    "plt.figure(figsize=(7,7))\n",
    "colors = sns.color_palette('pastel')\n",
    "plt.pie(values, labels = x_, startangle = 90,autopct = '%.1f', colors = colors,explode=explode)\n",
    "plt.show()"
   ]
  },
  {
   "cell_type": "code",
   "execution_count": null,
   "id": "9b30f85a",
   "metadata": {},
   "outputs": [],
   "source": [
    "pro = case['province'].isin(['Seoul', 'Incheon', 'Gyeonggi-do'])\n",
    "case_pro = case[pro]\n",
    "case_pro.reset_index()\n",
    "\n",
    "pro_1 = df['province'].isin(['Seoul', 'Incheon', 'Gyeonggi-do'])\n",
    "df_pro_1 = df[pro_1]\n",
    "df_pro_1.reset_index()"
   ]
  },
  {
   "cell_type": "code",
   "execution_count": null,
   "id": "11805f68",
   "metadata": {},
   "outputs": [],
   "source": [
    "pro_1 = df['province'].isin(['Seoul', 'Incheon', 'Gyeonggi-do'])\n",
    "df_pro_1 = df[pro_1]\n",
    "df_pro_1.reset_index()"
   ]
  },
  {
   "cell_type": "code",
   "execution_count": null,
   "id": "c5a4791e",
   "metadata": {},
   "outputs": [],
   "source": [
    "new_csv = pd.merge(case_pro, df_pro_1, how='inner', on='province')"
   ]
  },
  {
   "cell_type": "code",
   "execution_count": null,
   "id": "c7d04610",
   "metadata": {},
   "outputs": [],
   "source": [
    "cou = new_csv['infection_case_x'].isin(['Coupang Logistics Center'])\n",
    "new_csv = new_csv[cou]"
   ]
  },
  {
   "cell_type": "code",
   "execution_count": null,
   "id": "6be94284",
   "metadata": {},
   "outputs": [],
   "source": [
    "new_csv = new_csv.set_index('confirmed_date')"
   ]
  },
  {
   "cell_type": "code",
   "execution_count": null,
   "id": "6261cf65",
   "metadata": {},
   "outputs": [],
   "source": [
    "new_csv_1 = new_csv.loc['2020-05-29' : '2020-06-12']\n",
    "new_csv_1"
   ]
  },
  {
   "cell_type": "code",
   "execution_count": null,
   "id": "dec451e4",
   "metadata": {},
   "outputs": [],
   "source": [
    "new_csv_2 = new_csv.loc['2020-06-12' : '2020-06-26']\n",
    "new_csv_2"
   ]
  },
  {
   "cell_type": "code",
   "execution_count": null,
   "id": "86744fbf",
   "metadata": {},
   "outputs": [],
   "source": [
    "new_csv_1_counting = new_csv_1['province'].value_counts()\n",
    "new_csv_1_counting"
   ]
  },
  {
   "cell_type": "code",
   "execution_count": null,
   "id": "967d1173",
   "metadata": {},
   "outputs": [],
   "source": [
    "new_csv_2_counting = new_csv_2['province'].value_counts()\n",
    "new_csv_2_counting"
   ]
  },
  {
   "cell_type": "code",
   "execution_count": null,
   "id": "4de3d91e",
   "metadata": {},
   "outputs": [],
   "source": [
    "!pip install pyecharts\n",
    "from pyecharts import options as opts"
   ]
  },
  {
   "cell_type": "code",
   "execution_count": null,
   "id": "f57dc448",
   "metadata": {},
   "outputs": [],
   "source": [
    "from pyecharts.charts import Bar\n",
    "\n",
    "attr = ['Gyeonggi-do', 'Incheon', 'Seoul']\n",
    "\n",
    "v1 = [210, 104, 256]\n",
    "v2 = [158, 36, 212]\n",
    "\n",
    "bar = Bar()\n",
    "\n",
    "bar.add_xaxis(attr) # x축 지정\n",
    "bar.add_yaxis('06-12 이전', v1) # y축 지정1(좌)\n",
    "bar.add_yaxis('06-12 이후', v2) # y축 지정1(우)\n",
    "\n",
    "bar.set_global_opts(title_opts=opts.TitleOpts(title='지역별 확진자', subtitle='쿠팡물류센터'))\n",
    "\n",
    "bar.set_series_opts(label_opts=opts.LabelOpts(is_show=False), # bar 위의 값 표시 제거\n",
    "                    markpoint_opts=opts.MarkPointOpts(data=[opts.MarkPointItem(type_='max')])) # 최대값에 marker 표시\n",
    "bar.reversal_axis() \n",
    "bar.render_notebook()"
   ]
  }
 ],
 "metadata": {
  "kernelspec": {
   "display_name": "Python 3 (ipykernel)",
   "language": "python",
   "name": "python3"
  },
  "language_info": {
   "codemirror_mode": {
    "name": "ipython",
    "version": 3
   },
   "file_extension": ".py",
   "mimetype": "text/x-python",
   "name": "python",
   "nbconvert_exporter": "python",
   "pygments_lexer": "ipython3",
   "version": "3.9.7"
  }
 },
 "nbformat": 4,
 "nbformat_minor": 5
}
