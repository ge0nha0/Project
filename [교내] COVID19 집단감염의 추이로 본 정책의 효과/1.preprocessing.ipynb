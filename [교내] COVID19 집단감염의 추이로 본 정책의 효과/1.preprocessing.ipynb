{
 "cells": [
  {
   "cell_type": "code",
   "execution_count": null,
   "id": "837bfa85",
   "metadata": {},
   "outputs": [],
   "source": [
    "import pandas as pd\n",
    "import numpy as np"
   ]
  },
  {
   "cell_type": "code",
   "execution_count": null,
   "id": "0d0d773d",
   "metadata": {},
   "outputs": [],
   "source": [
    "# Main Data\n",
    "patient_info = pd.read_csv('data/PatientInfo.csv')\n",
    "region = pd.read_csv('data/Region.csv')\n",
    "weather = pd.read_csv('data/Weather.csv')\n",
    "search_trend = pd.read_csv('data/Searchtrend.csv')\n",
    "\n",
    "# Sub data\n",
    "policy = pd.read_csv('data/Policy.csv')\n",
    "case = pd.read_csv('data/Case.csv')"
   ]
  },
  {
   "cell_type": "code",
   "execution_count": null,
   "id": "417fab61",
   "metadata": {},
   "outputs": [],
   "source": [
    "coupang = case['infection_case'].isin(['Coupang Logistics Center'])\n",
    "case_c = case[coupang]\n",
    "case_c"
   ]
  },
  {
   "cell_type": "code",
   "execution_count": null,
   "id": "2d295bde",
   "metadata": {},
   "outputs": [],
   "source": [
    "policy['gov_policy'].value_counts()"
   ]
  },
  {
   "cell_type": "code",
   "execution_count": null,
   "id": "1f1e5d01",
   "metadata": {},
   "outputs": [],
   "source": [
    "pd.set_option('display.max_rows', None)"
   ]
  },
  {
   "cell_type": "code",
   "execution_count": null,
   "id": "e8a1460e",
   "metadata": {},
   "outputs": [],
   "source": [
    "df = patient_info\n",
    "df.head(10)"
   ]
  },
  {
   "cell_type": "code",
   "execution_count": null,
   "id": "9c39e642",
   "metadata": {},
   "outputs": [],
   "source": [
    "df.isnull().sum()"
   ]
  },
  {
   "cell_type": "markdown",
   "id": "169e9f18",
   "metadata": {},
   "source": [
    "## contact_number"
   ]
  },
  {
   "cell_type": "code",
   "execution_count": null,
   "id": "9ccf1531",
   "metadata": {},
   "outputs": [],
   "source": [
    "df['contact_number'].value_counts(dropna=False)"
   ]
  },
  {
   "cell_type": "code",
   "execution_count": null,
   "id": "8210c1d7",
   "metadata": {},
   "outputs": [],
   "source": [
    "my_dict = {'-' : np.nan}\n",
    "df['contact_number'] = df['contact_number'].replace(my_dict)"
   ]
  },
  {
   "cell_type": "code",
   "execution_count": null,
   "id": "cc3f4277",
   "metadata": {},
   "outputs": [],
   "source": [
    "#결측치를 0으로 대체함\n",
    "df['contact_number'] = df['contact_number'].fillna('0')"
   ]
  },
  {
   "cell_type": "code",
   "execution_count": null,
   "id": "d0ad8451",
   "metadata": {},
   "outputs": [],
   "source": [
    "#타입을 object에서 float으로\n",
    "df['contact_number'] = df['contact_number'].astype('int64')"
   ]
  },
  {
   "cell_type": "code",
   "execution_count": null,
   "id": "77c5f6f8",
   "metadata": {},
   "outputs": [],
   "source": [
    "# 이상치를 결측치로\n",
    "c = df['contact_number'] < 10000\n",
    "df['contact_number'] = df['contact_number'].where(c, 0)"
   ]
  },
  {
   "cell_type": "code",
   "execution_count": null,
   "id": "398c2527",
   "metadata": {},
   "outputs": [],
   "source": [
    "df['contact_number'].unique()"
   ]
  },
  {
   "cell_type": "markdown",
   "id": "c568a154",
   "metadata": {},
   "source": [
    "## symptom_onset_date"
   ]
  },
  {
   "cell_type": "code",
   "execution_count": null,
   "id": "c3bf356a",
   "metadata": {},
   "outputs": [],
   "source": [
    "df['symptom_onset_date'].value_counts(dropna=False)"
   ]
  },
  {
   "cell_type": "code",
   "execution_count": null,
   "id": "c714c224",
   "metadata": {},
   "outputs": [],
   "source": [
    "m_dict = {' ' : np.nan}\n",
    "df['symptom_onset_date'] = df['symptom_onset_date'].replace(m_dict)"
   ]
  },
  {
   "cell_type": "code",
   "execution_count": null,
   "id": "81df2920",
   "metadata": {},
   "outputs": [],
   "source": [
    "#결측치를 2000-02-02으로 대체함\n",
    "df['symptom_onset_date'] = df['symptom_onset_date'].fillna('2000-02-02')"
   ]
  },
  {
   "cell_type": "code",
   "execution_count": null,
   "id": "3ea059a5",
   "metadata": {},
   "outputs": [],
   "source": [
    "df['symptom_onset_date'] = pd.to_datetime(df['symptom_onset_date'], format = '%Y-%m-%d')"
   ]
  },
  {
   "cell_type": "markdown",
   "id": "b7409125",
   "metadata": {},
   "source": [
    "## confirmed_date"
   ]
  },
  {
   "cell_type": "code",
   "execution_count": null,
   "id": "2226aa74",
   "metadata": {},
   "outputs": [],
   "source": [
    "df['confirmed_date'].value_counts(dropna=False)"
   ]
  },
  {
   "cell_type": "code",
   "execution_count": null,
   "id": "f77e3c5f",
   "metadata": {},
   "outputs": [],
   "source": [
    "#결측치를 2000-02-02으로 대체함\n",
    "df['confirmed_date'] = df['confirmed_date'].fillna('2000-02-02')"
   ]
  },
  {
   "cell_type": "code",
   "execution_count": null,
   "id": "230ee30b",
   "metadata": {},
   "outputs": [],
   "source": [
    "df['confirmed_date'] = pd.to_datetime(df['confirmed_date'], format = '%Y-%m-%d')"
   ]
  },
  {
   "cell_type": "code",
   "execution_count": null,
   "id": "bc2ebdba",
   "metadata": {},
   "outputs": [],
   "source": [
    "df.insert(10, 'confirmed_month', df['confirmed_date'].dt.month)\n",
    "df.insert(11, 'confirmed_day', df['confirmed_date'].dt.day)"
   ]
  },
  {
   "cell_type": "markdown",
   "id": "b97a08f4",
   "metadata": {},
   "source": [
    "## released_date"
   ]
  },
  {
   "cell_type": "code",
   "execution_count": null,
   "id": "747cbb11",
   "metadata": {},
   "outputs": [],
   "source": [
    "df['released_date'].value_counts(dropna=False)"
   ]
  },
  {
   "cell_type": "code",
   "execution_count": null,
   "id": "cbc13f04",
   "metadata": {},
   "outputs": [],
   "source": [
    "#결측치를 2000-02-02으로 대체함\n",
    "df['released_date'] = df['released_date'].fillna('2000-02-02')"
   ]
  },
  {
   "cell_type": "code",
   "execution_count": null,
   "id": "76807072",
   "metadata": {},
   "outputs": [],
   "source": [
    "df['released_date'] = pd.to_datetime(df['released_date'], format = '%Y-%m-%d')"
   ]
  },
  {
   "cell_type": "markdown",
   "id": "4f89aa19",
   "metadata": {},
   "source": [
    "## deceased_date"
   ]
  },
  {
   "cell_type": "code",
   "execution_count": null,
   "id": "d0ff47eb",
   "metadata": {},
   "outputs": [],
   "source": [
    "df['deceased_date'].value_counts(dropna=False)"
   ]
  },
  {
   "cell_type": "code",
   "execution_count": null,
   "id": "0c97e806",
   "metadata": {},
   "outputs": [],
   "source": [
    "#결측치를 2000-02-02으로 대체함\n",
    "df['deceased_date'] = df['deceased_date'].fillna('2000-02-02')"
   ]
  },
  {
   "cell_type": "code",
   "execution_count": null,
   "id": "a90e36dc",
   "metadata": {},
   "outputs": [],
   "source": [
    "df['deceased_date'] = pd.to_datetime(df['deceased_date'], format = '%Y-%m-%d')"
   ]
  },
  {
   "cell_type": "markdown",
   "id": "d9050c91",
   "metadata": {},
   "source": [
    "## sex"
   ]
  },
  {
   "cell_type": "code",
   "execution_count": null,
   "id": "bfe1469b",
   "metadata": {},
   "outputs": [],
   "source": [
    "df['sex'].value_counts(dropna=False)"
   ]
  },
  {
   "cell_type": "code",
   "execution_count": null,
   "id": "a7ab4fb8",
   "metadata": {},
   "outputs": [],
   "source": [
    "#결측치를 etc로 대체함\n",
    "df['sex'] = df['sex'].fillna('etc')"
   ]
  },
  {
   "cell_type": "markdown",
   "id": "642c8319",
   "metadata": {},
   "source": [
    "## city"
   ]
  },
  {
   "cell_type": "code",
   "execution_count": null,
   "id": "b95dce5b",
   "metadata": {},
   "outputs": [],
   "source": [
    "df['city'].value_counts(dropna=False)"
   ]
  },
  {
   "cell_type": "code",
   "execution_count": null,
   "id": "9e629203",
   "metadata": {},
   "outputs": [],
   "source": [
    "#결측치를 최빈값으로 대체함\n",
    "df['city'] = df['city'].fillna('Gyeongsan-si')"
   ]
  },
  {
   "cell_type": "code",
   "execution_count": null,
   "id": "d59fd589",
   "metadata": {},
   "outputs": [],
   "source": [
    "df['city'].value_counts(normalize=True, dropna=False)"
   ]
  },
  {
   "cell_type": "markdown",
   "id": "727f9f2a",
   "metadata": {},
   "source": [
    "## infection_case"
   ]
  },
  {
   "cell_type": "code",
   "execution_count": null,
   "id": "02567c23",
   "metadata": {},
   "outputs": [],
   "source": [
    "df['infection_case'].value_counts(normalize=True, dropna=False)"
   ]
  },
  {
   "cell_type": "code",
   "execution_count": null,
   "id": "2f5266be",
   "metadata": {},
   "outputs": [],
   "source": [
    "df['infection_case'] = df['infection_case'].fillna('etc')"
   ]
  },
  {
   "cell_type": "markdown",
   "id": "f8b864e0",
   "metadata": {},
   "source": [
    "## infected_by"
   ]
  },
  {
   "cell_type": "code",
   "execution_count": null,
   "id": "bc0b5d4e",
   "metadata": {},
   "outputs": [],
   "source": [
    "df['infected_by'].value_counts(normalize=True, dropna=False)"
   ]
  },
  {
   "cell_type": "code",
   "execution_count": null,
   "id": "d90417e8",
   "metadata": {},
   "outputs": [],
   "source": [
    "df['infected_by'] = df['infected_by'].fillna('etc')"
   ]
  }
 ],
 "metadata": {
  "kernelspec": {
   "display_name": "Python 3 (ipykernel)",
   "language": "python",
   "name": "python3"
  },
  "language_info": {
   "codemirror_mode": {
    "name": "ipython",
    "version": 3
   },
   "file_extension": ".py",
   "mimetype": "text/x-python",
   "name": "python",
   "nbconvert_exporter": "python",
   "pygments_lexer": "ipython3",
   "version": "3.9.7"
  }
 },
 "nbformat": 4,
 "nbformat_minor": 5
}
