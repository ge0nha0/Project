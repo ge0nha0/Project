{
 "cells": [
  {
   "cell_type": "markdown",
   "id": "9c5ac1fe",
   "metadata": {},
   "source": [
    "# WordCloud"
   ]
  },
  {
   "cell_type": "code",
   "execution_count": null,
   "id": "88f81962",
   "metadata": {},
   "outputs": [],
   "source": [
    "# wordcloud를 위한 필요 라이브러리 불러오기\n",
    "!apt-get update -qq\n",
    "!apt-get install fonts-nanum* -qq\n",
    "\n",
    "%matplotlib inline\n",
    "import os\n",
    "import matplotlib.pyplot as plt\n",
    "import seaborn as sns\n",
    "import matplotlib.font_manager as fm\n",
    "\n",
    "# apt-get : 패키지 설치 명령어\n",
    "# -qq : 에러외의 메세지 숨기는 옵션키\n",
    "!apt-get -qq install fonts-nanum\n",
    "\n",
    "fe = fm.FontEntry(\n",
    "    fname=r'/usr/share/fonts/truetype/nanum/NanumGothic.ttf', # ttf 파일이 저장되어 있는 경로\n",
    "    name='NanumGothic')                        # 이 폰트의 원하는 이름 설정\n",
    "fm.fontManager.ttflist.insert(0, fe)              # Matplotlib에 폰트 추가\n",
    "plt.rcParams.update({'font.size': 18, 'font.family': 'NanumGothic'}) # 폰트 설정\n",
    "\n",
    "import warnings\n",
    "warnings.filterwarnings('ignore')"
   ]
  },
  {
   "cell_type": "code",
   "execution_count": null,
   "id": "2e0857fc",
   "metadata": {},
   "outputs": [],
   "source": [
    "from PIL import Image\n",
    "import numpy as np\n",
    "from wordcloud import WordCloud"
   ]
  },
  {
   "cell_type": "code",
   "execution_count": null,
   "id": "8a620b0b",
   "metadata": {},
   "outputs": [],
   "source": [
    "df2"
   ]
  },
  {
   "cell_type": "code",
   "execution_count": null,
   "id": "e9aec877",
   "metadata": {},
   "outputs": [],
   "source": [
    "text_10 = ''\n",
    "text_20 = ''\n",
    "text_30 = ''\n",
    "text_40 = ''\n",
    "text_50 = ''\n",
    "\n",
    "text_1980 = ''\n",
    "text_1990 = ''\n",
    "text_2000 = ''\n",
    "text_2010 = ''\n",
    "text_2020 = ''\n",
    "\n",
    "text_usa = ''\n",
    "text_jap = ''\n",
    "text_fra = ''\n",
    "text_ita = ''\n",
    "text_eng = ''\n",
    "\n",
    "text_spa = ''\n",
    "text_nike = ''\n",
    "text_work = ''\n",
    "\n",
    "# 키워드를 기준으로 데이터를 생성함\n",
    "data_10 = df2[df2['키워드']=='10대패션'].reset_index(drop=True)\n",
    "data_20 = df2[df2['키워드']=='20대패션'].reset_index(drop=True)\n",
    "data_30 = df2[df2['키워드']=='30대패션'].reset_index(drop=True)\n",
    "data_40 = df2[df2['키워드']=='40대패션'].reset_index(drop=True)\n",
    "data_50 = df2[df2['키워드']=='50대패션'].reset_index(drop=True)\n",
    "\n",
    "data_1980 = df2[df2['키워드']=='1980년대패션'].reset_index(drop=True)\n",
    "data_1990 = df2[df2['키워드']=='1990년대패션'].reset_index(drop=True)\n",
    "data_2000 = df2[df2['키워드']=='2000년대패션'].reset_index(drop=True)\n",
    "data_2010 = df2[df2['키워드']=='2010년대패션'].reset_index(drop=True)\n",
    "data_2020 = df2[df2['키워드']=='2020년대패션'].reset_index(drop=True)\n",
    "\n",
    "fs_usa = df3[df3['키워드'] == '미국패션'].reset_index(drop=True)\n",
    "fs_jap = df3[df3['키워드'] == '일본패션'].reset_index(drop=True)\n",
    "fs_fra = df3[df3['키워드'] == '프랑스패션'].reset_index(drop=True)\n",
    "fs_ita = df3[df3['키워드'] == '이탈리아패션']reset_index(drop=True)\n",
    "fs_eng = df3[df3['키워드'] == '영국패션'].reset_index(drop=True)\n",
    "\n",
    "fs_spa = df3[df3['키워드'] == 'SPA'].reset_index(drop=True)\n",
    "fs_nike = df3[df3['키워드'] == '나이키'].reset_index(drop=True)\n",
    "fs_work = df3[df3['키워드'] == '패션워크'].reset_index(drop=True)"
   ]
  },
  {
   "cell_type": "code",
   "execution_count": null,
   "id": "b6177ec7",
   "metadata": {},
   "outputs": [],
   "source": [
    "for _, row in data_10.iterrows():\n",
    "    text_10 += row['전처리 내용2']\n",
    "\n",
    "for _, row in data_20.iterrows():\n",
    "    text_20 += row['전처리 내용2']\n",
    "\n",
    "for _, row in data_30.iterrows():\n",
    "    text_30 += row['전처리 내용2']\n",
    "\n",
    "for _, row in data_40.iterrows():\n",
    "    text_40 += row['전처리 내용2']\n",
    "\n",
    "for _, row in data_50.iterrows():\n",
    "    text_50 += row['전처리 내용2']\n",
    "\n",
    "for _, row in data_1980.iterrows():\n",
    "    text_1980 += row['전처리 내용2']\n",
    "\n",
    "for _, row in data_1990.iterrows():\n",
    "    text_1990 += row['전처리 내용2']\n",
    "\n",
    "for _, row in data_2000.iterrows():\n",
    "    text_2000 += row['전처리 내용2']\n",
    "\n",
    "for _, row in data_2010.iterrows():\n",
    "    text_2010 += row['전처리 내용2']\n",
    "\n",
    "for _, row in data_2020.iterrows():\n",
    "    text_2020 += row['전처리 내용2']    \n",
    "\n",
    "for _, row in data_usa.iterrows():\n",
    "    text_usa += row['전처리 내용2']\n",
    "\n",
    "for _, row in data_jap.iterrows():\n",
    "    text_jap += row['전처리 내용2']\n",
    "\n",
    "for _, row in data_fra.iterrows():\n",
    "    text_fra += row['전처리 내용2']\n",
    "\n",
    "for _, row in data_ita.iterrows():\n",
    "    text_ita += row['전처리 내용2']    \n",
    "\n",
    "for _, row in data_eng.iterrows():\n",
    "    text_eng += row['전처리 내용2']  $\n",
    "\n",
    "for _, row in data_spa.iterrows():\n",
    "    text_spa += row['전처리 내용2']  \n",
    "\n",
    "for _, row in data_nike.iterrows():\n",
    "    text_nike += row['전처리 내용2']\n",
    "\n",
    "for _, row in data_work.iterrows():\n",
    "    text_work += row['전처리 내용2']"
   ]
  },
  {
   "cell_type": "markdown",
   "id": "28e08ac9",
   "metadata": {},
   "source": [
    "## 10대 패션 키워드 wordcloud"
   ]
  },
  {
   "cell_type": "code",
   "execution_count": null,
   "id": "405b92f3",
   "metadata": {},
   "outputs": [],
   "source": [
    "cloud = WordCloud(font_path = 'NanumGothic.ttf', \n",
    "                  background_color = 'white',\n",
    "                  width=800, height=800)\n",
    "                  \n",
    "my_cloud2 = cloud.generate_from_text(text_10)\n",
    "                                     \n",
    "\n",
    "arr2 = my_cloud2.to_array()\n",
    "\n",
    "fig = plt.figure(figsize=(10, 10))\n",
    "plt.imshow(arr2)\n",
    "plt.axis('off')\n",
    "plt.show()"
   ]
  },
  {
   "cell_type": "markdown",
   "id": "5c5fe906",
   "metadata": {},
   "source": [
    "## 20대 패션 키워드 wordcloud"
   ]
  },
  {
   "cell_type": "code",
   "execution_count": null,
   "id": "74868e3e",
   "metadata": {},
   "outputs": [],
   "source": [
    "cloud = WordCloud(font_path = 'NanumGothic.ttf', \n",
    "                  background_color = 'white',\n",
    "                  width=800, height=800)\n",
    "                  \n",
    "my_cloud2 = cloud.generate_from_text(text_20)\n",
    "                                     \n",
    "\n",
    "arr2 = my_cloud2.to_array()\n",
    "\n",
    "fig = plt.figure(figsize=(10, 10))\n",
    "plt.imshow(arr2)\n",
    "plt.axis('off')\n",
    "plt.show()"
   ]
  },
  {
   "cell_type": "markdown",
   "id": "c46c3868",
   "metadata": {},
   "source": [
    "## 30대 패션 키워드 wordcloud"
   ]
  },
  {
   "cell_type": "code",
   "execution_count": null,
   "id": "5f554ef9",
   "metadata": {},
   "outputs": [],
   "source": [
    "\n",
    "cloud = WordCloud(font_path = 'NanumGothic.ttf', \n",
    "                  background_color = 'white',\n",
    "                  width=800, height=800)\n",
    "                  \n",
    "my_cloud2 = cloud.generate_from_text(text_30)\n",
    "                                     \n",
    "\n",
    "arr2 = my_cloud2.to_array()\n",
    "\n",
    "fig = plt.figure(figsize=(10, 10))\n",
    "plt.imshow(arr2)\n",
    "plt.axis('off')\n",
    "plt.show()"
   ]
  },
  {
   "cell_type": "markdown",
   "id": "2445f164",
   "metadata": {},
   "source": [
    "## 40대 패션 키워드 wordcloud"
   ]
  },
  {
   "cell_type": "code",
   "execution_count": null,
   "id": "882d6ac7",
   "metadata": {},
   "outputs": [],
   "source": [
    "cloud = WordCloud(font_path = 'NanumGothic.ttf', \n",
    "                  background_color = 'white',\n",
    "                  width=800, height=800)\n",
    "                  \n",
    "my_cloud2 = cloud.generate_from_text(text_40)\n",
    "                                     \n",
    "\n",
    "arr2 = my_cloud2.to_array()\n",
    "\n",
    "fig = plt.figure(figsize=(10, 10))\n",
    "plt.imshow(arr2)\n",
    "plt.axis('off')\n",
    "plt.show()"
   ]
  },
  {
   "cell_type": "markdown",
   "id": "3ee1958f",
   "metadata": {},
   "source": [
    "## 50대 패션 키워드 wordcloud"
   ]
  },
  {
   "cell_type": "code",
   "execution_count": null,
   "id": "e40afb39",
   "metadata": {},
   "outputs": [],
   "source": [
    "cloud = WordCloud(font_path = 'NanumGothic.ttf', \n",
    "                  background_color = 'white',\n",
    "                  width=800, height=800)\n",
    "                  \n",
    "my_cloud2 = cloud.generate_from_text(text_50)\n",
    "                                     \n",
    "\n",
    "arr2 = my_cloud2.to_array()\n",
    "\n",
    "fig = plt.figure(figsize=(10, 10))\n",
    "plt.imshow(arr2)\n",
    "plt.axis('off')\n",
    "plt.show()"
   ]
  },
  {
   "cell_type": "markdown",
   "id": "c4fd4807",
   "metadata": {},
   "source": [
    "## 1980년대 패션 키워드 wordcloud"
   ]
  },
  {
   "cell_type": "code",
   "execution_count": null,
   "id": "b5a93f36",
   "metadata": {},
   "outputs": [],
   "source": [
    "cloud = WordCloud(font_path = 'NanumGothic.ttf', \n",
    "                  background_color = 'white',\n",
    "                  width=800, height=800)\n",
    "                  \n",
    "my_cloud2 = cloud.generate_from_text(text_1980)\n",
    "                                     \n",
    "\n",
    "arr2 = my_cloud2.to_array()\n",
    "\n",
    "fig = plt.figure(figsize=(10, 10))\n",
    "plt.imshow(arr2)\n",
    "plt.axis('off')\n",
    "plt.show()"
   ]
  },
  {
   "cell_type": "markdown",
   "id": "17378de5",
   "metadata": {},
   "source": [
    "## 1990년대 패션 키워드 wordcloud"
   ]
  },
  {
   "cell_type": "code",
   "execution_count": null,
   "id": "5a6d022c",
   "metadata": {},
   "outputs": [],
   "source": [
    "cloud = WordCloud(font_path = 'NanumGothic.ttf', \n",
    "                  background_color = 'white',\n",
    "                  width=800, height=800)\n",
    "                  \n",
    "my_cloud2 = cloud.generate_from_text(text_1990)\n",
    "                                     \n",
    "\n",
    "arr2 = my_cloud2.to_array()\n",
    "\n",
    "fig = plt.figure(figsize=(10, 10))\n",
    "plt.imshow(arr2)\n",
    "plt.axis('off')\n",
    "plt.show()"
   ]
  },
  {
   "cell_type": "markdown",
   "id": "b0ec9b81",
   "metadata": {},
   "source": [
    "## 2000년대 패션 키워드 wordcloud"
   ]
  },
  {
   "cell_type": "code",
   "execution_count": null,
   "id": "372e0a97",
   "metadata": {},
   "outputs": [],
   "source": [
    "cloud = WordCloud(font_path = 'NanumGothic.ttf', \n",
    "                  background_color = 'white',\n",
    "                  width=800, height=800)\n",
    "                  \n",
    "my_cloud2 = cloud.generate_from_text(text_2000)\n",
    "                                     \n",
    "\n",
    "arr2 = my_cloud2.to_array()\n",
    "\n",
    "fig = plt.figure(figsize=(10, 10))\n",
    "plt.imshow(arr2)\n",
    "plt.axis('off')\n",
    "plt.show()"
   ]
  },
  {
   "cell_type": "markdown",
   "id": "f4dfb2ed",
   "metadata": {},
   "source": [
    "## 2010년대 패션 키워드 wordcloud"
   ]
  },
  {
   "cell_type": "code",
   "execution_count": null,
   "id": "3d126f65",
   "metadata": {},
   "outputs": [],
   "source": [
    "cloud = WordCloud(font_path = 'NanumGothic.ttf', \n",
    "                  background_color = 'white',\n",
    "                  width=800, height=800)\n",
    "                  \n",
    "my_cloud2 = cloud.generate_from_text(text_2010)\n",
    "                                     \n",
    "\n",
    "arr2 = my_cloud2.to_array()\n",
    "\n",
    "fig = plt.figure(figsize=(10, 10))\n",
    "plt.imshow(arr2)\n",
    "plt.axis('off')\n",
    "plt.show()"
   ]
  },
  {
   "cell_type": "markdown",
   "id": "9de498a8",
   "metadata": {},
   "source": [
    "## 2020년대 패션 키워드 wordcloud"
   ]
  },
  {
   "cell_type": "code",
   "execution_count": null,
   "id": "6af46409",
   "metadata": {},
   "outputs": [],
   "source": [
    "cloud = WordCloud(font_path = 'NanumGothic.ttf', \n",
    "                  background_color = 'white',\n",
    "                  width=800, height=800)\n",
    "                  \n",
    "my_cloud2 = cloud.generate_from_text(text_2020)\n",
    "                                     \n",
    "\n",
    "arr2 = my_cloud2.to_array()\n",
    "\n",
    "fig = plt.figure(figsize=(10, 10))\n",
    "plt.imshow(arr2)\n",
    "plt.axis('off')\n",
    "plt.show()"
   ]
  },
  {
   "cell_type": "markdown",
   "id": "6a5a26db",
   "metadata": {},
   "source": [
    "## 미국 패션 키워드 wordcloud"
   ]
  },
  {
   "cell_type": "code",
   "execution_count": null,
   "id": "bc4b5251",
   "metadata": {},
   "outputs": [],
   "source": [
    "cloud = WordCloud(font_path = 'NanumGothic.ttf', \n",
    "                  background_color = 'white',\n",
    "                  width=800, height=800)\n",
    "                  \n",
    "my_cloud2 = cloud.generate_from_text(text_usa)\n",
    "                                     \n",
    "\n",
    "arr2 = my_cloud2.to_array()\n",
    "\n",
    "fig = plt.figure(figsize=(10, 10))\n",
    "plt.imshow(arr2)\n",
    "plt.axis('off')\n",
    "plt.show()"
   ]
  },
  {
   "cell_type": "markdown",
   "id": "ad447783",
   "metadata": {},
   "source": [
    "## 일본 패션 키워드 wordcloud"
   ]
  },
  {
   "cell_type": "code",
   "execution_count": null,
   "id": "5fe8f6b7",
   "metadata": {},
   "outputs": [],
   "source": [
    "cloud = WordCloud(font_path = 'NanumGothic.ttf', \n",
    "                  background_color = 'white',\n",
    "                  width=800, height=800)\n",
    "                  \n",
    "my_cloud2 = cloud.generate_from_text(text_jap)\n",
    "                                     \n",
    "\n",
    "arr2 = my_cloud2.to_array()\n",
    "\n",
    "fig = plt.figure(figsize=(10, 10))\n",
    "plt.imshow(arr2)\n",
    "plt.axis('off')\n",
    "plt.show()"
   ]
  },
  {
   "cell_type": "markdown",
   "id": "3574ef38",
   "metadata": {},
   "source": [
    "## 프랑스 패션 키워드 wordcloud"
   ]
  },
  {
   "cell_type": "code",
   "execution_count": null,
   "id": "e3d636e4",
   "metadata": {},
   "outputs": [],
   "source": [
    "cloud = WordCloud(font_path = 'NanumGothic.ttf', \n",
    "                  background_color = 'white',\n",
    "                  width=800, height=800)\n",
    "                  \n",
    "my_cloud2 = cloud.generate_from_text(text_fra)\n",
    "                                     \n",
    "\n",
    "arr2 = my_cloud2.to_array()\n",
    "\n",
    "fig = plt.figure(figsize=(10, 10))\n",
    "plt.imshow(arr2)\n",
    "plt.axis('off')\n",
    "plt.show()"
   ]
  },
  {
   "cell_type": "markdown",
   "id": "f3661951",
   "metadata": {},
   "source": [
    "## 이탈리아 패션 키워드 wordcloud"
   ]
  },
  {
   "cell_type": "code",
   "execution_count": null,
   "id": "55440188",
   "metadata": {},
   "outputs": [],
   "source": [
    "cloud = WordCloud(font_path = 'NanumGothic.ttf', \n",
    "                  background_color = 'white',\n",
    "                  width=800, height=800)\n",
    "                  \n",
    "my_cloud2 = cloud.generate_from_text(text_ita)\n",
    "                                     \n",
    "\n",
    "arr2 = my_cloud2.to_array()\n",
    "\n",
    "fig = plt.figure(figsize=(10, 10))\n",
    "plt.imshow(arr2)\n",
    "plt.axis('off')\n",
    "plt.show()"
   ]
  },
  {
   "cell_type": "markdown",
   "id": "6ded79c2",
   "metadata": {},
   "source": [
    "## 영국 패션 키워드 wordcloud"
   ]
  },
  {
   "cell_type": "code",
   "execution_count": null,
   "id": "8f54f59a",
   "metadata": {},
   "outputs": [],
   "source": [
    "cloud = WordCloud(font_path = 'NanumGothic.ttf', \n",
    "                  background_color = 'white',\n",
    "                  width=800, height=800)\n",
    "                  \n",
    "my_cloud2 = cloud.generate_from_text(text_eng)\n",
    "                                     \n",
    "\n",
    "arr2 = my_cloud2.to_array()\n",
    "\n",
    "fig = plt.figure(figsize=(10, 10))\n",
    "plt.imshow(arr2)\n",
    "plt.axis('off')\n",
    "plt.show()"
   ]
  },
  {
   "cell_type": "markdown",
   "id": "8461882f",
   "metadata": {},
   "source": [
    "## SPA 패션 키워드 wordcloud"
   ]
  },
  {
   "cell_type": "code",
   "execution_count": null,
   "id": "c1dfe016",
   "metadata": {},
   "outputs": [],
   "source": [
    "cloud = WordCloud(font_path = 'NanumGothic.ttf', \n",
    "                  background_color = 'white',\n",
    "                  width=800, height=800)\n",
    "                  \n",
    "my_cloud2 = cloud.generate_from_text(text_spa)\n",
    "                                     \n",
    "\n",
    "arr2 = my_cloud2.to_array()\n",
    "\n",
    "fig = plt.figure(figsize=(10, 10))\n",
    "plt.imshow(arr2)\n",
    "plt.axis('off')\n",
    "plt.show()"
   ]
  },
  {
   "cell_type": "markdown",
   "id": "453b0396",
   "metadata": {},
   "source": [
    "## 나이키 패션 키워드 wordcloud"
   ]
  },
  {
   "cell_type": "code",
   "execution_count": null,
   "id": "da2875e2",
   "metadata": {},
   "outputs": [],
   "source": [
    "cloud = WordCloud(font_path = 'NanumGothic.ttf', \n",
    "                  background_color = 'white',\n",
    "                  width=800, height=800)\n",
    "                  \n",
    "my_cloud2 = cloud.generate_from_text(text_nike)\n",
    "                                     \n",
    "\n",
    "arr2 = my_cloud2.to_array()\n",
    "\n",
    "fig = plt.figure(figsize=(10, 10))\n",
    "plt.imshow(arr2)\n",
    "plt.axis('off')\n",
    "plt.show()"
   ]
  },
  {
   "cell_type": "markdown",
   "id": "9c443f10",
   "metadata": {},
   "source": [
    "## 패션워크 키워드 wordcloud"
   ]
  },
  {
   "cell_type": "code",
   "execution_count": null,
   "id": "a64ccb56",
   "metadata": {},
   "outputs": [],
   "source": [
    "cloud = WordCloud(font_path = 'NanumGothic.ttf', \n",
    "                  background_color = 'white',\n",
    "                  width=800, height=800)\n",
    "                  \n",
    "my_cloud2 = cloud.generate_from_text(text_work)\n",
    "                                     \n",
    "\n",
    "arr2 = my_cloud2.to_array()\n",
    "\n",
    "fig = plt.figure(figsize=(10, 10))\n",
    "plt.imshow(arr2)\n",
    "plt.axis('off')\n",
    "plt.show()"
   ]
  },
  {
   "cell_type": "markdown",
   "id": "fd9ebd33",
   "metadata": {},
   "source": [
    "# Text_classification"
   ]
  },
  {
   "cell_type": "code",
   "execution_count": null,
   "id": "c3b710b8",
   "metadata": {},
   "outputs": [],
   "source": [
    "# wordcloud 키워드 제외한 나머지 \n",
    "text_cf = df3[df3[\"키워드\"].str.contains('10대패션|20대패션|30대패션|40대패션|50대패션|SPA|나이키|패션워크|미국패션|일본패션|프랑스패션|이탈리아패션|영국패션') == False]\n",
    "text_cf"
   ]
  },
  {
   "cell_type": "code",
   "execution_count": null,
   "id": "df5d1620",
   "metadata": {},
   "outputs": [],
   "source": [
    "import copy\n",
    "import re\n",
    "from nltk.tokenize import TreebankWordTokenizer\n",
    "from sklearn.feature_extraction.text import TfidfVectorizer"
   ]
  },
  {
   "cell_type": "code",
   "execution_count": null,
   "id": "ececee92",
   "metadata": {},
   "outputs": [],
   "source": [
    "# TF-IDF 벡터화 객체 생성\n",
    "tfidf = TfidfVectorizer() \n",
    "\n",
    "# '전처리 내용2' 열의 텍스트 데이터를 TF-IDF 행렬로 변환\n",
    "tfidf_mat = tfidf.fit_transform(text_cf['전처리 내용2']) "
   ]
  },
  {
   "cell_type": "code",
   "execution_count": null,
   "id": "3b1cba1d",
   "metadata": {},
   "outputs": [],
   "source": [
    "# !pip install optuna # Jupyter에서 실행"
   ]
  },
  {
   "cell_type": "code",
   "execution_count": null,
   "id": "2ea3b7a2",
   "metadata": {},
   "outputs": [],
   "source": [
    "# Preprocessing\n",
    "from sklearn.model_selection import train_test_split\n",
    "\n",
    "# Modeling\n",
    "from sklearn.linear_model import LogisticRegression\n",
    "\n",
    "from sklearn.model_selection import cross_val_score\n",
    "\n",
    "# Hyperparameter Optimization\n",
    "import optuna\n",
    "\n",
    "# Evaluation\n",
    "from sklearn.metrics import accuracy_score"
   ]
  },
  {
   "cell_type": "code",
   "execution_count": null,
   "id": "8d107d2c",
   "metadata": {},
   "outputs": [],
   "source": [
    "X = tfidf_mat.toarray()\n",
    "y = text_cf['키워드'].to_numpy()\n",
    "\n",
    "x_trn, x_tst, y_trn, y_tst = train_test_split(X, y, test_size=0.2, stratify=y)\n",
    "\n",
    "model = LogisticRegression() \n",
    "model.fit(x_trn, y_trn)\n",
    "\n",
    "y_pred = model.predict(x_tst)\n",
    "\n",
    "accuracy_score(y_tst, y_pred) # 정확도 평가 0.707843137254902"
   ]
  },
  {
   "cell_type": "markdown",
   "id": "d295d175",
   "metadata": {},
   "source": [
    "## Logistic Regression 성능 높이기\n",
    "### optuna로 코랩에서 돌릴 경우 RAM 만료가 떠서 Jupyter Notebook에서 돌렸습니다"
   ]
  },
  {
   "cell_type": "code",
   "execution_count": null,
   "id": "3a313ade",
   "metadata": {},
   "outputs": [],
   "source": [
    "model = LogisticRegression(**study.best_params)\n",
    "model.fit(x_trn, y_trn)\n",
    "y_pred = model.predict(x_tst)\n",
    "\n",
    "accuracy_score(y_tst, y_pred) # 0.703921568627451"
   ]
  },
  {
   "cell_type": "markdown",
   "id": "2fb2a2c7",
   "metadata": {},
   "source": [
    "## GridSearchCV로 성능 올리기\n",
    "### GridSearchCV로 코랩에서 돌릴 경우 RAM 만료가 떠서 Jupyter Notebook에서 돌렸습니다"
   ]
  },
  {
   "cell_type": "code",
   "execution_count": null,
   "id": "36abcec9",
   "metadata": {},
   "outputs": [],
   "source": [
    "from sklearn.model_selection import GridSearchCV\n",
    "\n",
    "## 하이퍼파라미터 tuning 함수\n",
    "def logistic_tuning(x_trn,y_trn, params):\n",
    "  model = LogisticRegression(random_state =0)\n",
    "  grid = GridSearchCV(model, params, scoring='accuracy', cv=5)\n",
    "  grid.fit(x_trn, y_trn)\n",
    "\n",
    "  print(grid.best_params_)\n",
    "  print(grid.best_score_)\n",
    "\n",
    "  return grid.best_estimator_"
   ]
  },
  {
   "cell_type": "code",
   "execution_count": null,
   "id": "a06e72dc",
   "metadata": {},
   "outputs": [],
   "source": [
    "%%time\n",
    "param1 = {'penalty':['l2', 'l1'],  'C':[0.01, 0.1, 1, 5, 10], 'max_iter': [100, 500]}\n",
    "logistic_tuning(x_trn, y_trn, params = param1)"
   ]
  }
 ],
 "metadata": {
  "kernelspec": {
   "display_name": "Python 3 (ipykernel)",
   "language": "python",
   "name": "python3"
  },
  "language_info": {
   "codemirror_mode": {
    "name": "ipython",
    "version": 3
   },
   "file_extension": ".py",
   "mimetype": "text/x-python",
   "name": "python",
   "nbconvert_exporter": "python",
   "pygments_lexer": "ipython3",
   "version": "3.9.7"
  }
 },
 "nbformat": 4,
 "nbformat_minor": 5
}
