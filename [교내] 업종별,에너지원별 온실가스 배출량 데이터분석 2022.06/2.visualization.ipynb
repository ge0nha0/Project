{
 "cells": [
  {
   "cell_type": "code",
   "execution_count": null,
   "id": "03a4c69e",
   "metadata": {},
   "outputs": [],
   "source": [
    "import random\n",
    "import pandas as pd\n",
    "import numpy as np\n",
    "import matplotlib.pyplot as plt\n",
    "import seaborn as sns\n",
    "sns.set_theme(style='whitegrid', font_scale=1.5)\n",
    "sns.set_palette('Set2', n_colors=10)\n",
    "plt.rc('font', family='AppleGothic')\n",
    "plt.rc('axes', unicode_minus=False)"
   ]
  },
  {
   "cell_type": "code",
   "execution_count": null,
   "id": "0d89071b",
   "metadata": {},
   "outputs": [],
   "source": [
    "# !pip install plotly\n",
    "\n",
    "import plotly.express as px\n",
    "import plotly.graph_objects as go"
   ]
  },
  {
   "cell_type": "code",
   "execution_count": null,
   "id": "189d4c72",
   "metadata": {},
   "outputs": [],
   "source": [
    "# !pip install pyecharts\n",
    "\n",
    "from pyecharts import options as opts"
   ]
  },
  {
   "cell_type": "code",
   "execution_count": null,
   "id": "636c88f4",
   "metadata": {},
   "outputs": [],
   "source": [
    "df = pd.read_csv('data/preprocessing.csv', encoding='utf-8')\n",
    "df"
   ]
  },
  {
   "cell_type": "code",
   "execution_count": null,
   "id": "1d7eac3c",
   "metadata": {},
   "outputs": [],
   "source": [
    "plt.figure(figsize=(15,4))\n",
    "plt.xticks(rotation=90)\n",
    "sns.barplot(x='표준산업분류명_대범주',y='온실가스_배출량',data=df);"
   ]
  },
  {
   "cell_type": "markdown",
   "id": "c798175e",
   "metadata": {},
   "source": [
    "### 연간 배출량"
   ]
  },
  {
   "cell_type": "code",
   "execution_count": null,
   "id": "ecb836e4",
   "metadata": {},
   "outputs": [],
   "source": [
    "Y2010=df.groupby(['대상연도'])[['이산화탄소_배출량','메탄_배출량','아산화질소_배출량','온실가스_배출량']].sum().astype('float')\n",
    "Y2010"
   ]
  },
  {
   "cell_type": "markdown",
   "id": "608fb749",
   "metadata": {},
   "source": [
    "### 연간 회사당 배출량"
   ]
  },
  {
   "cell_type": "code",
   "execution_count": null,
   "id": "171976d2",
   "metadata": {},
   "outputs": [],
   "source": [
    "Y2010=df.loc[df['대상연도']==2010]['이산화탄소_배출량'].sum()/(df['대상연도']==2010).sum()\n",
    "Y2011=df.loc[df['대상연도']==2011]['이산화탄소_배출량'].sum()/(df['대상연도']==2011).sum()\n",
    "Y2012=df.loc[df['대상연도']==2012]['이산화탄소_배출량'].sum()/(df['대상연도']==2012).sum()\n",
    "Y2013=df.loc[df['대상연도']==2013]['이산화탄소_배출량'].sum()/(df['대상연도']==2013).sum()\n",
    "Y2014=df.loc[df['대상연도']==2014]['이산화탄소_배출량'].sum()/(df['대상연도']==2014).sum()\n",
    "Y2015=df.loc[df['대상연도']==2015]['이산화탄소_배출량'].sum()/(df['대상연도']==2015).sum()\n",
    "Y2016=df.loc[df['대상연도']==2016]['온실가스_배출량'].sum()/(df['대상연도']==2016).sum()\n",
    "Y2017=df.loc[df['대상연도']==2017]['온실가스_배출량'].sum()/(df['대상연도']==2017).sum()\n",
    "Y2018=df.loc[df['대상연도']==2018]['온실가스_배출량'].sum()/(df['대상연도']==2018).sum()\n",
    "Y2019=df.loc[df['대상연도']==2019]['온실가스_배출량'].sum()/(df['대상연도']==2019).sum()\n",
    "print(Y2010,Y2011,Y2012,Y2013,Y2014,Y2015,Y2016,Y2017,Y2018,Y2019)"
   ]
  },
  {
   "cell_type": "code",
   "execution_count": null,
   "id": "9ef2474f",
   "metadata": {},
   "outputs": [],
   "source": [
    "fig = go.Figure() # Figure 추가\n",
    "fig.add_trace(go.Scatter(x=[2016, 2017, 2018, 2019], y=[66.05, 73.07, 88.63, 74.96], mode='lines')) # 선 그래프 추가.\n",
    "fig.show() "
   ]
  },
  {
   "cell_type": "code",
   "execution_count": null,
   "id": "c5819ae8",
   "metadata": {},
   "outputs": [],
   "source": [
    "df"
   ]
  },
  {
   "cell_type": "markdown",
   "id": "620e2a8c",
   "metadata": {},
   "source": [
    "### 밑에 seaborn 패키지 오류로 인해 현재 실행 X"
   ]
  },
  {
   "cell_type": "code",
   "execution_count": null,
   "id": "ff31be64",
   "metadata": {},
   "outputs": [],
   "source": [
    "# plt.figure(figsize=(15,10))\n",
    "# plt.xticks(rotation=90)\n",
    "# sns.lineplot(x='표준산업분류명_대범주',y='이산화탄소_배출량',data=df);"
   ]
  },
  {
   "cell_type": "code",
   "execution_count": null,
   "id": "a73a5166",
   "metadata": {},
   "outputs": [],
   "source": [
    "# plt.figure(figsize=(15,10))\n",
    "# plt.xticks(rotation=45)\n",
    "# sns.lineplot(x='대상연도',y='이산화탄소_배출량',data=df);"
   ]
  },
  {
   "cell_type": "code",
   "execution_count": null,
   "id": "4a2a00a7",
   "metadata": {},
   "outputs": [],
   "source": [
    "# plt.figure(figsize=(15,10))\n",
    "# plt.xticks(rotation=45)\n",
    "# sns.lineplot(x='대상연도',y='온실가스_배출량',data=df);"
   ]
  },
  {
   "cell_type": "code",
   "execution_count": null,
   "id": "aadc6f7c",
   "metadata": {},
   "outputs": [],
   "source": [
    "### 연간 회사당 배출량 시각화"
   ]
  },
  {
   "cell_type": "code",
   "execution_count": null,
   "id": "fc8fefd6",
   "metadata": {},
   "outputs": [],
   "source": [
    "from pyecharts.charts import Pie\n",
    "\n",
    "year = ['2010', '2011', '2012', '2013', '2014', '2015', '2016', '2017', '2018', '2019']\n",
    "data = [37.91862226942822, 46.9255147149707, 62.14267544649558, 49.11608656103596, 66.473315995397, 66.90649850072082, 66.04878653590424, 73.0709419784612, 88.63340672171759, 74.96083271612082]\n",
    "\n",
    "# 차드 생성\n",
    "pie = Pie()\n",
    "\n",
    "pie.add('', [list(z) for z in zip(year, data)])\n",
    "\n",
    "# 로컬에 렌더링\n",
    "pie.render_notebook()"
   ]
  },
  {
   "cell_type": "code",
   "execution_count": null,
   "id": "eedc7d14",
   "metadata": {},
   "outputs": [],
   "source": [
    "n=[]\n",
    "etc=['복제업','제강업','재생업','기타','채굴업']\n",
    "for i,a in enumerate(df['표준산업분류명_대범주']):\n",
    "    if a.endswith('제조업'):\n",
    "        a='제조업'\n",
    "    elif a.endswith('처리업'):\n",
    "        a='처리업'\n",
    "    elif a.endswith('가공업'):\n",
    "        a='가공업'\n",
    "    elif a in etc:\n",
    "        a='기타'\n",
    "    n.append(a)\n",
    "print(n)"
   ]
  },
  {
   "cell_type": "code",
   "execution_count": null,
   "id": "0b54aa1f",
   "metadata": {},
   "outputs": [],
   "source": [
    "df.insert(7,'표준산업분류명_대대범주',n)\n",
    "df['표준산업분류명_대대범주'].value_counts()"
   ]
  },
  {
   "cell_type": "markdown",
   "id": "c8762b20",
   "metadata": {},
   "source": [
    "### preprocessing과정과 같이 이 밑에 코드들도 실제 배출량이 0인 회사 제외"
   ]
  },
  {
   "cell_type": "markdown",
   "id": "6e2c5a89",
   "metadata": {},
   "source": [
    "### 2016년도"
   ]
  },
  {
   "cell_type": "code",
   "execution_count": null,
   "id": "896bd5c0",
   "metadata": {},
   "outputs": [],
   "source": [
    "z={}\n",
    "for i,(a,b,c,d,e,f) in enumerate(zip(df['표준산업분류명_대대범주'],df['이산화탄소_배출량'],df['메탄_배출량'],df['아산화질소_배출량'],df['온실가스_배출량'],df['대상연도'])):\n",
    "    if f!=2016:\n",
    "        continue\n",
    "    if not z.get(a):\n",
    "        z[a]={'co2':0,'ch4':0,'no2':0,'gas':0}\n",
    "    if b>0:\n",
    "        z[a]['co2']+=1\n",
    "    if c>0:\n",
    "        z[a]['ch4']+=1\n",
    "    if d>0:\n",
    "        z[a]['no2']+=1\n",
    "    if e>0:\n",
    "        z[a]['gas']+=1\n",
    "print(z)"
   ]
  },
  {
   "cell_type": "markdown",
   "id": "ec7f2efc",
   "metadata": {},
   "source": [
    "### 업종 전체 배출량"
   ]
  },
  {
   "cell_type": "code",
   "execution_count": null,
   "id": "79ed1773",
   "metadata": {},
   "outputs": [],
   "source": [
    "n={}\n",
    "total=0\n",
    "for id,(a,b,c,d,e,f) in enumerate(zip(df['표준산업분류명_대대범주'],df['이산화탄소_배출량'],df['메탄_배출량'],df['아산화질소_배출량'],df['온실가스_배출량'],df['대상연도'])):\n",
    "    if f!=2016:\n",
    "        continue\n",
    "    if n.get(a):\n",
    "        n[a]['co2']+=b\n",
    "        n[a]['ch4']+=c\n",
    "        n[a]['no2']+=d\n",
    "        n[a]['gas']+=e\n",
    "    else:\n",
    "        n[a]={'co2':b,'ch4':c,'no2':d,'gas':e}\n",
    "print(n) "
   ]
  },
  {
   "cell_type": "markdown",
   "id": "51b1f72d",
   "metadata": {},
   "source": [
    "### 회사당 배출량"
   ]
  },
  {
   "cell_type": "code",
   "execution_count": null,
   "id": "07376ae2",
   "metadata": {},
   "outputs": [],
   "source": [
    "for x in n:\n",
    "    for y in n[x]:\n",
    "        n[x][y]/=z[x][y]\n",
    "        n[x][y]=round(n[x][y],2)\n",
    "#ch4, no2는 대부분 0이므로 예외처리하겠음.\n",
    "print(n)"
   ]
  },
  {
   "cell_type": "markdown",
   "id": "21e2b8c1",
   "metadata": {},
   "source": [
    "### 2016년 업종별로 온실가스 배출량 몇 퍼센트지 보여주기(Pie chart 사용)"
   ]
  },
  {
   "cell_type": "code",
   "execution_count": null,
   "id": "c529b255",
   "metadata": {},
   "outputs": [],
   "source": [
    "cate = ['제조업', '도금업', '채취업', '기타', '처리업', '건조업', '광업', '인쇄업', '생산업', '직조업', '도축업', '가공업', '제재업',\n",
    "        '도정업', '제분업', '조판업', '주조업', '제책업', '산업', '방적업',]\n",
    "data = [65.47, 92.83, 40.09, 17.57, 62.04, 90.76, 50.87, 77.74, 73.9, 93.38, 182.05, 66.74, 80.33, \n",
    "        51.02, 42.24, 62.18, 87.08, 99.39, 67.12, 82.07]\n",
    "\n",
    "# 차드 생성\n",
    "pie = Pie()\n",
    "\n",
    "pie.add('', [list(z) for z in zip(cate, data)],\n",
    "        radius=['30%', '70%'] # 30% ~ 70% 비우기\n",
    "       )\n",
    "pie.set_series_opts(label_opts=opts.LabelOpts(formatter='{b}: {d}%'))\n",
    "\n",
    "# 로컬에 렌더링\n",
    "pie.render_notebook()"
   ]
  },
  {
   "cell_type": "code",
   "execution_count": null,
   "id": "8c13cd72",
   "metadata": {},
   "outputs": [],
   "source": [
    "all_co2,all_gas=0,0\n",
    "for x in n:\n",
    "    for y in n[x]:\n",
    "        if y=='co2':\n",
    "            all_co2+=n[x][y]\n",
    "        elif y=='gas':\n",
    "            all_gas+=n[x][y]\n",
    "print(all_co2,all_gas)"
   ]
  },
  {
   "cell_type": "markdown",
   "id": "39a399ac",
   "metadata": {},
   "source": [
    "### 2016년도 백분율"
   ]
  },
  {
   "cell_type": "code",
   "execution_count": null,
   "id": "f731db34",
   "metadata": {},
   "outputs": [],
   "source": [
    "for x in n:\n",
    "    for y in n[x]:\n",
    "        if y=='co2':\n",
    "            n[x][y]/=all_co2/100\n",
    "        elif y=='gas':\n",
    "            n[x][y]/=all_gas/100\n",
    "        n[x][y]=round(n[x][y],3)\n",
    "for x in n:\n",
    "    del(n[x]['ch4'])\n",
    "    del(n[x]['no2'])\n",
    "print(n)"
   ]
  },
  {
   "cell_type": "markdown",
   "id": "55e7455f",
   "metadata": {},
   "source": [
    "### 2017년도"
   ]
  },
  {
   "cell_type": "code",
   "execution_count": null,
   "id": "fa653d7f",
   "metadata": {},
   "outputs": [],
   "source": [
    "z={}\n",
    "for i,(a,b,c,d,e,f) in enumerate(zip(df['표준산업분류명_대대범주'],df['이산화탄소_배출량'],df['메탄_배출량'],df['아산화질소_배출량'],df['온실가스_배출량'],df['대상연도'])):\n",
    "    if f!=2017:\n",
    "        continue\n",
    "    if not z.get(a):\n",
    "        z[a]={'co2':0,'ch4':0,'no2':0,'gas':0}\n",
    "    if b>0:\n",
    "        z[a]['co2']+=1\n",
    "    if c>0:\n",
    "        z[a]['ch4']+=1\n",
    "    if d>0:\n",
    "        z[a]['no2']+=1\n",
    "    if e>0:\n",
    "        z[a]['gas']+=1\n",
    "print(z)"
   ]
  },
  {
   "cell_type": "markdown",
   "id": "7273a6cd",
   "metadata": {},
   "source": [
    "### 업종 전체 배출량"
   ]
  },
  {
   "cell_type": "code",
   "execution_count": null,
   "id": "52cbe609",
   "metadata": {},
   "outputs": [],
   "source": [
    "n={}\n",
    "for id,(a,b,c,d,e,f) in enumerate(zip(df['표준산업분류명_대대범주'],df['이산화탄소_배출량'],df['메탄_배출량'],df['아산화질소_배출량'],df['온실가스_배출량'],df['대상연도'])):\n",
    "    if f!=2017:\n",
    "        continue\n",
    "    if n.get(a):\n",
    "        n[a]['co2']+=b\n",
    "        n[a]['ch4']+=c\n",
    "        n[a]['no2']+=d\n",
    "        n[a]['gas']+=e\n",
    "    else:\n",
    "        n[a]={'co2':b,'ch4':c,'no2':d,'gas':e}\n",
    "print(n) "
   ]
  },
  {
   "cell_type": "markdown",
   "id": "67983a17",
   "metadata": {},
   "source": [
    "### 회사당 배출량"
   ]
  },
  {
   "cell_type": "code",
   "execution_count": null,
   "id": "dab21668",
   "metadata": {},
   "outputs": [],
   "source": [
    "for x in n:\n",
    "    for y in n[x]:\n",
    "        n[x][y]/=z[x][y]\n",
    "        n[x][y]=round(n[x][y],2)\n",
    "#ch4, no2는 대부분 0이므로 예외처리하겠음.\n",
    "print(n)"
   ]
  },
  {
   "cell_type": "markdown",
   "id": "d5151ff2",
   "metadata": {},
   "source": [
    "### 2017년 업종별로 온실가스 배출량 몇 퍼센트지 보여주기 (Pie chart 사용)"
   ]
  },
  {
   "cell_type": "code",
   "execution_count": null,
   "id": "08192c84",
   "metadata": {},
   "outputs": [],
   "source": [
    "cate = ['제조업', '도금업', '채취업', '기타', '처리업', '건조업', '광업', '인쇄업', '생산업', '직조업', '도축업', '가공업', '제재업',\n",
    "        '도정업', '제분업', '조판업', '주조업', '제책업', '산업', '방적업',]\n",
    "data = [71.84, 124.66, 33.07, 79.85, 78.74, 62.36, 138.7, 58.96, 132.46, 97.66, 83.48, 79.17, 109.88, \n",
    "        66.32, 47.07, 41.37, 76.99, 54.05, 55.65, 68.13]\n",
    "\n",
    "\n",
    "\n",
    "# 차드 생성\n",
    "pie = Pie()\n",
    "\n",
    "pie.add('', [list(z) for z in zip(cate, data)],\n",
    "        radius=['30%', '70%'] # 30% ~ 70% 비우기\n",
    "       )\n",
    "pie.set_series_opts(label_opts=opts.LabelOpts(formatter='{b}: {d}%'))\n",
    "\n",
    "# 로컬에 렌더링\n",
    "pie.render_notebook()"
   ]
  },
  {
   "cell_type": "code",
   "execution_count": null,
   "id": "5d60e253",
   "metadata": {},
   "outputs": [],
   "source": [
    "all_co2,all_gas=0,0\n",
    "for x in n:\n",
    "    for y in n[x]:\n",
    "        if y=='co2':\n",
    "            all_co2+=n[x][y]\n",
    "        elif y=='gas':\n",
    "            all_gas+=n[x][y]\n",
    "print(all_co2,all_gas)"
   ]
  },
  {
   "cell_type": "markdown",
   "id": "01e73924",
   "metadata": {},
   "source": [
    "### 2017년도 백분율"
   ]
  },
  {
   "cell_type": "code",
   "execution_count": null,
   "id": "ad1ca486",
   "metadata": {},
   "outputs": [],
   "source": [
    "for x in n:\n",
    "    for y in n[x]:\n",
    "        if y=='co2':\n",
    "            n[x][y]/=all_co2/100\n",
    "        elif y=='gas':\n",
    "            n[x][y]/=all_gas/100\n",
    "        n[x][y]=round(n[x][y],3)\n",
    "for x in n:\n",
    "    del(n[x]['ch4'])\n",
    "    del(n[x]['no2'])\n",
    "print(n)"
   ]
  },
  {
   "cell_type": "markdown",
   "id": "dc17ce83",
   "metadata": {},
   "source": [
    "### 2018년도"
   ]
  },
  {
   "cell_type": "code",
   "execution_count": null,
   "id": "f7ebe685",
   "metadata": {},
   "outputs": [],
   "source": [
    "z={}\n",
    "for i,(a,b,c,d,e,f) in enumerate(zip(df['표준산업분류명_대대범주'],df['이산화탄소_배출량'],df['메탄_배출량'],df['아산화질소_배출량'],df['온실가스_배출량'],df['대상연도'])):\n",
    "    if f!=2018:\n",
    "        continue\n",
    "    if not z.get(a):\n",
    "        z[a]={'co2':0,'ch4':0,'no2':0,'gas':0}\n",
    "    if b>0:\n",
    "        z[a]['co2']+=1\n",
    "    if c>0:\n",
    "        z[a]['ch4']+=1\n",
    "    if d>0:\n",
    "        z[a]['no2']+=1\n",
    "    if e>0:\n",
    "        z[a]['gas']+=1\n",
    "print(z)"
   ]
  },
  {
   "cell_type": "markdown",
   "id": "e15bfd4a",
   "metadata": {},
   "source": [
    "### 업종 전체 배출량"
   ]
  },
  {
   "cell_type": "code",
   "execution_count": null,
   "id": "a7cfba22",
   "metadata": {},
   "outputs": [],
   "source": [
    "n={}\n",
    "for id,(a,b,c,d,e,f) in enumerate(zip(df['표준산업분류명_대대범주'],df['이산화탄소_배출량'],df['메탄_배출량'],df['아산화질소_배출량'],df['온실가스_배출량'],df['대상연도'])):\n",
    "    if f!=2018:\n",
    "        continue\n",
    "    if n.get(a):\n",
    "        n[a]['co2']+=b\n",
    "        n[a]['ch4']+=c\n",
    "        n[a]['no2']+=d\n",
    "        n[a]['gas']+=e\n",
    "    else:\n",
    "        n[a]={'co2':b,'ch4':c,'no2':d,'gas':e}\n",
    "print(n) "
   ]
  },
  {
   "cell_type": "markdown",
   "id": "4ed818c0",
   "metadata": {},
   "source": [
    "### 회사당 배출량"
   ]
  },
  {
   "cell_type": "code",
   "execution_count": null,
   "id": "21b21d69",
   "metadata": {},
   "outputs": [],
   "source": [
    "for x in n:\n",
    "    for y in n[x]:\n",
    "        n[x][y]/=z[x][y]\n",
    "        n[x][y]=round(n[x][y],2)\n",
    "#ch4, no2는 대부분 0이므로 예외처리하겠음.\n",
    "print(n)"
   ]
  },
  {
   "cell_type": "code",
   "execution_count": null,
   "id": "33a6451c",
   "metadata": {},
   "outputs": [],
   "source": [
    "all_co2,all_gas=0,0\n",
    "for x in n:\n",
    "    for y in n[x]:\n",
    "        if y=='co2':\n",
    "            all_co2+=n[x][y]\n",
    "        elif y=='gas':\n",
    "            all_gas+=n[x][y]\n",
    "print(all_co2,all_gas)"
   ]
  },
  {
   "cell_type": "markdown",
   "id": "e4e65496",
   "metadata": {},
   "source": [
    "### 2018년도 백분율"
   ]
  },
  {
   "cell_type": "code",
   "execution_count": null,
   "id": "9b9324c3",
   "metadata": {},
   "outputs": [],
   "source": [
    "for x in n:\n",
    "    for y in n[x]:\n",
    "        if y=='co2':\n",
    "            n[x][y]/=all_co2/100\n",
    "        elif y=='gas':\n",
    "            n[x][y]/=all_gas/100\n",
    "        n[x][y]=round(n[x][y],3)\n",
    "for x in n:\n",
    "    del(n[x]['ch4'])\n",
    "    del(n[x]['no2'])\n",
    "print(n)"
   ]
  },
  {
   "cell_type": "markdown",
   "id": "300be6c8",
   "metadata": {},
   "source": [
    "### 2018년 업종별로 온실가스 배출량 몇 퍼센트지 보여주기 (Pie chart 사용)"
   ]
  },
  {
   "cell_type": "code",
   "execution_count": null,
   "id": "a7deb6ad",
   "metadata": {},
   "outputs": [],
   "source": [
    "cate = ['제조업', '도금업', '채취업', '기타', '처리업', '건조업', '광업', '인쇄업', '생산업', '직조업', '도축업', '가공업', '제재업',\n",
    "        '도정업', '제분업', '조판업', '주조업', '제책업', '산업', '방적업',]\n",
    "data = [86.49, 134.82, 70.7, 75.15, 115.78, 137.76, 217.37, 69.78, 111.13, 120.78, 123.91, 117.5, 91.35, \n",
    "        99.62, 48.66, 146.91, 113.61, 83.25, 45.52, 48.05]\n",
    "\n",
    "# 차드 생성\n",
    "pie = Pie()\n",
    "\n",
    "pie.add('', [list(z) for z in zip(cate, data)],\n",
    "        radius=['30%', '70%'] # 30% ~ 50% 비우기\n",
    "       )\n",
    "pie.set_series_opts(label_opts=opts.LabelOpts(formatter='{b}: {d}%'))\n",
    "\n",
    "# 로컬에 렌더링\n",
    "pie.render_notebook()"
   ]
  },
  {
   "cell_type": "markdown",
   "id": "6ad06516",
   "metadata": {},
   "source": [
    "### 2019년도"
   ]
  },
  {
   "cell_type": "code",
   "execution_count": null,
   "id": "d2f39c09",
   "metadata": {},
   "outputs": [],
   "source": [
    "z={}\n",
    "for i,(a,b,c,d,e,f) in enumerate(zip(df['표준산업분류명_대대범주'],df['이산화탄소_배출량'],df['메탄_배출량'],df['아산화질소_배출량'],df['온실가스_배출량'],df['대상연도'])):\n",
    "    if f!=2019:\n",
    "        continue\n",
    "    if not z.get(a):\n",
    "        z[a]={'co2':0,'ch4':0,'no2':0,'gas':0}\n",
    "    if b>0:\n",
    "        z[a]['co2']+=1\n",
    "    if c>0:\n",
    "        z[a]['ch4']+=1\n",
    "    if d>0:\n",
    "        z[a]['no2']+=1\n",
    "    if e>0:\n",
    "        z[a]['gas']+=1\n",
    "print(z)"
   ]
  },
  {
   "cell_type": "markdown",
   "id": "9be6683f",
   "metadata": {},
   "source": [
    "### 업종 전체 배출량"
   ]
  },
  {
   "cell_type": "code",
   "execution_count": null,
   "id": "807fc6f8",
   "metadata": {},
   "outputs": [],
   "source": [
    "n={}\n",
    "for id,(a,b,c,d,e,f) in enumerate(zip(df['표준산업분류명_대대범주'],df['이산화탄소_배출량'],df['메탄_배출량'],df['아산화질소_배출량'],df['온실가스_배출량'],df['대상연도'])):\n",
    "    if f!=2019:\n",
    "        continue\n",
    "    if n.get(a):\n",
    "        n[a]['co2']+=b\n",
    "        n[a]['ch4']+=c\n",
    "        n[a]['no2']+=d\n",
    "        n[a]['gas']+=e\n",
    "    else:\n",
    "        n[a]={'co2':b,'ch4':c,'no2':d,'gas':e}\n",
    "print(n)"
   ]
  },
  {
   "cell_type": "markdown",
   "id": "5d2e774e",
   "metadata": {},
   "source": [
    "### 회사당 배출량"
   ]
  },
  {
   "cell_type": "code",
   "execution_count": null,
   "id": "95f2c596",
   "metadata": {},
   "outputs": [],
   "source": [
    "for x in n:\n",
    "    for y in n[x]:\n",
    "        n[x][y]/=z[x][y]\n",
    "        n[x][y]=round(n[x][y],2)\n",
    "#ch4, no2는 대부분 0이므로 예외처리하겠음.\n",
    "print(n)"
   ]
  },
  {
   "cell_type": "markdown",
   "id": "eb3ff309",
   "metadata": {},
   "source": [
    "### 2019년 업종별로 온실가스 배출량 몇 퍼센트지 보여주기 -> Pie chart 사용"
   ]
  },
  {
   "cell_type": "code",
   "execution_count": null,
   "id": "cb9fab97",
   "metadata": {},
   "outputs": [],
   "source": [
    "cate = ['제조업', '도금업', '채취업', '기타', '처리업', '건조업', '광업', '인쇄업', '생산업', '직조업', '도축업', '가공업', '제재업',\n",
    "        '도정업', '제분업', '조판업', '주조업', '제책업', '산업', '방적업',]\n",
    "data = [73.11, 137.51, 96.6, 30.91, 97.04, 40.71, 21.9, 52.45, 72.44, 65.78, 85.12, 99.61, 98.56, \n",
    "        61.33, 83.55, 26.7, 111.77, 72.42, 54.48, 95.94]\n",
    "\n",
    "# 차드 생성\n",
    "pie = Pie()\n",
    "\n",
    "pie.add('', [list(z) for z in zip(cate, data)],\n",
    "        radius=['30%', '70%'] # 30% ~ 50% 비우기\n",
    "       )\n",
    "pie.set_series_opts(label_opts=opts.LabelOpts(formatter='{b}: {d}%'))\n",
    "\n",
    "# 로컬에 렌더링\n",
    "pie.render_notebook()"
   ]
  },
  {
   "cell_type": "code",
   "execution_count": null,
   "id": "2e6ba4b4",
   "metadata": {},
   "outputs": [],
   "source": [
    "all_co2,all_gas=0,0\n",
    "for x in n:\n",
    "    for y in n[x]:\n",
    "        if y=='co2':\n",
    "            all_co2+=n[x][y]\n",
    "        elif y=='gas':\n",
    "            all_gas+=n[x][y]\n",
    "print(all_co2,all_gas)"
   ]
  },
  {
   "cell_type": "markdown",
   "id": "cf37c684",
   "metadata": {},
   "source": [
    "### 2019년도 백분율"
   ]
  },
  {
   "cell_type": "code",
   "execution_count": null,
   "id": "a10b27d6",
   "metadata": {},
   "outputs": [],
   "source": [
    "for x in n:\n",
    "    for y in n[x]:\n",
    "        if y=='co2':\n",
    "            n[x][y]/=all_co2/100\n",
    "        elif y=='gas':\n",
    "            n[x][y]/=all_gas/100\n",
    "        n[x][y]=round(n[x][y],3)\n",
    "for x in n:\n",
    "    del(n[x]['ch4'])\n",
    "    del(n[x]['no2'])\n",
    "print(n)"
   ]
  },
  {
   "cell_type": "markdown",
   "id": "93b98250",
   "metadata": {},
   "source": [
    "## 2016년도 에너지원명별 백분율로 전환 후 시각화 진행"
   ]
  },
  {
   "cell_type": "code",
   "execution_count": null,
   "id": "6037175b",
   "metadata": {},
   "outputs": [],
   "source": [
    "n={}\n",
    "co2,ch4,no2,gas={},{},{},{}\n",
    "for i,(a,b,c,d,e,f) in enumerate(zip(df['에너지원명'],df['이산화탄소_배출량'],df['메탄_배출량'],df['아산화질소_배출량'],df['온실가스_배출량'],df['대상연도'])):\n",
    "    if f!=2016:\n",
    "        continue\n",
    "    if not n.get(a):\n",
    "        n[a]={'co2':0,'ch4':0,'no2':0,'gas':0}\n",
    "    if b>0:\n",
    "        n[a]['co2']+=1\n",
    "    if c>0:\n",
    "        n[a]['ch4']+=1\n",
    "    if d>0:\n",
    "        n[a]['no2']+=1\n",
    "    if e>0:\n",
    "        n[a]['gas']+=1\n",
    "print(n)\n",
    "for i,(a,b,c,d,e,f) in enumerate(zip(df['에너지원명'],df['이산화탄소_배출량'],df['메탄_배출량'],df['아산화질소_배출량'],df['온실가스_배출량'],df['대상연도'])):\n",
    "    if f!=2016:\n",
    "        continue\n",
    "    if co2.get(a):\n",
    "        co2[a]+=b\n",
    "        ch4[a]+=c\n",
    "        no2[a]+=d\n",
    "        gas[a]+=e\n",
    "    else:\n",
    "        co2[a]=b\n",
    "        ch4[a]=c\n",
    "        no2[a]=d\n",
    "        gas[a]=e"
   ]
  },
  {
   "cell_type": "code",
   "execution_count": null,
   "id": "775ace51",
   "metadata": {},
   "outputs": [],
   "source": [
    "for i in co2:\n",
    "    co2[i]/=n[i]['co2']\n",
    "for i in ch4:\n",
    "    ch4[i]/=n[i]['ch4']\n",
    "for i in no2:\n",
    "    no2[i]/=n[i]['no2']\n",
    "for i in gas:\n",
    "    gas[i]/=n[i]['gas']\n",
    "#배출량이 0이 아닌 회사들을 제외한 값\n",
    "print(co2)\n",
    "print(ch4)\n",
    "print(no2)\n",
    "print(gas)"
   ]
  },
  {
   "cell_type": "code",
   "execution_count": null,
   "id": "ef5e3f3c",
   "metadata": {},
   "outputs": [],
   "source": [
    "#백분율\n",
    "sum_co2=sum(co2.values())\n",
    "sum_ch4=sum(ch4.values())\n",
    "sum_no2=sum(no2.values())\n",
    "sum_gas=sum(gas.values())\n",
    "for i in co2:\n",
    "    co2[i]/=sum_co2/100\n",
    "for i in ch4:\n",
    "    ch4[i]/=sum_ch4/100\n",
    "for i in no2:\n",
    "    no2[i]/=sum_no2/100\n",
    "for i in gas:\n",
    "    gas[i]/=sum_gas/100"
   ]
  },
  {
   "cell_type": "code",
   "execution_count": null,
   "id": "0fc73cf6",
   "metadata": {},
   "outputs": [],
   "source": [
    "#2016 백분율\n",
    "print(co2)\n",
    "print(ch4)\n",
    "print(no2)\n",
    "print(gas)"
   ]
  },
  {
   "cell_type": "code",
   "execution_count": null,
   "id": "1651729f",
   "metadata": {},
   "outputs": [],
   "source": [
    "from pyecharts.globals import ThemeType\n",
    "from pyecharts.charts import Bar\n",
    "\n",
    "dir(ThemeType)"
   ]
  },
  {
   "cell_type": "markdown",
   "id": "19c7cad3",
   "metadata": {},
   "source": [
    "### 2016 에너지원별 백분율 시각화하기 "
   ]
  },
  {
   "cell_type": "code",
   "execution_count": null,
   "id": "9ca77bf6",
   "metadata": {},
   "outputs": [],
   "source": [
    "case = ['경유', '프로판', 'B-C유', 'LNG', 'LPG', '등유', '열에너지', '전력', '휘발유', '기타', '연탄', '부탄']\n",
    "data1 = [6.28, 6.73, 10.90, 10.64, 10.18, 4.98, 10.40, 19.46, 2.46, 13.70, 1.71, 2.58]\n",
    "data2 = [6.55, 2.69, 11.17, 4.89, 4.07, 5.35, 34.95, 5.69 ,2.59, 17.08, 3.94, 1.00]\n",
    "data3 = [7.76, 1.60, 13.21, 2.89, 2.40, 6.33, 16.86, 25.91, 3.07, 15.83, 3.49, 0.59]\n",
    "data4 = [6.28, 6.73, 10.90, 10.64, 10.18, 4.98, 10.40, 19.46, 2.46, 13.70, 1.71, 2.58]\n",
    "\n",
    "# 차트 생성\n",
    "bar = Bar(init_opts=opts.InitOpts(theme=ThemeType.DARK)) # 테마 설정\n",
    "bar.add_xaxis(case)\n",
    "bar.add_yaxis('co2', data1)\n",
    "bar.add_yaxis('ch4', data2)\n",
    "bar.add_yaxis('no2', data3)\n",
    "bar.add_yaxis('gas', data4)\n",
    "\n",
    "\n",
    "bar.set_series_opts(label_opts=opts.LabelOpts(is_show=False),\n",
    "                        markpoint_opts=opts.MarkPointOpts(data=[opts.MarkPointItem(type_=\"max\"),]))\n",
    "bar.set_global_opts(title_opts=opts.TitleOpts(title=\"2016년 에너지원별(백분율) 배출량\"))\n",
    "\n",
    "\n",
    "bar.render_notebook()"
   ]
  },
  {
   "cell_type": "markdown",
   "id": "92a632c2",
   "metadata": {},
   "source": [
    "## 2017년도 에너지원명별 백분율로 전환 후 시각화 진행"
   ]
  },
  {
   "cell_type": "code",
   "execution_count": null,
   "id": "14db252a",
   "metadata": {},
   "outputs": [],
   "source": [
    "n={}\n",
    "co2,ch4,no2,gas={},{},{},{}\n",
    "for i,(a,b,c,d,e,f) in enumerate(zip(df['에너지원명'],df['이산화탄소_배출량'],df['메탄_배출량'],df['아산화질소_배출량'],df['온실가스_배출량'],df['대상연도'])):\n",
    "    if f!=2017:\n",
    "        continue\n",
    "    if not n.get(a):\n",
    "        n[a]={'co2':0,'ch4':0,'no2':0,'gas':0}\n",
    "    if b>0:\n",
    "        n[a]['co2']+=1\n",
    "    if c>0:\n",
    "        n[a]['ch4']+=1\n",
    "    if d>0:\n",
    "        n[a]['no2']+=1\n",
    "    if e>0:\n",
    "        n[a]['gas']+=1\n",
    "print(n)\n",
    "for i,(a,b,c,d,e,f) in enumerate(zip(df['에너지원명'],df['이산화탄소_배출량'],df['메탄_배출량'],df['아산화질소_배출량'],df['온실가스_배출량'],df['대상연도'])):\n",
    "    if f!=2017:\n",
    "        continue\n",
    "    if co2.get(a):\n",
    "        co2[a]+=b\n",
    "        ch4[a]+=c\n",
    "        no2[a]+=d\n",
    "        gas[a]+=e\n",
    "    else:\n",
    "        co2[a]=b\n",
    "        ch4[a]=c\n",
    "        no2[a]=d\n",
    "        gas[a]=e"
   ]
  },
  {
   "cell_type": "code",
   "execution_count": null,
   "id": "26685da2",
   "metadata": {},
   "outputs": [],
   "source": [
    "for i in co2:\n",
    "    co2[i]/=n[i]['co2']\n",
    "for i in ch4:\n",
    "    ch4[i]/=n[i]['ch4']\n",
    "for i in no2:\n",
    "    no2[i]/=n[i]['no2']\n",
    "for i in gas:\n",
    "    gas[i]/=n[i]['gas']\n",
    "#배출량이 0이 아닌 회사들을 제외한 값\n",
    "print(co2)\n",
    "print(ch4)\n",
    "print(no2)\n",
    "print(gas)"
   ]
  },
  {
   "cell_type": "code",
   "execution_count": null,
   "id": "5ab39a7f",
   "metadata": {},
   "outputs": [],
   "source": [
    "#백분율\n",
    "sum_co2=sum(co2.values())\n",
    "sum_ch4=sum(ch4.values())\n",
    "sum_no2=sum(no2.values())\n",
    "sum_gas=sum(gas.values())\n",
    "for i in co2:\n",
    "    co2[i]/=sum_co2/100\n",
    "for i in ch4:\n",
    "    ch4[i]/=sum_ch4/100\n",
    "for i in no2:\n",
    "    no2[i]/=sum_no2/100\n",
    "for i in gas:\n",
    "    gas[i]/=sum_gas/100"
   ]
  },
  {
   "cell_type": "code",
   "execution_count": null,
   "id": "23fdb686",
   "metadata": {},
   "outputs": [],
   "source": [
    "#2017 백분율\n",
    "print(co2)\n",
    "print(ch4)\n",
    "print(no2)\n",
    "print(gas)"
   ]
  },
  {
   "cell_type": "markdown",
   "id": "cf59e142",
   "metadata": {},
   "source": [
    "### 2017 에너지원별 백분율 시각화하기 "
   ]
  },
  {
   "cell_type": "code",
   "execution_count": null,
   "id": "f2e22fdd",
   "metadata": {},
   "outputs": [],
   "source": [
    "case = ['경유', '프로판', 'B-C유', 'LNG', 'LPG', '등유', '열에너지', '전력', '휘발유', '기타', '연탄', '부탄']\n",
    "data1_2 = [4.33, 5.38, 21.75, 7.48, 6.36, 1.38, 4.23, 17.29, 1.00, 25.86, 2.62, 2.27]\n",
    "data2_2 = [5.60, 2.64, 25.77, 4.24, 3.12, 1.80, 17.53, 6.23 ,1.33, 23.08, 7.52, 1.08]\n",
    "data3_2 = [6.34, 1.53, 29.16, 2.40, 1.76, 2.04, 8.09, 27.11, 1.50, 13.02, 6.38, 0.61]\n",
    "data4_2 = [4.34, 5.37, 21.76, 7.47, 6.35, 1.38, 4.24, 17.30, 1.00, 25.83, 2.63, 2.27]\n",
    "\n",
    "# 차트 생성\n",
    "bar = Bar(init_opts=opts.InitOpts(theme=ThemeType.DARK)) # 테마 설정\n",
    "bar.add_xaxis(case)\n",
    "bar.add_yaxis('co2', data1_2)\n",
    "bar.add_yaxis('ch4', data2_2)\n",
    "bar.add_yaxis('no2', data3_2)\n",
    "bar.add_yaxis('gas', data4_2)\n",
    "\n",
    "\n",
    "bar.set_series_opts(label_opts=opts.LabelOpts(is_show=False),\n",
    "                        markpoint_opts=opts.MarkPointOpts(data=[opts.MarkPointItem(type_=\"max\"),]))\n",
    "bar.set_global_opts(title_opts=opts.TitleOpts(title=\"2017년 에너지원별(백분율) 배출량\"))\n",
    "\n",
    "\n",
    "bar.render_notebook()"
   ]
  },
  {
   "cell_type": "markdown",
   "id": "974cb58d",
   "metadata": {},
   "source": [
    "## 2018년도 에너지원명별 백분율로 전환 후 시각화 진행"
   ]
  },
  {
   "cell_type": "code",
   "execution_count": null,
   "id": "10caa174",
   "metadata": {},
   "outputs": [],
   "source": [
    "n={}\n",
    "co2,ch4,no2,gas={},{},{},{}\n",
    "for i,(a,b,c,d,e,f) in enumerate(zip(df['에너지원명'],df['이산화탄소_배출량'],df['메탄_배출량'],df['아산화질소_배출량'],df['온실가스_배출량'],df['대상연도'])):\n",
    "    if f!=2018:\n",
    "        continue\n",
    "    if not n.get(a):\n",
    "        n[a]={'co2':0,'ch4':0,'no2':0,'gas':0}\n",
    "    if b>0:\n",
    "        n[a]['co2']+=1\n",
    "    if c>0:\n",
    "        n[a]['ch4']+=1\n",
    "    if d>0:\n",
    "        n[a]['no2']+=1\n",
    "    if e>0:\n",
    "        n[a]['gas']+=1\n",
    "print(n)\n",
    "for i,(a,b,c,d,e,f) in enumerate(zip(df['에너지원명'],df['이산화탄소_배출량'],df['메탄_배출량'],df['아산화질소_배출량'],df['온실가스_배출량'],df['대상연도'])):\n",
    "    if f!=2018:\n",
    "        continue\n",
    "    if co2.get(a):\n",
    "        co2[a]+=b\n",
    "        ch4[a]+=c\n",
    "        no2[a]+=d\n",
    "        gas[a]+=e\n",
    "    else:\n",
    "        co2[a]=b\n",
    "        ch4[a]=c\n",
    "        no2[a]=d\n",
    "        gas[a]=e"
   ]
  },
  {
   "cell_type": "code",
   "execution_count": null,
   "id": "9d397af0",
   "metadata": {},
   "outputs": [],
   "source": [
    "for i in co2:\n",
    "    co2[i]/=n[i]['co2']\n",
    "for i in ch4:\n",
    "    ch4[i]/=n[i]['ch4']\n",
    "for i in no2:\n",
    "    no2[i]/=n[i]['no2']\n",
    "for i in gas:\n",
    "    gas[i]/=n[i]['gas']\n",
    "#배출량이 0이 아닌 회사들을 제외한 값\n",
    "print(co2)\n",
    "print(ch4)\n",
    "print(no2)\n",
    "print(gas)"
   ]
  },
  {
   "cell_type": "code",
   "execution_count": null,
   "id": "6014950c",
   "metadata": {},
   "outputs": [],
   "source": [
    "#백분율\n",
    "sum_co2=sum(co2.values())\n",
    "sum_ch4=sum(ch4.values())\n",
    "sum_no2=sum(no2.values())\n",
    "sum_gas=sum(gas.values())\n",
    "for i in co2:\n",
    "    co2[i]/=sum_co2/100\n",
    "for i in ch4:\n",
    "    ch4[i]/=sum_ch4/100\n",
    "for i in no2:\n",
    "    no2[i]/=sum_no2/100\n",
    "for i in gas:\n",
    "    gas[i]/=sum_gas/100"
   ]
  },
  {
   "cell_type": "code",
   "execution_count": null,
   "id": "4b24d22a",
   "metadata": {},
   "outputs": [],
   "source": [
    "#2018 백분율\n",
    "print(co2)\n",
    "print(ch4)\n",
    "print(no2)\n",
    "print(gas)"
   ]
  },
  {
   "cell_type": "markdown",
   "id": "4f78467e",
   "metadata": {},
   "source": [
    "### 2018 에너지원별 백분율 시각화하기 "
   ]
  },
  {
   "cell_type": "code",
   "execution_count": null,
   "id": "115897d9",
   "metadata": {},
   "outputs": [],
   "source": [
    "case = ['경유', '프로판', 'B-C유', 'LNG', 'LPG', '등유', '열에너지', '전력', '휘발유', '기타', '연탄', '부탄']\n",
    "data1 = [5.18, 7.02, 19.94, 7.52, 8.29, 3.84, 6.11, 17.20, 6.40, 12.31, 2.44, 3.69]\n",
    "data2 = [7.15, 3.68, 25.22, 4.55, 4.34, 5.34, 12.90, 4.59, 9.09, 13.73, 7.47, 1.88]\n",
    "data3 = [5.22, 1.35, 18.43, 1.66, 1.58, 3.90, 6.96, 39.65, 6.64, 9.76, 4.09, 0.68]\n",
    "data4 = [5.18, 7.00, 19.94, 7.51, 8.27, 3.84, 6.11, 17.25, 6.41, 12.30, 2.44, 3.69]\n",
    "\n",
    "# 차트 생성\n",
    "bar = Bar(init_opts=opts.InitOpts(theme=ThemeType.DARK)) # 테마 설정\n",
    "bar.add_xaxis(case)\n",
    "bar.add_yaxis('co2', data1)\n",
    "bar.add_yaxis('ch4', data2)\n",
    "bar.add_yaxis('no2', data3)\n",
    "bar.add_yaxis('gas', data4)\n",
    "\n",
    "\n",
    "bar.set_series_opts(label_opts=opts.LabelOpts(is_show=False),\n",
    "                        markpoint_opts=opts.MarkPointOpts(data=[opts.MarkPointItem(type_=\"max\"),]))\n",
    "bar.set_global_opts(title_opts=opts.TitleOpts(title=\"2018년 에너지원별(백분율) 배출량\"))\n",
    "\n",
    "\n",
    "bar.render_notebook()"
   ]
  },
  {
   "cell_type": "markdown",
   "id": "82987f8e",
   "metadata": {},
   "source": [
    "## 2019년도 에너지원명별 백분율로 전환 후 시각화 진행"
   ]
  },
  {
   "cell_type": "code",
   "execution_count": null,
   "id": "b1991f3a",
   "metadata": {},
   "outputs": [],
   "source": [
    "n={}\n",
    "co2,ch4,no2,gas={},{},{},{}\n",
    "for i,(a,b,c,d,e,f) in enumerate(zip(df['에너지원명'],df['이산화탄소_배출량'],df['메탄_배출량'],df['아산화질소_배출량'],df['온실가스_배출량'],df['대상연도'])):\n",
    "    if f!=2019:\n",
    "        continue\n",
    "    if not n.get(a):\n",
    "        n[a]={'co2':0,'ch4':0,'no2':0,'gas':0}\n",
    "    if b>0:\n",
    "        n[a]['co2']+=1\n",
    "    if c>0:\n",
    "        n[a]['ch4']+=1\n",
    "    if d>0:\n",
    "        n[a]['no2']+=1\n",
    "    if e>0:\n",
    "        n[a]['gas']+=1\n",
    "print(n)\n",
    "for i,(a,b,c,d,e,f) in enumerate(zip(df['에너지원명'],df['이산화탄소_배출량'],df['메탄_배출량'],df['아산화질소_배출량'],df['온실가스_배출량'],df['대상연도'])):\n",
    "    if f!=2019:\n",
    "        continue\n",
    "    if co2.get(a):\n",
    "        co2[a]+=b\n",
    "        ch4[a]+=c\n",
    "        no2[a]+=d\n",
    "        gas[a]+=e\n",
    "    else:\n",
    "        co2[a]=b\n",
    "        ch4[a]=c\n",
    "        no2[a]=d\n",
    "        gas[a]=e"
   ]
  },
  {
   "cell_type": "code",
   "execution_count": null,
   "id": "2957aba0",
   "metadata": {},
   "outputs": [],
   "source": [
    "for i in co2:\n",
    "    co2[i]/=n[i]['co2']\n",
    "for i in ch4:\n",
    "    ch4[i]/=n[i]['ch4']\n",
    "for i in no2:\n",
    "    no2[i]/=n[i]['no2']\n",
    "for i in gas:\n",
    "    gas[i]/=n[i]['gas']\n",
    "#배출량이 0이 아닌 회사들을 제외한 값\n",
    "print(co2)\n",
    "print(ch4)\n",
    "print(no2)\n",
    "print(gas)"
   ]
  },
  {
   "cell_type": "code",
   "execution_count": null,
   "id": "bad2bb5e",
   "metadata": {},
   "outputs": [],
   "source": [
    "#백분율\n",
    "sum_co2=sum(co2.values())\n",
    "sum_ch4=sum(ch4.values())\n",
    "sum_no2=sum(no2.values())\n",
    "sum_gas=sum(gas.values())\n",
    "for i in co2:\n",
    "    co2[i]/=sum_co2/100\n",
    "for i in ch4:\n",
    "    ch4[i]/=sum_ch4/100\n",
    "for i in no2:\n",
    "    no2[i]/=sum_no2/100\n",
    "for i in gas:\n",
    "    gas[i]/=sum_gas/100"
   ]
  },
  {
   "cell_type": "code",
   "execution_count": null,
   "id": "df96893c",
   "metadata": {},
   "outputs": [],
   "source": [
    "#2019 백분율\n",
    "print(co2)\n",
    "print(ch4)\n",
    "print(no2)\n",
    "print(gas)"
   ]
  },
  {
   "cell_type": "markdown",
   "id": "303bcfb7",
   "metadata": {},
   "source": [
    "### 2019 에너지원별 백분율 시각화하기 "
   ]
  },
  {
   "cell_type": "code",
   "execution_count": null,
   "id": "24782b2e",
   "metadata": {},
   "outputs": [],
   "source": [
    "case = ['경유', '프로판', 'B-C유', 'LNG', 'LPG', '등유', '열에너지', '전력', '휘발유', '기타', '연탄', '부탄']\n",
    "data1 = [5.98, 7.24, 13.26, 9.65, 9.55, 2.09, 3.73, 28.93, 2.11, 10.40, 3.79, 3.19]\n",
    "data2 = [9.49, 4.36, 19.31, 6.72, 5.76, 3.35, 9.07, 8.89, 3.45, 14.29, 13.37, 1.87]\n",
    "data3 = [5.30, 1.22, 10.79, 1.88, 1.61, 1.87, 3.75, 58.72, 1.93, 6.75, 5.60, 0.52]\n",
    "data4 = [5.98, 7.22, 13.26, 9.63, 9.52, 2.09, 3.74, 29.01, 2.11, 10.39, 3.80, 3.19]\n",
    "\n",
    "# 차트 생성\n",
    "bar = Bar(init_opts=opts.InitOpts(theme=ThemeType.DARK)) # 테마 설정\n",
    "bar.add_xaxis(case)\n",
    "bar.add_yaxis('co2', data1)\n",
    "bar.add_yaxis('ch4', data2)\n",
    "bar.add_yaxis('no2', data3)\n",
    "bar.add_yaxis('gas', data4)\n",
    "\n",
    "\n",
    "bar.set_series_opts(label_opts=opts.LabelOpts(is_show=False),\n",
    "                        markpoint_opts=opts.MarkPointOpts(data=[opts.MarkPointItem(type_=\"max\"),]))\n",
    "bar.set_global_opts(title_opts=opts.TitleOpts(title=\"2019년 에너지원별(백분율) 배출량\"))\n",
    "\n",
    "\n",
    "bar.render_notebook()"
   ]
  }
 ],
 "metadata": {
  "kernelspec": {
   "display_name": "Python 3 (ipykernel)",
   "language": "python",
   "name": "python3"
  },
  "language_info": {
   "codemirror_mode": {
    "name": "ipython",
    "version": 3
   },
   "file_extension": ".py",
   "mimetype": "text/x-python",
   "name": "python",
   "nbconvert_exporter": "python",
   "pygments_lexer": "ipython3",
   "version": "3.9.7"
  }
 },
 "nbformat": 4,
 "nbformat_minor": 5
}
