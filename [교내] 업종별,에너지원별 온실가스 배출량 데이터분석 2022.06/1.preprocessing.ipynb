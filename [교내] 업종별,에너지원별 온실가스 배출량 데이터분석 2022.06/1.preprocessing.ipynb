{
 "cells": [
  {
   "cell_type": "code",
   "execution_count": null,
   "id": "17808c0e",
   "metadata": {},
   "outputs": [],
   "source": [
    "import random\n",
    "import pandas as pd\n",
    "import numpy as np"
   ]
  },
  {
   "cell_type": "code",
   "execution_count": null,
   "id": "5f5565b6",
   "metadata": {},
   "outputs": [],
   "source": [
    "df=pd.read_csv('data/업종별오염물질배출현황(2013-2019).csv',index_col='WRKPLC_FANM')"
   ]
  },
  {
   "cell_type": "code",
   "execution_count": null,
   "id": "e3f72178",
   "metadata": {},
   "outputs": [],
   "source": [
    "df.head()"
   ]
  },
  {
   "cell_type": "code",
   "execution_count": null,
   "id": "e2d1c624",
   "metadata": {},
   "outputs": [],
   "source": [
    "col={'CO2_EMSN_QNTY_NIDVAL':'이산화탄소_배출량','TRGT_YEAR':'대상연도','ENGSRC_NM':'에너지원명',\n",
    "    'ENGSRC_DVSN_NM':'에너지원구분명','WRKPLC_FANM':'사업장가명','WIDM_LOCL_NM':'광역지역명',\n",
    "    'WRKPLC_WRKR_VOL_NM':'사업장_종사자규모명','KSIC_CD':'표준산업분류코드','KSIC_NM':'표준산업분류명',\n",
    "    'CO2_EMSN_QNTY_NIDVAL':'이산화탄소_배출량','CO2_EMSN_QNTY_YN':'이산화탄소_배출량_구분',\n",
    "    'CH4_EMSN_QNTY_NIDVAL':'메탄_배출량','CH4_EMSN_QNTY_YN':'메탄_배출량_구분','N2O_EMSN_QNTY_NIDVAL':'아산화질소_배출량',\n",
    "    'N2O_EMSN_QNTY_YN':'아산화질소_배출량_구분','GHG_EMSN_QNTY_NIDVAL':'온실가스_배출량','GHG_EMSN_QNTY_YN':'온실가스_배출량_구분'}\n",
    "df=df.rename(columns=col)\n",
    "df.info()"
   ]
  },
  {
   "cell_type": "code",
   "execution_count": null,
   "id": "061c2971",
   "metadata": {},
   "outputs": [],
   "source": [
    "df['이산화탄소_배출량'].describe()"
   ]
  },
  {
   "cell_type": "code",
   "execution_count": null,
   "id": "c3be6fed",
   "metadata": {},
   "outputs": [],
   "source": [
    "df['메탄_배출량']=df['메탄_배출량'].str.replace('-','0')\n",
    "df['메탄_배출량']=df['메탄_배출량'].astype('float')\n",
    "\n",
    "df['아산화질소_배출량']=df['아산화질소_배출량'].str.replace('-','0')\n",
    "df['아산화질소_배출량']=df['아산화질소_배출량'].astype('float')"
   ]
  },
  {
   "cell_type": "code",
   "execution_count": null,
   "id": "3c048715",
   "metadata": {},
   "outputs": [],
   "source": [
    "df=df.reset_index(drop=True)"
   ]
  },
  {
   "cell_type": "code",
   "execution_count": null,
   "id": "8d6e6e29",
   "metadata": {},
   "outputs": [],
   "source": [
    "df=df[['대상연도','에너지원명','에너지원구분명','광역지역명','사업장_종사자규모명','표준산업분류코드','표준산업분류명','이산화탄소_배출량','이산화탄소_배출량_구분','메탄_배출량','메탄_배출량_구분','아산화질소_배출량','아산화질소_배출량_구분','온실가스_배출량','온실가스_배출량_구분']]"
   ]
  },
  {
   "cell_type": "code",
   "execution_count": null,
   "id": "4f4e70bd",
   "metadata": {},
   "outputs": [],
   "source": [
    "df['온실가스_배출량']=df['온실가스_배출량'].str.replace('-','0')\n",
    "df['온실가스_배출량']=df['온실가스_배출량'].astype('float')"
   ]
  },
  {
   "cell_type": "code",
   "execution_count": null,
   "id": "86b8d61f",
   "metadata": {},
   "outputs": [],
   "source": [
    "df['광역지역명'].unique()"
   ]
  },
  {
   "cell_type": "code",
   "execution_count": null,
   "id": "e81df44e",
   "metadata": {},
   "outputs": [],
   "source": [
    "local={'경북':'경상도','경남':'경상도','충남':'충청도','충북':'충청도','전북':'전라도','전남':'전라도','경기':'경기도','강원':'강원도'}"
   ]
  },
  {
   "cell_type": "code",
   "execution_count": null,
   "id": "b0fc39cb",
   "metadata": {},
   "outputs": [],
   "source": [
    "n=[]\n",
    "for i,a in enumerate(df['광역지역명']):\n",
    "    if local.get(a):\n",
    "        n.append(local[a])\n",
    "    else:\n",
    "        n.append(a)"
   ]
  },
  {
   "cell_type": "code",
   "execution_count": null,
   "id": "ae9a9d32",
   "metadata": {},
   "outputs": [],
   "source": [
    "df.insert(4,'지역명_대분류',n)"
   ]
  },
  {
   "cell_type": "code",
   "execution_count": null,
   "id": "10195b11",
   "metadata": {},
   "outputs": [],
   "source": [
    "df['지역명_대분류'].value_counts()"
   ]
  },
  {
   "cell_type": "code",
   "execution_count": null,
   "id": "250aaad6",
   "metadata": {},
   "outputs": [],
   "source": [
    "energy_etc=['기타가스(부생·정제가스 포함)','기타연료','기타석유','B-A유(경질중유)','부생연료1호','B-B유(중유)','갈탄(조개탄)',\n",
    "           '석유코크스','부생연료2호','기타석탄','코크스가스','국내무연탄','석탄코크스','천연가스(LNG)','윤활유']"
   ]
  },
  {
   "cell_type": "code",
   "execution_count": null,
   "id": "74747242",
   "metadata": {},
   "outputs": [],
   "source": [
    "n=[]\n",
    "for i,a in enumerate(df['에너지원명']):\n",
    "    if a in energy_etc:\n",
    "        n.append('기타')\n",
    "    else:\n",
    "        n.append(a)\n",
    "df['에너지원명']=n"
   ]
  },
  {
   "cell_type": "markdown",
   "id": "7ec2e882",
   "metadata": {},
   "source": [
    "## 지역별 탄소 배출량 %"
   ]
  },
  {
   "cell_type": "markdown",
   "id": "52bc0c77",
   "metadata": {},
   "source": [
    "### 이산화탄소"
   ]
  },
  {
   "cell_type": "code",
   "execution_count": null,
   "id": "1e853176",
   "metadata": {},
   "outputs": [],
   "source": [
    "co2={}\n",
    "for i,(a,b) in enumerate(zip(df['지역명_대분류'],df['이산화탄소_배출량'])):\n",
    "    if co2.get(a):\n",
    "        co2[a]+=b\n",
    "    else:\n",
    "        co2[a]=b\n",
    "total_co2=sum(co2.values())\n",
    "for x in co2:\n",
    "    co2[x]/=total_co2/100\n",
    "    co2[x]=round(co2[x],3)\n",
    "print(co2)"
   ]
  },
  {
   "cell_type": "markdown",
   "id": "1329ac71",
   "metadata": {},
   "source": [
    "### 메탄"
   ]
  },
  {
   "cell_type": "code",
   "execution_count": null,
   "id": "b9a40362",
   "metadata": {},
   "outputs": [],
   "source": [
    "ch4={}\n",
    "for i,(a,b) in enumerate(zip(df['지역명_대분류'],df['메탄_배출량'])):\n",
    "    if ch4.get(a):\n",
    "        ch4[a]+=b\n",
    "    else:\n",
    "        ch4[a]=b\n",
    "total_ch4=sum(ch4.values())\n",
    "for x in ch4:\n",
    "    ch4[x]/=total_ch4/100\n",
    "    ch4[x]=round(ch4[x],3)\n",
    "print(ch4)"
   ]
  },
  {
   "cell_type": "markdown",
   "id": "0aa45b97",
   "metadata": {},
   "source": [
    "### 이산화질소"
   ]
  },
  {
   "cell_type": "code",
   "execution_count": null,
   "id": "331c0e7a",
   "metadata": {},
   "outputs": [],
   "source": [
    "n2o={}\n",
    "for i,(a,b) in enumerate(zip(df['지역명_대분류'],df['아산화질소_배출량'])):\n",
    "    if n2o.get(a):\n",
    "        n2o[a]+=b\n",
    "    else:\n",
    "        n2o[a]=b\n",
    "total_n2o=sum(n2o.values())\n",
    "for x in n2o:\n",
    "    n2o[x]/=total_n2o/100\n",
    "    n2o[x]=round(n2o[x],3)\n",
    "print(n2o)"
   ]
  },
  {
   "cell_type": "markdown",
   "id": "e636f8f4",
   "metadata": {},
   "source": [
    "### 온실가스"
   ]
  },
  {
   "cell_type": "code",
   "execution_count": null,
   "id": "6c6430ab",
   "metadata": {},
   "outputs": [],
   "source": [
    "gas={}\n",
    "for i,(a,b) in enumerate(zip(df['지역명_대분류'],df['온실가스_배출량'])):\n",
    "    if gas.get(a):\n",
    "        gas[a]+=b\n",
    "    else:\n",
    "        gas[a]=b\n",
    "total_gas=sum(gas.values())\n",
    "for x in n2o:\n",
    "    gas[x]/=total_gas/100\n",
    "    gas[x]=round(gas[x],3)\n",
    "print(gas)"
   ]
  },
  {
   "cell_type": "markdown",
   "id": "c7eda556",
   "metadata": {},
   "source": [
    "### 전체 지역"
   ]
  },
  {
   "cell_type": "code",
   "execution_count": null,
   "id": "b9c2fea2",
   "metadata": {},
   "outputs": [],
   "source": [
    "total_region={'이산화탄소':co2,'메탄':ch4,'아산화질소':n2o,'온실가스':gas}\n",
    "print(total_region)"
   ]
  },
  {
   "cell_type": "markdown",
   "id": "fab09631",
   "metadata": {},
   "source": [
    "### 전체 에너지원명 개수"
   ]
  },
  {
   "cell_type": "code",
   "execution_count": null,
   "id": "9b2dbc5f",
   "metadata": {},
   "outputs": [],
   "source": [
    "df['에너지원명'].value_counts()\n",
    "n={}\n",
    "for i,x in enumerate(df['에너지원명']):\n",
    "    if n.get(x):\n",
    "        n[x]+=1\n",
    "    else:\n",
    "        n[x]=1\n",
    "print(n)"
   ]
  },
  {
   "cell_type": "markdown",
   "id": "ba07f180",
   "metadata": {},
   "source": [
    "### 배출량 총합"
   ]
  },
  {
   "cell_type": "code",
   "execution_count": null,
   "id": "a99677bf",
   "metadata": {},
   "outputs": [],
   "source": [
    "co2,ch4,no2,gas={},{},{},{}\n",
    "total_co2=df['이산화탄소_배출량'].sum()\n",
    "total_ch4=df['메탄_배출량'].sum()\n",
    "total_no2=df['아산화질소_배출량'].sum()\n",
    "total_gas=df['온실가스_배출량'].sum()\n",
    "for i,(a,b,c,d,e) in enumerate(zip(df['에너지원명'],df['이산화탄소_배출량'],df['메탄_배출량'],df['아산화질소_배출량'],df['온실가스_배출량'])):\n",
    "    if co2.get(a):\n",
    "        co2[a]+=b\n",
    "        ch4[a]+=c\n",
    "        no2[a]+=d\n",
    "        gas[a]+=e\n",
    "    else:\n",
    "        co2[a]=b\n",
    "        ch4[a]=c\n",
    "        no2[a]=d\n",
    "        gas[a]=e"
   ]
  },
  {
   "cell_type": "code",
   "execution_count": null,
   "id": "f29235bc",
   "metadata": {},
   "outputs": [],
   "source": [
    "print(co2)\n",
    "print(ch4)\n",
    "print(no2)\n",
    "print(gas)"
   ]
  },
  {
   "cell_type": "code",
   "execution_count": null,
   "id": "ad01256d",
   "metadata": {},
   "outputs": [],
   "source": [
    "all_energy={'이산화탄소':co2,'메탄':ch4,'아산화질소':no2,'온실가스':gas}\n",
    "print(n)\n",
    "print(all_energy)"
   ]
  },
  {
   "cell_type": "markdown",
   "id": "fdaf0c94",
   "metadata": {},
   "source": [
    "### 총합 / 개수"
   ]
  },
  {
   "cell_type": "code",
   "execution_count": null,
   "id": "db59527d",
   "metadata": {},
   "outputs": [],
   "source": [
    "for x in all_energy:\n",
    "    for y in all_energy[x]:\n",
    "        all_energy[x][y]/=n[y]\n",
    "print(all_energy)"
   ]
  },
  {
   "cell_type": "markdown",
   "id": "685f1686",
   "metadata": {},
   "source": [
    "### 배출 종류별 총합/개수의 총합"
   ]
  },
  {
   "cell_type": "code",
   "execution_count": null,
   "id": "8e01b71d",
   "metadata": {},
   "outputs": [],
   "source": [
    "energy=[]\n",
    "for x in all_energy:\n",
    "    energy.append(sum(all_energy[x].values()))\n",
    "print(energy)"
   ]
  },
  {
   "cell_type": "markdown",
   "id": "74fdba6b",
   "metadata": {},
   "source": [
    "### 배출 종류 별 %"
   ]
  },
  {
   "cell_type": "code",
   "execution_count": null,
   "id": "dd63b25e",
   "metadata": {},
   "outputs": [],
   "source": [
    "for id,x in enumerate(all_energy):\n",
    "    for y in all_energy[x]:\n",
    "        all_energy[x][y]/=energy[id]/100\n",
    "        all_energy[x][y]=round(all_energy[x][y],4)\n",
    "for x in all_energy:\n",
    "    print(all_energy[x])"
   ]
  },
  {
   "cell_type": "code",
   "execution_count": null,
   "id": "d48d2d95",
   "metadata": {},
   "outputs": [],
   "source": [
    "print(all_energy)"
   ]
  },
  {
   "cell_type": "code",
   "execution_count": null,
   "id": "e00f12e9",
   "metadata": {},
   "outputs": [],
   "source": [
    "n={}\n",
    "for i,(a,b,c,d,e) in enumerate(zip(df['에너지원명'],df['이산화탄소_배출량'],df['메탄_배출량'],df['아산화질소_배출량'],df['온실가스_배출량'])):\n",
    "    if not n.get(a):\n",
    "        n[a]={'co2':0,'ch4':0,'no2':0,'gas':0}\n",
    "    if b>0:\n",
    "        n[a]['co2']+=1\n",
    "    if c>0:\n",
    "        n[a]['ch4']+=1\n",
    "    if d>0:\n",
    "        n[a]['no2']+=1\n",
    "    if e>0:\n",
    "        n[a]['gas']+=1\n",
    "print(n)\n",
    "for i,(a,b,c,d,e) in enumerate(zip(df['에너지원명'],df['이산화탄소_배출량'],df['메탄_배출량'],df['아산화질소_배출량'],df['온실가스_배출량'])):\n",
    "    if co2.get(a):\n",
    "        co2[a]+=b\n",
    "        ch4[a]+=c\n",
    "        no2[a]+=d\n",
    "        gas[a]+=e\n",
    "    else:\n",
    "        co2[a]=b\n",
    "        ch4[a]=c\n",
    "        no2[a]=d\n",
    "        gas[a]=e"
   ]
  },
  {
   "cell_type": "code",
   "execution_count": null,
   "id": "3ef5124d",
   "metadata": {},
   "outputs": [],
   "source": [
    "for i in co2:\n",
    "    co2[i]/=n[i]['co2']\n",
    "for i in ch4:\n",
    "    if i=='보일러등유':\n",
    "        continue\n",
    "    ch4[i]/=n[i]['ch4']\n",
    "for i in no2:\n",
    "    if i=='보일러등유':\n",
    "        continue\n",
    "    no2[i]/=n[i]['no2']\n",
    "for i in gas:\n",
    "    if i=='보일러등유':\n",
    "        continue\n",
    "    gas[i]/=n[i]['gas']"
   ]
  },
  {
   "cell_type": "markdown",
   "id": "2f7aadae",
   "metadata": {},
   "source": [
    "### 배출량이 0이 아닌 회사들을 제외한 값"
   ]
  },
  {
   "cell_type": "code",
   "execution_count": null,
   "id": "5fbce9e8",
   "metadata": {},
   "outputs": [],
   "source": [
    "print(co2)\n",
    "print(ch4)\n",
    "print(no2)\n",
    "print(gas)"
   ]
  },
  {
   "cell_type": "markdown",
   "id": "9d1349f6",
   "metadata": {},
   "source": [
    "### 백분율"
   ]
  },
  {
   "cell_type": "code",
   "execution_count": null,
   "id": "1ce95c9f",
   "metadata": {},
   "outputs": [],
   "source": [
    "sum_co2=sum(co2.values())\n",
    "sum_ch4=sum(ch4.values())\n",
    "sum_no2=sum(no2.values())\n",
    "sum_gas=sum(gas.values())\n",
    "for i in co2:\n",
    "    co2[i]/=sum_co2/100\n",
    "for i in ch4:\n",
    "    ch4[i]/=sum_ch4/100\n",
    "for i in no2:\n",
    "    no2[i]/=sum_no2/100\n",
    "for i in gas:\n",
    "    gas[i]/=sum_gas/100"
   ]
  },
  {
   "cell_type": "code",
   "execution_count": null,
   "id": "ed4dfcef",
   "metadata": {},
   "outputs": [],
   "source": [
    "print(co2)\n",
    "print(ch4)\n",
    "print(no2)\n",
    "print(gas)"
   ]
  },
  {
   "cell_type": "code",
   "execution_count": null,
   "id": "876a1d87",
   "metadata": {},
   "outputs": [],
   "source": [
    "df['사업장_종사자규모명']"
   ]
  },
  {
   "cell_type": "markdown",
   "id": "6148b2e5",
   "metadata": {},
   "source": [
    "### 전체 배출량"
   ]
  },
  {
   "cell_type": "code",
   "execution_count": null,
   "id": "e96926ed",
   "metadata": {},
   "outputs": [],
   "source": [
    "n={}\n",
    "for id,(a,b,c,d,e) in enumerate(zip(df['사업장_종사자규모명'],df['이산화탄소_배출량'],df['메탄_배출량'],df['아산화질소_배출량'],df['온실가스_배출량'])):\n",
    "    if n.get(a):\n",
    "        n[a]['co2']+=b\n",
    "        n[a]['ch4']+=c\n",
    "        n[a]['no2']+=d\n",
    "        n[a]['gas']+=e\n",
    "    else:\n",
    "        n[a]={'co2':b,'ch4':c,'no2':d,'gas':e}\n",
    "print(n)"
   ]
  },
  {
   "cell_type": "code",
   "execution_count": null,
   "id": "b1eb324f",
   "metadata": {},
   "outputs": [],
   "source": [
    "d={}\n",
    "for i,x in enumerate(df['사업장_종사자규모명']):\n",
    "    if d.get(x):\n",
    "        d[x]+=1\n",
    "    else:\n",
    "        d[x]=1\n",
    "print(d)"
   ]
  },
  {
   "cell_type": "code",
   "execution_count": null,
   "id": "ec3c541f",
   "metadata": {},
   "outputs": [],
   "source": [
    "for x in n:\n",
    "    for y in n[x]:\n",
    "        n[x][y]/=d[x]\n",
    "        if x=='10인 ~ 19인':\n",
    "            n[x][y]/=15\n",
    "        elif x=='5인 미만':\n",
    "            n[x][y]/=3\n",
    "        elif x=='20인 ~ 49인':\n",
    "            n[x][y]/=35\n",
    "        elif x=='5인 ~ 9인':\n",
    "            n[x][y]/=7\n",
    "        elif x=='50인 ~ 99인':\n",
    "            n[x][y]/=75\n",
    "        elif x=='100인 ~ 299인':\n",
    "            n[x][y]/=200\n",
    "        elif x=='1000인 이상':\n",
    "            n[x][y]/=1000\n",
    "        elif x=='300인 ~ 499인':\n",
    "            n[x][y]/=400\n",
    "        else:\n",
    "            n[x][y]/=750\n",
    "        n[x][y]=round(n[x][y],4) # co2와 gas를 제외하고 나머지는 0에 수렴함, 사람수가 적은 회사일 수록 인당 배출량이 늘어남\n",
    "print(n)"
   ]
  },
  {
   "cell_type": "code",
   "execution_count": null,
   "id": "08b76993",
   "metadata": {},
   "outputs": [],
   "source": [
    "a,b,c=[],[],[]\n",
    "for x in n:\n",
    "    a.append(x)\n",
    "    b.append(n[x]['co2'])\n",
    "    c.append(n[x]['gas'])\n",
    "a=tuple(a)\n",
    "b=tuple(b)\n",
    "c=tuple(c)\n",
    "print(a)\n",
    "print(b)\n",
    "print(c)"
   ]
  },
  {
   "cell_type": "markdown",
   "id": "aea9557f",
   "metadata": {},
   "source": [
    "### 밑에 코드들은 배출량 0회사 제외"
   ]
  },
  {
   "cell_type": "code",
   "execution_count": null,
   "id": "3d29cf76",
   "metadata": {},
   "outputs": [],
   "source": [
    "z={}\n",
    "for i,(a,b,c,d,e) in enumerate(zip(df['사업장_종사자규모명'],df['이산화탄소_배출량'],df['메탄_배출량'],df['아산화질소_배출량'],df['온실가스_배출량'])):\n",
    "    if not z.get(a):\n",
    "        z[a]={'co2':0,'ch4':0,'no2':0,'gas':0}\n",
    "    if b>0:\n",
    "        z[a]['co2']+=1\n",
    "    if c>0:\n",
    "        z[a]['ch4']+=1\n",
    "    if d>0:\n",
    "        z[a]['no2']+=1\n",
    "    if e>0:\n",
    "        z[a]['gas']+=1\n",
    "print(z)\n",
    "n={}\n",
    "for id,(a,b,c,d,e) in enumerate(zip(df['사업장_종사자규모명'],df['이산화탄소_배출량'],df['메탄_배출량'],df['아산화질소_배출량'],df['온실가스_배출량'])):\n",
    "    if n.get(a):\n",
    "        n[a]['co2']+=b\n",
    "        n[a]['ch4']+=c\n",
    "        n[a]['no2']+=d\n",
    "        n[a]['gas']+=e\n",
    "    else:\n",
    "        n[a]={'co2':b,'ch4':c,'no2':d,'gas':e}\n",
    "print(n)"
   ]
  },
  {
   "cell_type": "code",
   "execution_count": null,
   "id": "6fb40d33",
   "metadata": {},
   "outputs": [],
   "source": [
    "for x in n:\n",
    "    for y in n[x]:\n",
    "        n[x][y]/=z[x][y]\n",
    "        if x=='10인 ~ 19인':\n",
    "            n[x][y]/=15\n",
    "        elif x=='5인 미만':\n",
    "            n[x][y]/=3\n",
    "        elif x=='20인 ~ 49인':\n",
    "            n[x][y]/=35\n",
    "        elif x=='5인 ~ 9인':\n",
    "            n[x][y]/=7\n",
    "        elif x=='50인 ~ 99인':\n",
    "            n[x][y]/=75\n",
    "        elif x=='100인 ~ 299인':\n",
    "            n[x][y]/=200\n",
    "        elif x=='1000인 이상':\n",
    "            n[x][y]/=1000\n",
    "        elif x=='300인 ~ 499인':\n",
    "            n[x][y]/=400\n",
    "        else:\n",
    "            n[x][y]/=750\n",
    "        n[x][y]=round(n[x][y],4) # co2와 gas를 제외하고 나머지는 0에 수렴함, 사람수가 적은 회사일 수록 인당 배출량이 늘어남\n",
    "print(n)"
   ]
  },
  {
   "cell_type": "code",
   "execution_count": null,
   "id": "91f718ea",
   "metadata": {},
   "outputs": [],
   "source": [
    "n=[]\n",
    "for i,a in enumerate(df['표준산업분류명']):\n",
    "    if '(' in a:\n",
    "        x=a.find('(')\n",
    "        a=a[:x]\n",
    "    a=a.split()[-1]\n",
    "    n.append(a)    \n",
    "print(n)"
   ]
  },
  {
   "cell_type": "code",
   "execution_count": null,
   "id": "5989d43c",
   "metadata": {},
   "outputs": [],
   "source": [
    "df.insert(7,'표준산업분류명_대범주',n)\n",
    "df['표준산업분류명_대범주'].value_counts()"
   ]
  },
  {
   "cell_type": "code",
   "execution_count": null,
   "id": "2c6aeb47",
   "metadata": {},
   "outputs": [],
   "source": [
    "n=[]\n",
    "name_etc=['제철업','정제처리업','서비스업','변경업','재건조업']\n",
    "for i,a in enumerate(df['표준산업분류명_대범주']):\n",
    "    if a in name_etc:\n",
    "        n.append('기타')\n",
    "    else:\n",
    "        n.append(a)\n",
    "df['표준산업분류명_대범주']=n"
   ]
  },
  {
   "cell_type": "code",
   "execution_count": null,
   "id": "290f8aa2",
   "metadata": {},
   "outputs": [],
   "source": [
    "df['표준산업분류명_대범주'].value_counts()"
   ]
  },
  {
   "cell_type": "code",
   "execution_count": null,
   "id": "d5cfb278",
   "metadata": {},
   "outputs": [],
   "source": [
    "n={}\n",
    "for id,(a,b,c,d,e) in enumerate(zip(df['표준산업분류명_대범주'],df['이산화탄소_배출량'],df['메탄_배출량'],df['아산화질소_배출량'],df['온실가스_배출량'])):\n",
    "    if n.get(a):\n",
    "        n[a]['co2']+=b\n",
    "        n[a]['ch4']+=c\n",
    "        n[a]['no2']+=d\n",
    "        n[a]['gas']+=e\n",
    "    else:\n",
    "        n[a]={'co2':b,'ch4':c,'no2':d,'gas':e}\n",
    "print(n)"
   ]
  },
  {
   "cell_type": "code",
   "execution_count": null,
   "id": "62dc3a16",
   "metadata": {},
   "outputs": [],
   "source": [
    "d={}\n",
    "for i,x in enumerate(df['표준산업분류명_대범주']):\n",
    "    if d.get(x):\n",
    "        d[x]+=1\n",
    "    else:\n",
    "        d[x]=1\n",
    "print(d)"
   ]
  },
  {
   "cell_type": "code",
   "execution_count": null,
   "id": "9ac016cb",
   "metadata": {},
   "outputs": [],
   "source": [
    "for x in n:\n",
    "    for y in n[x]:\n",
    "        n[x][y]/=d[x]\n",
    "        n[x][y]=round(n[x][y],2) #ch4, no2는 대부분 0이므로 예외처리하겠음.\n",
    "print(n)"
   ]
  },
  {
   "cell_type": "code",
   "execution_count": null,
   "id": "b0f40f41",
   "metadata": {},
   "outputs": [],
   "source": [
    "all_co2,all_gas=0,0\n",
    "for x in n:\n",
    "    for y in n[x]:\n",
    "        if y=='co2':\n",
    "            all_co2+=n[x][y]\n",
    "        elif y=='gas':\n",
    "            all_gas+=n[x][y]\n",
    "print(all_co2,all_gas)"
   ]
  },
  {
   "cell_type": "code",
   "execution_count": null,
   "id": "58cd777f",
   "metadata": {},
   "outputs": [],
   "source": [
    "for x in n:\n",
    "    for y in n[x]:\n",
    "        if y=='co2':\n",
    "            n[x][y]/=all_co2/100\n",
    "        elif y=='gas':\n",
    "            n[x][y]/=all_gas/100\n",
    "        n[x][y]=round(n[x][y],3)\n",
    "for x in n:\n",
    "    del(n[x]['ch4'])\n",
    "    del(n[x]['no2'])\n",
    "print(n)"
   ]
  },
  {
   "cell_type": "code",
   "execution_count": null,
   "id": "d3684807",
   "metadata": {},
   "outputs": [],
   "source": [
    "a,b,c=[],[],[]\n",
    "for x in n:\n",
    "    a.append(x)\n",
    "    b.append(n[x]['co2'])\n",
    "    c.append(n[x]['gas'])\n",
    "print(tuple(a))\n",
    "print(tuple(b))\n",
    "print(tuple(c))"
   ]
  },
  {
   "cell_type": "markdown",
   "id": "c3f42505",
   "metadata": {},
   "source": [
    "### 여기 밑에도 실제 배출량인 0인 회사 제외"
   ]
  },
  {
   "cell_type": "code",
   "execution_count": null,
   "id": "ab77195b",
   "metadata": {},
   "outputs": [],
   "source": [
    "z={}\n",
    "for i,(a,b,c,d,e) in enumerate(zip(df['표준산업분류명_대범주'],df['이산화탄소_배출량'],df['메탄_배출량'],df['아산화질소_배출량'],df['온실가스_배출량'])):\n",
    "    if not z.get(a):\n",
    "        z[a]={'co2':0,'ch4':0,'no2':0,'gas':0}\n",
    "    if b>0:\n",
    "        z[a]['co2']+=1\n",
    "    if c>0:\n",
    "        z[a]['ch4']+=1\n",
    "    if d>0:\n",
    "        z[a]['no2']+=1\n",
    "    if e>0:\n",
    "        z[a]['gas']+=1\n",
    "print(z)\n",
    "n={}\n",
    "for id,(a,b,c,d,e) in enumerate(zip(df['표준산업분류명_대범주'],df['이산화탄소_배출량'],df['메탄_배출량'],df['아산화질소_배출량'],df['온실가스_배출량'])):\n",
    "    if n.get(a):\n",
    "        n[a]['co2']+=b\n",
    "        n[a]['ch4']+=c\n",
    "        n[a]['no2']+=d\n",
    "        n[a]['gas']+=e\n",
    "    else:\n",
    "        n[a]={'co2':b,'ch4':c,'no2':d,'gas':e}\n",
    "print(n)"
   ]
  },
  {
   "cell_type": "code",
   "execution_count": null,
   "id": "9ff9891a",
   "metadata": {},
   "outputs": [],
   "source": [
    "for x in n:\n",
    "    for y in n[x]:\n",
    "        n[x][y]/=z[x][y]\n",
    "        n[x][y]=round(n[x][y],2)\n",
    "#ch4, no2는 대부분 0이므로 예외처리하겠음.\n",
    "print(n)"
   ]
  },
  {
   "cell_type": "code",
   "execution_count": null,
   "id": "774ebe16",
   "metadata": {},
   "outputs": [],
   "source": [
    "all_co2,all_gas=0,0\n",
    "for x in n:\n",
    "    for y in n[x]:\n",
    "        if y=='co2':\n",
    "            all_co2+=n[x][y]\n",
    "        elif y=='gas':\n",
    "            all_gas+=n[x][y]\n",
    "print(all_co2,all_gas)"
   ]
  },
  {
   "cell_type": "code",
   "execution_count": null,
   "id": "8efe2e9a",
   "metadata": {},
   "outputs": [],
   "source": [
    "for x in n:\n",
    "    for y in n[x]:\n",
    "        if y=='co2':\n",
    "            n[x][y]/=all_co2/100\n",
    "        elif y=='gas':\n",
    "            n[x][y]/=all_gas/100\n",
    "        n[x][y]=round(n[x][y],3)\n",
    "for x in n:\n",
    "    del(n[x]['ch4'])\n",
    "    del(n[x]['no2'])\n",
    "print(n)"
   ]
  },
  {
   "cell_type": "code",
   "execution_count": null,
   "id": "4022c30f",
   "metadata": {},
   "outputs": [],
   "source": [
    "df.groupby(['대상연도'])[['이산화탄소_배출량','메탄_배출량','아산화질소_배출량','온실가스_배출량']].agg('sum')"
   ]
  },
  {
   "cell_type": "code",
   "execution_count": null,
   "id": "c321044b",
   "metadata": {},
   "outputs": [],
   "source": [
    "df.groupby(['지역명_대분류'])[['이산화탄소_배출량','온실가스_배출량']].agg('sum').astype('int').T"
   ]
  },
  {
   "cell_type": "code",
   "execution_count": null,
   "id": "d0cd1b92",
   "metadata": {},
   "outputs": [],
   "source": [
    "#key값과 그 key에 해당하는 value값 밑에까지\n",
    "key=list(n.keys())\n",
    "print(key)"
   ]
  },
  {
   "cell_type": "code",
   "execution_count": null,
   "id": "e87ace97",
   "metadata": {},
   "outputs": [],
   "source": [
    "co2=[]\n",
    "gas=[]\n",
    "for x in n:\n",
    "    co2.append(n[x]['co2'])\n",
    "    gas.append(n[x]['gas'])\n",
    "print(co2,gas)"
   ]
  },
  {
   "cell_type": "code",
   "execution_count": null,
   "id": "787563cf",
   "metadata": {},
   "outputs": [],
   "source": [
    "x=pd.DataFrame({'co2':co2,'gas':gas},index=key)\n",
    "x"
   ]
  },
  {
   "cell_type": "code",
   "execution_count": null,
   "id": "84454063",
   "metadata": {},
   "outputs": [],
   "source": [
    "x.describe().T"
   ]
  },
  {
   "cell_type": "code",
   "execution_count": null,
   "id": "acb9c9bd",
   "metadata": {},
   "outputs": [],
   "source": [
    "for x in all_energy:\n",
    "    if x=='이산화탄소':\n",
    "        co2=(list(all_energy[x].values()))\n",
    "    if x=='온실가스':\n",
    "        gas=list(all_energy[x].values())\n",
    "key=list(all_energy[x].keys())\n",
    "x=pd.DataFrame({'co2':co2,'gas':gas},index=key)\n",
    "x"
   ]
  },
  {
   "cell_type": "code",
   "execution_count": null,
   "id": "ef20856e",
   "metadata": {},
   "outputs": [],
   "source": [
    "df.to_csv(\"preprocessing.csv\", index=False, encoding=\"utf-8-sig\")"
   ]
  },
  {
   "cell_type": "code",
   "execution_count": null,
   "id": "40ec6b91",
   "metadata": {},
   "outputs": [],
   "source": []
  },
  {
   "cell_type": "code",
   "execution_count": null,
   "id": "5ae076cc",
   "metadata": {},
   "outputs": [],
   "source": []
  },
  {
   "cell_type": "code",
   "execution_count": null,
   "id": "99ae3124",
   "metadata": {},
   "outputs": [],
   "source": []
  },
  {
   "cell_type": "code",
   "execution_count": null,
   "id": "fda50ae5",
   "metadata": {},
   "outputs": [],
   "source": []
  },
  {
   "cell_type": "code",
   "execution_count": null,
   "id": "56b704fc",
   "metadata": {},
   "outputs": [],
   "source": []
  }
 ],
 "metadata": {
  "kernelspec": {
   "display_name": "Python 3 (ipykernel)",
   "language": "python",
   "name": "python3"
  },
  "language_info": {
   "codemirror_mode": {
    "name": "ipython",
    "version": 3
   },
   "file_extension": ".py",
   "mimetype": "text/x-python",
   "name": "python",
   "nbconvert_exporter": "python",
   "pygments_lexer": "ipython3",
   "version": "3.9.7"
  }
 },
 "nbformat": 4,
 "nbformat_minor": 5
}
