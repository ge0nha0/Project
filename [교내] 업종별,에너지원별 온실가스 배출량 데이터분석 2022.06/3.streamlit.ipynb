{
 "cells": [
  {
   "cell_type": "code",
   "execution_count": null,
   "id": "5c526a71",
   "metadata": {},
   "outputs": [],
   "source": [
    "import pandas as pd\n",
    "import numpy as np\n",
    "import streamlit as st\n",
    "from datetime import date\n",
    "\n",
    "\n",
    "df = pd.read_csv('data/preprocessing.csv', encoding='utf-8')\n",
    "\n",
    "c=df.loc[df['대상연도'].between(2016,2019)]\n",
    "\n",
    "c=df['대상연도'].between(2016,2019)\n",
    "c=df.loc[c]\n",
    "\n",
    "c.groupby(['대상연도'])['온실가스_배출량'].sum().astype('int')\n",
    "st.set_page_config(page_title='Transaction Dashboard', page_icon = '❤', layout = 'wide')\n",
    "st.title('연도별 온실가스 현황')\n",
    "if st.button('새로고침'):\n",
    "    st.experimental_rerun()\n",
    "st.header('1.연간 CO2배출량')\n",
    "st.subheader('2010년~2019년 CO2 정보')\n",
    "st.dataframe(df.groupby(['대상연도'])['이산화탄소_배출량'].sum().astype('int'))\n",
    "c=df['대상연도'].between(2016,2019)\n",
    "c=df.loc[c]\n",
    "c['대상연도'].value_counts()\n",
    "st.header('2.연간 온실가스 배출량')\n",
    "st.subheader('2016년~2019년 온실가스 정보')\n",
    "st.dataframe(c.groupby(['대상연도'])['온실가스_배출량'].sum().astype('int'))"
   ]
  }
 ],
 "metadata": {
  "kernelspec": {
   "display_name": "Python 3 (ipykernel)",
   "language": "python",
   "name": "python3"
  },
  "language_info": {
   "codemirror_mode": {
    "name": "ipython",
    "version": 3
   },
   "file_extension": ".py",
   "mimetype": "text/x-python",
   "name": "python",
   "nbconvert_exporter": "python",
   "pygments_lexer": "ipython3",
   "version": "3.9.7"
  }
 },
 "nbformat": 4,
 "nbformat_minor": 5
}
