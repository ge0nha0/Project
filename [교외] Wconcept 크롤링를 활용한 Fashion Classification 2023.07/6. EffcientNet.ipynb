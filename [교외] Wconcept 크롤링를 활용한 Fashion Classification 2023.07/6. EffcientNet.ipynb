{
 "cells": [
  {
   "cell_type": "code",
   "execution_count": 1,
   "id": "d3048216",
   "metadata": {},
   "outputs": [],
   "source": [
    "import torch\n",
    "import torchvision\n",
    "from torchvision import transforms\n",
    "from torch.utils.data import DataLoader\n",
    "import os\n",
    "import timm"
   ]
  },
  {
   "cell_type": "code",
   "execution_count": 2,
   "id": "95ea6072",
   "metadata": {},
   "outputs": [
    {
     "name": "stderr",
     "output_type": "stream",
     "text": [
      "No pretrained weights exist or were found for this model. Using random initialization.\n"
     ]
    }
   ],
   "source": [
    "model = timm.create_model('efficientnet_b7', pretrained=True)\n",
    "num_classes = 9\n",
    "model.classifier = torch.nn.Linear(in_features=model.classifier.in_features, out_features=num_classes)\n"
   ]
  },
  {
   "cell_type": "code",
   "execution_count": 3,
   "id": "1d5f7aa0",
   "metadata": {},
   "outputs": [],
   "source": [
    "train_path = './train'\n",
    "test_path = './test'\n",
    "\n",
    "resize_trans = transforms.Compose([\n",
    "    transforms.Resize((128, 128)),\n",
    "    transforms.ToTensor()\n",
    "])\n",
    "\n",
    "resize_train = torchvision.datasets.ImageFolder(root=train_path, transform=resize_trans)\n",
    "resize_test = torchvision.datasets.ImageFolder(root=test_path, transform=resize_trans)\n",
    "\n",
    "train_loader = DataLoader(resize_train, batch_size=32, shuffle=True)\n",
    "test_loader = DataLoader(resize_test, batch_size=32, shuffle=False)"
   ]
  },
  {
   "cell_type": "code",
   "execution_count": 4,
   "id": "d7f5c9c2",
   "metadata": {},
   "outputs": [],
   "source": [
    "device = torch.device(\"cuda\" if torch.cuda.is_available() else \"cpu\")\n",
    "model = model.to(device)\n",
    "\n",
    "criterion = torch.nn.CrossEntropyLoss()\n",
    "optimizer = torch.optim.Adam(model.parameters(), lr=0.001)"
   ]
  },
  {
   "cell_type": "code",
   "execution_count": 5,
   "id": "51c1bc5b",
   "metadata": {
    "collapsed": true
   },
   "outputs": [
    {
     "name": "stdout",
     "output_type": "stream",
     "text": [
      "[1, 10] loss: 2.563\n",
      "[1, 20] loss: 2.356\n",
      "[1, 30] loss: 2.177\n",
      "[1, 40] loss: 1.939\n",
      "[1, 50] loss: 1.755\n",
      "[1, 60] loss: 1.469\n",
      "[1, 70] loss: 1.452\n",
      "[1, 80] loss: 1.436\n",
      "[1, 90] loss: 1.285\n",
      "[1, 100] loss: 1.283\n",
      "[1, 110] loss: 1.330\n",
      "[1, 120] loss: 1.264\n",
      "[1, 130] loss: 1.160\n",
      "[1, 140] loss: 0.993\n",
      "[1, 150] loss: 0.994\n",
      "[1, 160] loss: 1.065\n",
      "[1, 170] loss: 1.083\n",
      "[1, 180] loss: 0.967\n",
      "[1, 190] loss: 0.956\n",
      "[1, 200] loss: 0.857\n",
      "[1, 210] loss: 0.885\n",
      "[1, 220] loss: 0.919\n",
      "[1, 230] loss: 0.839\n",
      "[1, 240] loss: 0.824\n",
      "[1, 250] loss: 0.777\n",
      "[1, 260] loss: 0.672\n"
     ]
    }
   ],
   "source": [
    "num_epochs = 1\n",
    "for epoch in range(num_epochs):\n",
    "    model.train()\n",
    "    running_loss = 0.0\n",
    "    for i, data in enumerate(train_loader, 0):\n",
    "        inputs, labels = data\n",
    "        inputs = inputs.to(device)\n",
    "        labels = labels.to(device)\n",
    "        optimizer.zero_grad()\n",
    "        outputs = model(inputs)\n",
    "        loss = criterion(outputs, labels)\n",
    "        loss.backward()\n",
    "        optimizer.step()\n",
    "        running_loss += loss.item()\n",
    "\n",
    "        if i % 10 == 9:\n",
    "            print(f\"[{epoch + 1}, {i + 1}] loss: {running_loss / 10:.3f}\")\n",
    "            running_loss = 0.0\n"
   ]
  },
  {
   "cell_type": "code",
   "execution_count": 6,
   "id": "ee09679c",
   "metadata": {},
   "outputs": [
    {
     "name": "stdout",
     "output_type": "stream",
     "text": [
      "Accuracy: 72.67631947687997%\n"
     ]
    }
   ],
   "source": [
    "model.eval()\n",
    "correct = 0\n",
    "total = 0\n",
    "with torch.no_grad():\n",
    "    for data in test_loader:\n",
    "        images, labels = data\n",
    "        images = images.to(device)\n",
    "        labels = labels.to(device)\n",
    "        outputs = model(images)\n",
    "        _, predicted = torch.max(outputs.data, 1)\n",
    "        total += labels.size(0)\n",
    "        correct += (predicted == labels).sum().item()\n",
    "\n",
    "print(f\"Accuracy: {100 * correct / total}%\")"
   ]
  }
 ],
 "metadata": {
  "kernelspec": {
   "display_name": "Pytorch2.0, Tensorflow2.11 (kaggle 23.05/Python 3.10 Conda, CUDA 11.3) on Backend.AI",
   "language": "python",
   "name": "python3"
  },
  "language_info": {
   "codemirror_mode": {
    "name": "ipython",
    "version": 3
   },
   "file_extension": ".py",
   "mimetype": "text/x-python",
   "name": "python",
   "nbconvert_exporter": "python",
   "pygments_lexer": "ipython3",
   "version": "3.10.10"
  }
 },
 "nbformat": 4,
 "nbformat_minor": 5
}
