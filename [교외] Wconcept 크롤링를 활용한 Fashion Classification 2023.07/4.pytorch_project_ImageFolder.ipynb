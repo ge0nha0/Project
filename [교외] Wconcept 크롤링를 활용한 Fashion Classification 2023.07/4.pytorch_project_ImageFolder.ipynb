{
 "cells": [
  {
   "cell_type": "code",
   "execution_count": 1,
   "id": "9d60e861",
   "metadata": {},
   "outputs": [],
   "source": [
    "import torch\n",
    "import torch.nn as nn\n",
    "import torch.optim as optim\n",
    "import torchvision\n",
    "import torchvision.transforms as transforms"
   ]
  },
  {
   "cell_type": "code",
   "execution_count": 2,
   "id": "275aebae",
   "metadata": {},
   "outputs": [],
   "source": [
    "device = 'cuda' if torch.cuda.is_available() else 'cpu'\n",
    "\n",
    "torch.manual_seed(777)\n",
    "if device == 'cuda':\n",
    "  torch.cuda.manual_seed_all(777)"
   ]
  },
  {
   "cell_type": "code",
   "execution_count": 3,
   "id": "48522cf0",
   "metadata": {},
   "outputs": [
    {
     "data": {
      "text/plain": [
       "'cuda'"
      ]
     },
     "execution_count": 3,
     "metadata": {},
     "output_type": "execute_result"
    }
   ],
   "source": [
    "device"
   ]
  },
  {
   "cell_type": "markdown",
   "id": "5949bfb1",
   "metadata": {},
   "source": [
    "# 데이터 분류\n",
    "* 1. 원본 이미지를 다시 넘버링\n",
    "* 2. train/test split하여 파일 분류\n",
    "* 3. train/test 각각 다시 넘버링"
   ]
  },
  {
   "cell_type": "code",
   "execution_count": 5,
   "id": "9f2baf1b",
   "metadata": {},
   "outputs": [],
   "source": [
    "# 원본 이미지 넘버링하기\n",
    "\n",
    "import os\n",
    "import glob\n",
    "\n",
    "path = \"./original\"\n",
    "bags = glob.glob(path+\"/bags\" + '/*')\n",
    "belt = glob.glob(path+\"/belt\"+'/*')\n",
    "eyewear = glob.glob(path+\"/eyewear\"+'/*')\n",
    "hat = glob.glob(path+\"/hat\"+'/*')\n",
    "long_sleeve = glob.glob(path+\"/long_sleeve\"+'/*')\n",
    "pants = glob.glob(path+\"/pants\"+'/*')\n",
    "short_sleeve = glob.glob(path+\"/short_sleeve\"+'/*')\n",
    "sneakers = glob.glob(path+\"/sneakers\"+'/*')\n",
    "watch = glob.glob(path+\"/watch\"+'/*')"
   ]
  },
  {
   "cell_type": "code",
   "execution_count": null,
   "id": "61cd599f",
   "metadata": {},
   "outputs": [],
   "source": [
    "def rename(files):\n",
    "\n",
    "  if 'bags' in files[0]:\n",
    "     for i,f in enumerate(files):\n",
    "         os.rename(f, os.path.join(path+\"/bags\", 'bags_' + '{0:03d}.jpg'.format(i)))\n",
    "     bags = glob.glob(path+\"/bags\" + '/*')    \n",
    "     print(\"bags {}번째 이미지까지 성공\".format(i+1))\n",
    "\n",
    "  elif 'belt' in files[0]:\n",
    "     for i,f in enumerate(files):\n",
    "         os.rename(f, os.path.join(path+\"/belt\", 'belt_' + '{0:03d}.jpg'.format(i)))\n",
    "     belt = glob.glob(path+\"/belt\" + '/*')    \n",
    "     print(\"belt {}번째 이미지까지 성공\".format(i+1))\n",
    "\n",
    "  elif 'eyewear' in files[0]:\n",
    "     for i,f in enumerate(files):\n",
    "         os.rename(f, os.path.join(path+\"/eyewear\", 'eyewear_' + '{0:03d}.jpg'.format(i)))\n",
    "     eyewear = glob.glob(path+\"/eyewear\"+'/*')\n",
    "     print(\"eyewear {}번째 이미지까지 성공\".format(i+1))\n",
    "       \n",
    "  elif 'hat' in files[0]:\n",
    "     for i,f in enumerate(files):\n",
    "         os.rename(f, os.path.join(path+\"/hat\", 'hat_' + '{0:03d}.jpg'.format(i)))\n",
    "     hat = glob.glob(path+\"/hat\"+'/*')\n",
    "     print(\"hat {}번째 이미지까지 성공\".format(i+1))\n",
    "\n",
    "  elif 'long_sleeve' in files[0]:\n",
    "     for i,f in enumerate(files):\n",
    "         os.rename(f, os.path.join(path+\"/long_sleeve\", 'long_sleeve_' + '{0:03d}.jpg'.format(i)))\n",
    "     long_sleeve = glob.glob(path+\"/long_sleeve\"+'/*')\n",
    "     print(\"long_sleeve {}번째 이미지까지 성공\".format(i+1))\n",
    "        \n",
    "  elif 'pants' in files[0]:\n",
    "     for i,f in enumerate(files):\n",
    "         os.rename(f, os.path.join(path+\"/pants\", 'pants_' + '{0:03d}.jpg'.format(i)))\n",
    "     pants = glob.glob(path+\"/pants\"+'/*')\n",
    "     print(\"pants {}번째 이미지까지 성공\".format(i+1))\n",
    "        \n",
    "  elif 'short_sleeve' in files[0]:\n",
    "     for i,f in enumerate(files):\n",
    "         os.rename(f, os.path.join(path+\"/short_sleeve\", 'short_sleeve_' + '{0:03d}.jpg'.format(i)))\n",
    "     short_sleeve = glob.glob(path+\"/short_sleeve\"+'/*')\n",
    "     print(\"short_sleeve {}번째 이미지까지 성공\".format(i+1))\n",
    "        \n",
    "  elif 'sneakers' in files[0]:\n",
    "     for i,f in enumerate(files):\n",
    "         os.rename(f, os.path.join(path+\"/sneakers\", 'sneakers_' + '{0:03d}.jpg'.format(i)))\n",
    "     sneakers = glob.glob(path+\"/sneakers\"+'/*')\n",
    "     print(\"sneakers {}번째 이미지까지 성공\".format(i+1))\n",
    "\n",
    "  elif 'watch' in files[0]:\n",
    "     for i,f in enumerate(files):\n",
    "         os.rename(f, os.path.join(path+\"/watch\", 'watch_' + '{0:03d}.jpg'.format(i)))\n",
    "     watch = glob.glob(path+\"/watch\"+'/*')\n",
    "     print(\"watch {}번째 이미지까지 성공\".format(i+1))"
   ]
  },
  {
   "cell_type": "code",
   "execution_count": null,
   "id": "108226c2",
   "metadata": {},
   "outputs": [],
   "source": [
    "# 이거 이미 완료했는데도 추가 실행하면 이미지가 쓰레기통 행으로 가버림(이유는 모르겠음)\n",
    "\n",
    "# rename(bags)\n",
    "# rename(belt)\n",
    "# rename(eyewear)\n",
    "# rename(hat)\n",
    "# rename(long_sleeve)\n",
    "# rename(pants)\n",
    "# rename(short_sleeve)\n",
    "# rename(sneakers)\n",
    "# rename(watch)"
   ]
  },
  {
   "cell_type": "code",
   "execution_count": null,
   "id": "eb1e5743",
   "metadata": {},
   "outputs": [],
   "source": [
    "# 이미지 리스트 정렬\n",
    "bags = sorted(glob.glob(path+\"/bags\" + '/*'))\n",
    "belt = sorted(glob.glob(path+\"/belt\"+'/*'))\n",
    "eyewear = sorted(glob.glob(path+\"/eyewear\"+'/*'))\n",
    "hat = sorted(glob.glob(path+\"/hat\"+'/*'))\n",
    "long_sleeve = sorted(glob.glob(path+\"/long_sleeve\"+'/*'))\n",
    "pants = sorted(glob.glob(path+\"/pants\"+'/*'))\n",
    "short_sleeve = sorted(glob.glob(path+\"/short_sleeve\"+'/*'))\n",
    "sneakers = sorted(glob.glob(path+\"/sneakers\"+'/*'))\n",
    "watch = sorted(glob.glob(path+\"/watch\"+'/*'))\n",
    "      "
   ]
  },
  {
   "cell_type": "code",
   "execution_count": null,
   "id": "0ad4fddc",
   "metadata": {},
   "outputs": [],
   "source": [
    "print('bags 이미지 개수: {}\\nbelt 이미지 개수: {}\\neyewear 이미지 개수: {}\\nhat 이미지 개수: {}\\nlong_sleeve 이미지 개수: {}\\npants 이미지 개수: {}\\nshort_sleeve 이미지 개수: {}\\nsneakers 이미지 개수: {}\\nwatch 이미지 개수: {}'\n",
    "      .format(len(bags), len(belt), len(eyewear), len(hat), len(long_sleeve), len(pants), len(short_sleeve), len(sneakers), len(watch)))"
   ]
  },
  {
   "cell_type": "code",
   "execution_count": null,
   "id": "67a47fb5",
   "metadata": {},
   "outputs": [],
   "source": [
    "whole_sum = len(bags) + len(belt) + len(eyewear) + len(hat) + len(long_sleeve) + len(pants) + len(short_sleeve) + len(sneakers) + len(watch)\n",
    "\n",
    "print('전체 이미지 개수: {}\\n'.format(whole_sum))\n",
    "\n",
    "fashion_items = ['bags', 'belt', 'eyewear', 'hat', 'long_sleeve', 'pants', 'short_sleeve', 'sneakers', 'watch']\n",
    "\n",
    "print(\"\\n각 항목별 이미지 비율:\")\n",
    "for item in fashion_items:\n",
    "    item_images = glob.glob(os.path.join(path, item, '*'))\n",
    "    item_count = len(item_images)\n",
    "    item_ratio = 100 * item_count / whole_sum\n",
    "    print('{} 이미지 비율: {:.2f}%'.format(item.capitalize(), item_ratio))"
   ]
  },
  {
   "cell_type": "markdown",
   "id": "9efbe378",
   "metadata": {},
   "source": [
    "### 아주 약간 데이터가 imbalance하지만 이 정도는 크게 문제가 없어보임. 아마 fine tuning이 관건일 것 같음"
   ]
  },
  {
   "cell_type": "markdown",
   "id": "bb646863",
   "metadata": {},
   "source": [
    "# 정리한 이미지 시각화하기"
   ]
  },
  {
   "cell_type": "code",
   "execution_count": null,
   "id": "7f8e5802",
   "metadata": {},
   "outputs": [],
   "source": [
    "import matplotlib.pyplot as plt\n",
    "from matplotlib.pyplot import imshow\n",
    "import cv2\n",
    "%matplotlib inline"
   ]
  },
  {
   "cell_type": "code",
   "execution_count": null,
   "id": "4b9d33f6",
   "metadata": {},
   "outputs": [],
   "source": [
    "# cv2를 이용해 이미지를 읽는 함수 정의\n",
    "def read_img(file_path):\n",
    "    img_arr = cv2.imread(file_path)\n",
    "    return cv2.cvtColor(img_arr, cv2.COLOR_BGR2RGB) # cvtColor로 BGR을 RGB로 바꿔줌"
   ]
  },
  {
   "cell_type": "code",
   "execution_count": null,
   "id": "1b08096b",
   "metadata": {},
   "outputs": [],
   "source": [
    "# 각 이미지 폴더에서 3개씩 랜덤으로 이미지 시각화 하기\n",
    "\n",
    "# 이미지 array 준비\n",
    "import random\n",
    "img_arrs = []\n",
    "img_num = range(0,300)\n",
    "\n",
    "for i in random.sample(img_num,9):\n",
    "    \n",
    "    img_arrs.append(read_img(bags[i]))\n",
    "    img_arrs.append(read_img(belt[i]))\n",
    "    img_arrs.append(read_img(eyewear[i]))\n",
    "    img_arrs.append(read_img(hat[i]))\n",
    "    img_arrs.append(read_img(long_sleeve[i]))\n",
    "    img_arrs.append(read_img(pants[i]))\n",
    "    img_arrs.append(read_img(short_sleeve[i]))\n",
    "    img_arrs.append(read_img(sneakers[i]))\n",
    "    img_arrs.append(read_img(watch[i]))"
   ]
  },
  {
   "cell_type": "code",
   "execution_count": null,
   "id": "ff6fa9f5",
   "metadata": {},
   "outputs": [],
   "source": [
    "print(\"총 {}개의 이미지 \".format(len(img_arrs)))"
   ]
  },
  {
   "cell_type": "code",
   "execution_count": null,
   "id": "1090014c",
   "metadata": {},
   "outputs": [],
   "source": [
    "rows = 3 # 3개씩 샘플링 했으므로\n",
    "columns = 3\n",
    "\n",
    "# 그림판 설정\n",
    "fig, axes = plt.subplots(nrows=rows, ncols=columns, figsize=(columns*3, rows*3))\n",
    "\n",
    "# 각 판에 이미지 출력\n",
    "for num in range(1, rows*columns+1): # 1번 부터 15번 까지\n",
    "    \n",
    "    fig.add_subplot(rows, columns, num) # 원하는 위치 번호(num)를 입력\n",
    "    idx = num - 1 # 인덱스\n",
    "    \n",
    "    plt.imshow(img_arrs[idx], aspect='auto')\n",
    "    plt.xlabel(f'{img_arrs[idx].shape}', fontsize=12)\n",
    "\n",
    "fig.tight_layout() # 이미지 사이 간격 조정\n",
    "\n",
    "\n",
    "# 제목 설정\n",
    "cols = ['bags', 'belt', 'eyewear', 'hat', 'long_sleeve', 'pants', 'short_sleeve', 'sneakers', 'watch']\n",
    "\n",
    "for folder_idx, ax in enumerate(axes[0]):\n",
    "    ax.set_title(cols[folder_idx])\n",
    "\n",
    "# xtick, ytick 제거\n",
    "for idx, ax in enumerate(axes.flat):\n",
    "    ax.set_xticks([])\n",
    "    ax.set_yticks([])"
   ]
  },
  {
   "cell_type": "markdown",
   "id": "a11f17c7",
   "metadata": {},
   "source": [
    "# train/test split하기"
   ]
  },
  {
   "cell_type": "markdown",
   "id": "9dba09b7",
   "metadata": {},
   "source": [
    "* 데이터양이 적으므로 8:2 비율로 split\n",
    "* 사이킷런 같은 모듈로 나누는게 아니라 train/test 파일에 이미지를 복사해서 새 파일을 만들어야 한다.\n",
    "* 이미지를 8:2 비율로 랜덤으로 train/test에 파일을 복사하여 파일을 만들자."
   ]
  },
  {
   "cell_type": "code",
   "execution_count": 6,
   "id": "9d22c7bb",
   "metadata": {},
   "outputs": [
    {
     "name": "stdout",
     "output_type": "stream",
     "text": [
      "bags 이미지 개수: 984\n",
      "belt 이미지 개수: 1075\n",
      "eyewear 이미지 개수: 1080\n",
      "hat 이미지 개수: 1030\n",
      "long_sleeve 이미지 개수: 1462\n",
      "pants 이미지 개수: 1517\n",
      "short_sleeve 이미지 개수: 1526\n",
      "sneakers 이미지 개수: 1059\n",
      "watch 이미지 개수: 977\n"
     ]
    }
   ],
   "source": [
    "print('bags 이미지 개수: {}\\nbelt 이미지 개수: {}\\neyewear 이미지 개수: {}\\nhat 이미지 개수: {}\\nlong_sleeve 이미지 개수: {}\\npants 이미지 개수: {}\\nshort_sleeve 이미지 개수: {}\\nsneakers 이미지 개수: {}\\nwatch 이미지 개수: {}'\n",
    "      .format(len(bags), len(belt), len(eyewear), len(hat), len(long_sleeve), len(pants), len(short_sleeve), len(sneakers), len(watch)))"
   ]
  },
  {
   "cell_type": "code",
   "execution_count": 7,
   "id": "184085ac",
   "metadata": {},
   "outputs": [
    {
     "name": "stdout",
     "output_type": "stream",
     "text": [
      "bags test 파일에 들어갈 이미지 개수: 197/984\n",
      "belt test 파일에 들어갈 이미지 개수: 215/1075\n",
      "eyewear test 파일에 들어갈 이미지 개수: 216/1080\n",
      "hat test 파일에 들어갈 이미지 개수: 206/1030\n",
      "long_sleeve test 파일에 들어갈 이미지 개수: 292/1462\n",
      "pants test 파일에 들어갈 이미지 개수: 303/1517\n",
      "short_sleeve test 파일에 들어갈 이미지 개수: 305/1526\n",
      "sneakers test 파일에 들어갈 이미지 개수: 212/1059\n",
      "watch test 파일에 들어갈 이미지 개수: 195/977\n"
     ]
    }
   ],
   "source": [
    "# 비율이 작은 test로 빠르게 split\n",
    "\n",
    "import math\n",
    "\n",
    "bags_test_count = round(len(bags) * 0.2)\n",
    "belt_test_count = round(len(belt) * 0.2)\n",
    "eyewear_test_count = round(len(eyewear) * 0.2)\n",
    "hat_test_count = round(len(hat) * 0.2)\n",
    "long_sleeve_test_count = round(len(long_sleeve) * 0.2)\n",
    "pants_test_count = round(len(pants) * 0.2)\n",
    "short_sleeve_test_count = round(len(short_sleeve) * 0.2)\n",
    "sneakers_test_count = round(len(sneakers) * 0.2)\n",
    "watch_test_count = round(len(watch) * 0.2)\n",
    "\n",
    "print('bags test 파일에 들어갈 이미지 개수: {}/{}'.format(bags_test_count, len(bags)))\n",
    "print('belt test 파일에 들어갈 이미지 개수: {}/{}'.format(belt_test_count, len(belt)))\n",
    "print('eyewear test 파일에 들어갈 이미지 개수: {}/{}'.format(eyewear_test_count, len(eyewear)))\n",
    "print('hat test 파일에 들어갈 이미지 개수: {}/{}'.format(hat_test_count, len(hat)))\n",
    "print('long_sleeve test 파일에 들어갈 이미지 개수: {}/{}'.format(long_sleeve_test_count, len(long_sleeve)))\n",
    "print('pants test 파일에 들어갈 이미지 개수: {}/{}'.format(pants_test_count, len(pants)))\n",
    "print('short_sleeve test 파일에 들어갈 이미지 개수: {}/{}'.format(short_sleeve_test_count, len(short_sleeve)))\n",
    "print('sneakers test 파일에 들어갈 이미지 개수: {}/{}'.format(sneakers_test_count, len(sneakers)))\n",
    "print('watch test 파일에 들어갈 이미지 개수: {}/{}'.format(watch_test_count, len(watch)))"
   ]
  },
  {
   "cell_type": "code",
   "execution_count": 10,
   "id": "d01404a0",
   "metadata": {},
   "outputs": [],
   "source": [
    "import shutil\n",
    "import random\n",
    "\n",
    "def split( img_list, test_count, train_path, test_path):\n",
    "  \n",
    "  test_files=[]\n",
    "  for i in random.sample( img_list, test_count ):\n",
    "    test_files.append(i)\n",
    "\n",
    "  # 차집합으로 train/test 리스트 생성하기\n",
    "  train_files = [x for x in img_list if x not in test_files]\n",
    "\n",
    "  for k in train_files:\n",
    "    shutil.copy(k, train_path)\n",
    "  \n",
    "  for c in test_files:\n",
    "    shutil.copy(c, test_path)\n",
    "\n",
    "  print('train 폴더 이미지 개수 : {}\\ntest 폴더 이미지 개수 : {}'.format(len(glob.glob(train_path+'/*')),len(glob.glob(test_path+'/*'))))\n",
    "                                                                         \n",
    "                                                                         "
   ]
  },
  {
   "cell_type": "code",
   "execution_count": 11,
   "id": "363c8ce5",
   "metadata": {},
   "outputs": [
    {
     "name": "stdout",
     "output_type": "stream",
     "text": [
      "train 폴더 이미지 개수 : 787\n",
      "test 폴더 이미지 개수 : 197\n",
      "train 폴더 이미지 개수 : 860\n",
      "test 폴더 이미지 개수 : 215\n",
      "train 폴더 이미지 개수 : 864\n",
      "test 폴더 이미지 개수 : 216\n",
      "train 폴더 이미지 개수 : 824\n",
      "test 폴더 이미지 개수 : 206\n",
      "train 폴더 이미지 개수 : 1170\n",
      "test 폴더 이미지 개수 : 292\n",
      "train 폴더 이미지 개수 : 1214\n",
      "test 폴더 이미지 개수 : 303\n",
      "train 폴더 이미지 개수 : 1221\n",
      "test 폴더 이미지 개수 : 305\n",
      "train 폴더 이미지 개수 : 847\n",
      "test 폴더 이미지 개수 : 212\n",
      "train 폴더 이미지 개수 : 782\n",
      "test 폴더 이미지 개수 : 195\n"
     ]
    }
   ],
   "source": [
    "# 파일 split\n",
    "\n",
    "bags_train_path='./train/bags'\n",
    "bags_test_path='./test/bags'\n",
    "\n",
    "belt_train_path='./train/belt'\n",
    "belt_test_path='./test/belt'\n",
    "\n",
    "eyewear_train_path='./train/eyewear'\n",
    "eyewear_test_path='./test/eyewear'\n",
    "\n",
    "hat_train_path='./train/hat'\n",
    "hat_test_path='./test/hat'\n",
    "\n",
    "long_sleeve_train_path='./train/long_sleeve'\n",
    "long_sleeve_test_path='./test/long_sleeve'\n",
    "\n",
    "pants_train_path='./train/pants'\n",
    "pants_test_path='./test/pants'\n",
    "\n",
    "short_sleeve_train_path='./train/short_sleeve'\n",
    "short_sleeve_test_path='./test/short_sleeve'\n",
    "\n",
    "sneakers_train_path='./train/sneakers'\n",
    "sneakers_test_path='./test/sneakers'\n",
    "\n",
    "watch_train_path='./train/watch'\n",
    "watch_test_path='./test/watch'\n",
    "\n",
    "\n",
    "split(bags, bags_test_count, bags_train_path, bags_test_path)\n",
    "split(belt, belt_test_count, belt_train_path, belt_test_path)\n",
    "split(eyewear, eyewear_test_count, eyewear_train_path, eyewear_test_path)\n",
    "split(hat, hat_test_count, hat_train_path, hat_test_path)\n",
    "split(long_sleeve, long_sleeve_test_count, long_sleeve_train_path, long_sleeve_test_path)\n",
    "split(pants, pants_test_count, pants_train_path, pants_test_path)\n",
    "split(short_sleeve, short_sleeve_test_count, short_sleeve_train_path, short_sleeve_test_path)\n",
    "split(sneakers, sneakers_test_count, sneakers_train_path, sneakers_test_path)\n",
    "split(watch, watch_test_count, watch_train_path, watch_test_path)"
   ]
  },
  {
   "cell_type": "markdown",
   "id": "d70c596a",
   "metadata": {},
   "source": [
    "* 약 한 1시간 정도 소요됨. \n",
    "* 폴더를 정리해야하기 때문에 이미지째로 진행"
   ]
  },
  {
   "cell_type": "markdown",
   "id": "86956598",
   "metadata": {},
   "source": [
    "# train/test로 split한 이미지들은 랜덤 추출했기 때문에 다시 넘버링 해주자."
   ]
  },
  {
   "cell_type": "code",
   "execution_count": null,
   "id": "9f72a7ce",
   "metadata": {},
   "outputs": [],
   "source": [
    "# 원본 이미지 넘버링하기 -> rename 함수를 만들어줬으므로 경로만 바꿔서 재사용\n",
    "\n",
    "# trainset 넘버링\n",
    "\n",
    "path = \"./train\"\n",
    "bags_tr = glob.glob(path+\"/bags\" + '/*')\n",
    "belt_tr = glob.glob(path+\"/belt\"+'/*')\n",
    "eyewear_tr = glob.glob(path+\"/eyewear\"+'/*')\n",
    "hat_tr = glob.glob(path+\"/hat\"+'/*')\n",
    "long_sleeve_tr = glob.glob(path+\"/long_sleeve\"+'/*')\n",
    "pants_tr = glob.glob(path+\"/pants\"+'/*')\n",
    "short_sleeve_tr = glob.glob(path+\"/short_sleeve\"+'/*')\n",
    "sneakers = glob.glob(path+\"/sneakers\"+'/*')\n",
    "watch = glob.glob(path+\"/watch\"+'/*')\n",
    "\n",
    "\n",
    "rename(bags)\n",
    "rename(belt)\n",
    "rename(eyewear)\n",
    "rename(hat)\n",
    "rename(long_sleeve)\n",
    "rename(pants)\n",
    "rename(short_sleeve)\n",
    "rename(sneakers)\n",
    "rename(watch)"
   ]
  },
  {
   "cell_type": "code",
   "execution_count": null,
   "id": "572b7873",
   "metadata": {},
   "outputs": [],
   "source": [
    "path = \"./train\"\n",
    "bags = glob.glob(path+\"/bags\" + '/*')\n",
    "belt = glob.glob(path+\"/belt\"+'/*')\n",
    "eyewear = glob.glob(path+\"/eyewear\"+'/*')\n",
    "hat = glob.glob(path+\"/hat\"+'/*')\n",
    "long_sleeve = glob.glob(path+\"/long_sleeve\"+'/*')\n",
    "pants = glob.glob(path+\"/pants\"+'/*')\n",
    "short_sleeve = glob.glob(path+\"/short_sleeve\"+'/*')\n",
    "sneakers = glob.glob(path+\"/sneakers\"+'/*')\n",
    "watch = glob.glob(path+\"/watch\"+'/*')\n",
    "\n",
    "print('각각 마지막 파일 이름 : ',os.path.basename(sorted(bags)[-1]), \n",
    "                            os.path.basename(sorted(belt)[-1]), \n",
    "                            os.path.basename(sorted(eyewear)[-1]),\n",
    "                            os.path.basename(sorted(hat)[-1]),\n",
    "                            os.path.basename(sorted(long_sleeve)[-1]),\n",
    "                            os.path.basename(sorted(pants)[-1]),\n",
    "                            os.path.basename(sorted(short_sleeve)[-1]),\n",
    "                            os.path.basename(sorted(sneakers)[-1]),\n",
    "                            os.path.basename(sorted(watch)[-1]))\n"
   ]
  },
  {
   "cell_type": "code",
   "execution_count": null,
   "id": "ee7c75da",
   "metadata": {},
   "outputs": [],
   "source": [
    "# testset 넘버링\n",
    "\n",
    "path = \"./test\"\n",
    "bags = glob.glob(path+\"/bags\" + '/*')\n",
    "belt = glob.glob(path+\"/belt\"+'/*')\n",
    "eyewear = glob.glob(path+\"/eyewear\"+'/*')\n",
    "hat = glob.glob(path+\"/hat\"+'/*')\n",
    "long_sleeve = glob.glob(path+\"/long_sleeve\"+'/*')\n",
    "pants = glob.glob(path+\"/pants\"+'/*')\n",
    "short_sleeve = glob.glob(path+\"/short_sleeve\"+'/*')\n",
    "sneakers = glob.glob(path+\"/sneakers\"+'/*')\n",
    "watch = glob.glob(path+\"/watch\"+'/*')\n",
    "\n",
    "rename(bags)\n",
    "rename(belt)\n",
    "rename(eyewear)\n",
    "rename(hat)\n",
    "rename(long_sleeve)\n",
    "rename(pants)\n",
    "rename(short_sleeve)\n",
    "rename(sneakers)\n",
    "rename(watch)"
   ]
  },
  {
   "cell_type": "code",
   "execution_count": null,
   "id": "9b1376c4",
   "metadata": {},
   "outputs": [],
   "source": [
    "path = \"./test\"\n",
    "\n",
    "bags = glob.glob(path+\"/bags\" + '/*')\n",
    "belt = glob.glob(path+\"/belt\"+'/*')\n",
    "eyewear = glob.glob(path+\"/eyewear\"+'/*')\n",
    "hat = glob.glob(path+\"/hat\"+'/*')\n",
    "long_sleeve = glob.glob(path+\"/long_sleeve\"+'/*')\n",
    "pants = glob.glob(path+\"/pants\"+'/*')\n",
    "short_sleeve = glob.glob(path+\"/short_sleeve\"+'/*')\n",
    "sneakers = glob.glob(path+\"/sneakers\"+'/*')\n",
    "watch = glob.glob(path+\"/watch\"+'/*')\n",
    "\n",
    "print('각각 마지막 파일 이름 : ',os.path.basename(sorted(bags)[-1]), \n",
    "                           os.path.basename(sorted(belt)[-1]), \n",
    "                           os.path.basename(sorted(eyewear)[-1]),\n",
    "                           os.path.basename(sorted(hat)[-1]),\n",
    "                           os.path.basename(sorted(long_sleeve)[-1]),\n",
    "                           os.path.basename(sorted(pants)[-1]),\n",
    "                           os.path.basename(sorted(short_sleeve)[-1]),\n",
    "                           os.path.basename(sorted(sneakers)[-1]),\n",
    "                           os.path.basename(sorted(watch)[-1]))"
   ]
  },
  {
   "cell_type": "code",
   "execution_count": null,
   "id": "d125c9a1",
   "metadata": {},
   "outputs": [],
   "source": []
  },
  {
   "cell_type": "code",
   "execution_count": null,
   "id": "46da4180",
   "metadata": {},
   "outputs": [],
   "source": []
  }
 ],
 "metadata": {
  "kernelspec": {
   "display_name": "Pytorch2.0, Tensorflow2.11 (kaggle 23.05/Python 3.10 Conda, CUDA 11.3) on Backend.AI",
   "language": "python",
   "name": "python3"
  },
  "language_info": {
   "codemirror_mode": {
    "name": "ipython",
    "version": 3
   },
   "file_extension": ".py",
   "mimetype": "text/x-python",
   "name": "python",
   "nbconvert_exporter": "python",
   "pygments_lexer": "ipython3",
   "version": "3.10.10"
  }
 },
 "nbformat": 4,
 "nbformat_minor": 5
}
