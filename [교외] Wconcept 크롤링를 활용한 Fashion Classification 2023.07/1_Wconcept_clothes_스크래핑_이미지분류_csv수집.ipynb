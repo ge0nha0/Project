{
 "cells": [
  {
   "cell_type": "code",
   "execution_count": 1,
   "metadata": {
    "colab": {
     "base_uri": "https://localhost:8080/"
    },
    "id": "y-KK9zPktZTm",
    "outputId": "1a95dd12-e6ea-49a8-8f18-855a2e07028c"
   },
   "outputs": [],
   "source": [
    "# !pip3 install beautifulsoup4 -U\n",
    "import requests\n",
    "from bs4 import BeautifulSoup\n",
    "import csv\n",
    "import urllib.request\n",
    "from urllib.error import HTTPError"
   ]
  },
  {
   "cell_type": "code",
   "execution_count": 2,
   "metadata": {
    "colab": {
     "base_uri": "https://localhost:8080/"
    },
    "id": "Bp_-FDS-LBJZ",
    "outputId": "68e443d7-98fb-4cfe-f17c-58e69b037321"
   },
   "outputs": [],
   "source": [
    "# from google.colab import drive\n",
    "# drive.mount('/content/drive')"
   ]
  },
  {
   "cell_type": "code",
   "execution_count": 3,
   "metadata": {
    "id": "1EkGROJaIZtU"
   },
   "outputs": [],
   "source": [
    "import os\n",
    "import pandas as pd\n",
    "from tqdm import tqdm"
   ]
  },
  {
   "cell_type": "markdown",
   "metadata": {
    "id": "psIe8aaeq2jq"
   },
   "source": [
    "###test"
   ]
  },
  {
   "cell_type": "markdown",
   "metadata": {
    "id": "ZX6fzkXoLT_E"
   },
   "source": [
    "## 필요한 데이터 수집\n",
    "- 옷 이미지 url, 이미지 저장되는 이름, 옷 카테고리, 카테고리 사이즈,개별 옷 url, 그 옷의 소재, 제조자(수입자) 를 딕셔너리로 저장한다."
   ]
  },
  {
   "cell_type": "code",
   "execution_count": 4,
   "metadata": {
    "colab": {
     "base_uri": "https://localhost:8080/"
    },
    "id": "hu0Zc9QJ7M5D",
    "outputId": "621afb88-43e6-4f5a-dcad-1490edf8ca48"
   },
   "outputs": [
    {
     "data": {
      "text/plain": [
       "{'img_url': None,\n",
       " 'img_name': None,\n",
       " 'clothes_category': None,\n",
       " 'brand': None,\n",
       " 'category_size': None,\n",
       " 'self_clothes_url': None,\n",
       " 'clothes_material': None,\n",
       " 'clothes_importer': None,\n",
       " 'price': None}"
      ]
     },
     "execution_count": 4,
     "metadata": {},
     "output_type": "execute_result"
    }
   ],
   "source": [
    "clothes_dic = {\"img_url\":None , \"img_name\":None, \"clothes_category\":None,\n",
    "               \"brand\":None, \"category_size\":None, \"self_clothes_url\":None, \"clothes_material\":None, \"clothes_importer\":None, \"price\":None}\n",
    "clothes_dic"
   ]
  },
  {
   "cell_type": "code",
   "execution_count": 14,
   "metadata": {
    "colab": {
     "base_uri": "https://localhost:8080/"
    },
    "id": "VE6bgG6nNXmC",
    "outputId": "4894bd53-7458-4a0f-dcb9-75e2a30e9fdd"
   },
   "outputs": [
    {
     "name": "stderr",
     "output_type": "stream",
     "text": [
      "100% 1/1 [09:27<00:00, 567.93s/it]\n"
     ]
    }
   ],
   "source": [
    "#티셔츠만 수집함. #이미지 저장은 안함. 001003004\n",
    "# https://www.wconcept.co.kr/Men/006001?ccd=3_006001002\n",
    "large_category_code = {\"럭셔리어패럴\": \"006001\"}\n",
    "small_category_code = { \"바지\": \"006001006\"} # \"반팔\":\"006001002\", \"긴팔\": \"006001003\", \"팬츠\": \"006001006\" # \"모자\": \"006004003\"\n",
    "page = 17\n",
    "code = '006001006'\n",
    "\n",
    "for cate in tqdm(small_category_code.items()):\n",
    "    clothes_info_list = []\n",
    "    for num in range(1, page+1):\n",
    "        url = f\"https://www.wconcept.co.kr/Men/{large_category_code['럭셔리어패럴']}?ccd=3_{code}&page={num}\" \n",
    "        request_result = requests.get(url, headers={\"User-Agent\": \"Mozilla/5.0\"})\n",
    "        html = request_result.text\n",
    "        soup = BeautifulSoup(html, \"html.parser\")\n",
    "\n",
    "        raw_imgs = soup.find_all(\"img\")\n",
    "        img_urls = [img[\"src\"] for img in raw_imgs]\n",
    "        img_urls = [\"https:\"+img for img in img_urls if img[2:9]==\"product\" and \"thumbnail\" not in img]\n",
    "\n",
    "        if len(img_urls) < 1:\n",
    "            break #해당페이지가 없는 경우\n",
    "\n",
    "        # print(code, num, len(img_urls), img_urls)\n",
    "\n",
    "        for i, img_url in enumerate(img_urls):\n",
    "            clothes_dic = {\"img_url\":None , \"img_name\":None, \"clothes_category\":None,\n",
    "               \"brand\":None, \"category_size\":None, \"self_clothes_url\":None, \"clothes_material\":None, \"clothes_importer\":None, \"price\":None}\n",
    "\n",
    "\n",
    "            clothes_code = img_url.split(\"/\")[-1]\n",
    "            clothes_img = f\"{large_category_code['럭셔리어패럴']}-{code}-{clothes_code}\"\n",
    "\n",
    "            clothes_dic[\"img_url\"] = img_url\n",
    "            clothes_dic[\"img_name\"] = clothes_img\n",
    "            clothes_dic[\"clothes_category\"] = code # code \n",
    "            clothes_dic[\"category_size\"] = \"small\"\n",
    "\n",
    "            product_code = clothes_code.split(\"_\")[0]\n",
    "            if \".jpg\" in product_code:\n",
    "                product_code = product_code[:-4] \n",
    "            small_clothes_url = f\"https://www.wconcept.co.kr/Product/{product_code}\"\n",
    "            clothes_dic[\"self_clothes_url\"] = small_clothes_url\n",
    "\n",
    "            #여기에서 정보 수집 이뤄져야 함.\n",
    "            request_result = requests.get(small_clothes_url, headers={\"User-Agent\": \"Mozilla/5.0\"})\n",
    "            html = request_result.text\n",
    "            soup = BeautifulSoup(html, \"html.parser\")\n",
    "\n",
    "            price_selector = \"dd > em\"\n",
    "            price = soup.select(price_selector)\n",
    "            if price:\n",
    "                clothes_dic[\"price\"] = price[0].text.replace(\",\",\"\") #가격에 붙은 쉼표 없앰\n",
    "\n",
    "            clothes_material_selector = \"#container > div > div > div.pdt_contents.detail > div.noti_prod_info.st_default > table > tbody > tr:nth-child(1) > td\"\n",
    "            clothes_material = soup.select(clothes_material_selector)\n",
    "            materials = [material.text for material in clothes_material]\n",
    "            if materials:\n",
    "                clothes_dic[\"clothes_material\"] = materials[0]\n",
    "\n",
    "            importer_selector = \"#container > div > div > div.pdt_contents.detail > div.noti_prod_info.st_default > table > tbody > tr:nth-child(4) > td\"\n",
    "            clothes_importer = soup.select(importer_selector)\n",
    "            importer = [importer.text for importer in clothes_importer]\n",
    "            if importer:\n",
    "                clothes_dic[\"clothes_importer\"] = importer[0]\n",
    "\n",
    "\n",
    "            brand = soup.find_all(\"h2\")\n",
    "            if brand:\n",
    "                brand = soup.find_all(\"h2\")[0].text\n",
    "                brand = brand.replace(\"\\n\", \"\")\n",
    "                clothes_dic[\"brand\"] = brand\n",
    "\n",
    "            # print(\"저장됨\", i, clothes_dic)\n",
    "            clothes_info_list.append(clothes_dic)\n",
    "\n",
    "    df = pd.DataFrame(clothes_info_list)\n",
    "    # df.to_csv(f\"/content/drive/MyDrive/Colab Notebooks/clothes_info_{code}_page{page}_20230627.csv\") # code\n",
    "        # print(\"리스트길이\",len(clothes_info_list))\n",
    "        # print(clothes_info_list)"
   ]
  },
  {
   "cell_type": "code",
   "execution_count": 15,
   "metadata": {
    "colab": {
     "base_uri": "https://localhost:8080/",
     "height": 641
    },
    "id": "yrCkLQqfphGg",
    "outputId": "0a33968e-9052-485e-b8ae-f12953ac89ad"
   },
   "outputs": [
    {
     "data": {
      "text/html": [
       "<div>\n",
       "<style scoped>\n",
       "    .dataframe tbody tr th:only-of-type {\n",
       "        vertical-align: middle;\n",
       "    }\n",
       "\n",
       "    .dataframe tbody tr th {\n",
       "        vertical-align: top;\n",
       "    }\n",
       "\n",
       "    .dataframe thead th {\n",
       "        text-align: right;\n",
       "    }\n",
       "</style>\n",
       "<table border=\"1\" class=\"dataframe\">\n",
       "  <thead>\n",
       "    <tr style=\"text-align: right;\">\n",
       "      <th></th>\n",
       "      <th>img_url</th>\n",
       "      <th>img_name</th>\n",
       "      <th>clothes_category</th>\n",
       "      <th>brand</th>\n",
       "      <th>category_size</th>\n",
       "      <th>self_clothes_url</th>\n",
       "      <th>clothes_material</th>\n",
       "      <th>clothes_importer</th>\n",
       "      <th>price</th>\n",
       "    </tr>\n",
       "  </thead>\n",
       "  <tbody>\n",
       "    <tr>\n",
       "      <th>0</th>\n",
       "      <td>https://product-image.wconcept.co.kr/productim...</td>\n",
       "      <td>006001-006001006-303117076_GG20620.jpg</td>\n",
       "      <td>006001006</td>\n",
       "      <td>OUR LEGACY</td>\n",
       "      <td>small</td>\n",
       "      <td>https://www.wconcept.co.kr/Product/303117076</td>\n",
       "      <td>100% POLYAMIDE</td>\n",
       "      <td>아워 레가시 / 병행수입</td>\n",
       "      <td>366000</td>\n",
       "    </tr>\n",
       "    <tr>\n",
       "      <th>1</th>\n",
       "      <td>https://product-image.wconcept.co.kr/productim...</td>\n",
       "      <td>006001-006001006-303117295_HJ41564.jpg</td>\n",
       "      <td>006001006</td>\n",
       "      <td>MOSCHINO</td>\n",
       "      <td>small</td>\n",
       "      <td>https://www.wconcept.co.kr/Product/303117295</td>\n",
       "      <td>COTTON 40%, POLYESTER 60%</td>\n",
       "      <td>MOSCHINO</td>\n",
       "      <td>602000</td>\n",
       "    </tr>\n",
       "    <tr>\n",
       "      <th>2</th>\n",
       "      <td>https://product-image.wconcept.co.kr/productim...</td>\n",
       "      <td>006001-006001006-303117293_IG16967.jpg</td>\n",
       "      <td>006001006</td>\n",
       "      <td>MOSCHINO</td>\n",
       "      <td>small</td>\n",
       "      <td>https://www.wconcept.co.kr/Product/303117293</td>\n",
       "      <td>COTTON 100%</td>\n",
       "      <td>MOSCHINO</td>\n",
       "      <td>724000</td>\n",
       "    </tr>\n",
       "    <tr>\n",
       "      <th>3</th>\n",
       "      <td>https://product-image.wconcept.co.kr/productim...</td>\n",
       "      <td>006001-006001006-303115638_HL14618.jpg</td>\n",
       "      <td>006001006</td>\n",
       "      <td>JIL SANDER</td>\n",
       "      <td>small</td>\n",
       "      <td>https://www.wconcept.co.kr/Product/303115638</td>\n",
       "      <td>상세설명 참조</td>\n",
       "      <td>JIL SANDER</td>\n",
       "      <td>2311000</td>\n",
       "    </tr>\n",
       "    <tr>\n",
       "      <th>4</th>\n",
       "      <td>https://product-image.wconcept.co.kr/productim...</td>\n",
       "      <td>006001-006001006-303115217_GN57378.jpg</td>\n",
       "      <td>006001006</td>\n",
       "      <td>Palm Angels</td>\n",
       "      <td>small</td>\n",
       "      <td>https://www.wconcept.co.kr/Product/303115217</td>\n",
       "      <td>80% cotton 20% polyester  Lining 100% cotton</td>\n",
       "      <td>PALM ANGELS</td>\n",
       "      <td>704000</td>\n",
       "    </tr>\n",
       "    <tr>\n",
       "      <th>...</th>\n",
       "      <td>...</td>\n",
       "      <td>...</td>\n",
       "      <td>...</td>\n",
       "      <td>...</td>\n",
       "      <td>...</td>\n",
       "      <td>...</td>\n",
       "      <td>...</td>\n",
       "      <td>...</td>\n",
       "      <td>...</td>\n",
       "    </tr>\n",
       "    <tr>\n",
       "      <th>1525</th>\n",
       "      <td>https://product-image.wconcept.co.kr/productim...</td>\n",
       "      <td>006001-006001006-303084830_GG16447.jpg</td>\n",
       "      <td>006001006</td>\n",
       "      <td>CASABLANCA</td>\n",
       "      <td>small</td>\n",
       "      <td>https://www.wconcept.co.kr/Product/303084830</td>\n",
       "      <td>100% POLYESTER</td>\n",
       "      <td>CASABLANCA</td>\n",
       "      <td>1047000</td>\n",
       "    </tr>\n",
       "    <tr>\n",
       "      <th>1526</th>\n",
       "      <td>https://product-image.wconcept.co.kr/productim...</td>\n",
       "      <td>006001-006001006-303084806_GK53446.jpg</td>\n",
       "      <td>006001006</td>\n",
       "      <td>TOM FORD</td>\n",
       "      <td>small</td>\n",
       "      <td>https://www.wconcept.co.kr/Product/303084806</td>\n",
       "      <td>Fabric 99%Cotton  1%Polyurethane    Lining 100...</td>\n",
       "      <td>TOMFORD</td>\n",
       "      <td>1659000</td>\n",
       "    </tr>\n",
       "    <tr>\n",
       "      <th>1527</th>\n",
       "      <td>https://product-image.wconcept.co.kr/productim...</td>\n",
       "      <td>006001-006001006-303084782_KG48956.jpg</td>\n",
       "      <td>006001006</td>\n",
       "      <td>BRUNELLO CUCINELLI</td>\n",
       "      <td>small</td>\n",
       "      <td>https://www.wconcept.co.kr/Product/303084782</td>\n",
       "      <td>93%CO 7%PA</td>\n",
       "      <td>BRUNELLO CUCINELLI</td>\n",
       "      <td>1532000</td>\n",
       "    </tr>\n",
       "    <tr>\n",
       "      <th>1528</th>\n",
       "      <td>https://product-image.wconcept.co.kr/productim...</td>\n",
       "      <td>006001-006001006-303084774_KM99760.jpg</td>\n",
       "      <td>006001006</td>\n",
       "      <td>Loro Piana</td>\n",
       "      <td>small</td>\n",
       "      <td>https://www.wconcept.co.kr/Product/303084774</td>\n",
       "      <td>Cotone</td>\n",
       "      <td>LORO PIANA</td>\n",
       "      <td>1090000</td>\n",
       "    </tr>\n",
       "    <tr>\n",
       "      <th>1529</th>\n",
       "      <td>https://product-image.wconcept.co.kr/productim...</td>\n",
       "      <td>006001-006001006-303084771_MJ96717.jpg</td>\n",
       "      <td>006001006</td>\n",
       "      <td>BALENCIAGA</td>\n",
       "      <td>small</td>\n",
       "      <td>https://www.wconcept.co.kr/Product/303084771</td>\n",
       "      <td>T POLYESTER  51%</td>\n",
       "      <td>BALENCIAGA</td>\n",
       "      <td>2396000</td>\n",
       "    </tr>\n",
       "  </tbody>\n",
       "</table>\n",
       "<p>1530 rows × 9 columns</p>\n",
       "</div>"
      ],
      "text/plain": [
       "                                                img_url  \\\n",
       "0     https://product-image.wconcept.co.kr/productim...   \n",
       "1     https://product-image.wconcept.co.kr/productim...   \n",
       "2     https://product-image.wconcept.co.kr/productim...   \n",
       "3     https://product-image.wconcept.co.kr/productim...   \n",
       "4     https://product-image.wconcept.co.kr/productim...   \n",
       "...                                                 ...   \n",
       "1525  https://product-image.wconcept.co.kr/productim...   \n",
       "1526  https://product-image.wconcept.co.kr/productim...   \n",
       "1527  https://product-image.wconcept.co.kr/productim...   \n",
       "1528  https://product-image.wconcept.co.kr/productim...   \n",
       "1529  https://product-image.wconcept.co.kr/productim...   \n",
       "\n",
       "                                    img_name clothes_category  \\\n",
       "0     006001-006001006-303117076_GG20620.jpg        006001006   \n",
       "1     006001-006001006-303117295_HJ41564.jpg        006001006   \n",
       "2     006001-006001006-303117293_IG16967.jpg        006001006   \n",
       "3     006001-006001006-303115638_HL14618.jpg        006001006   \n",
       "4     006001-006001006-303115217_GN57378.jpg        006001006   \n",
       "...                                      ...              ...   \n",
       "1525  006001-006001006-303084830_GG16447.jpg        006001006   \n",
       "1526  006001-006001006-303084806_GK53446.jpg        006001006   \n",
       "1527  006001-006001006-303084782_KG48956.jpg        006001006   \n",
       "1528  006001-006001006-303084774_KM99760.jpg        006001006   \n",
       "1529  006001-006001006-303084771_MJ96717.jpg        006001006   \n",
       "\n",
       "                    brand category_size  \\\n",
       "0              OUR LEGACY         small   \n",
       "1                MOSCHINO         small   \n",
       "2                MOSCHINO         small   \n",
       "3              JIL SANDER         small   \n",
       "4             Palm Angels         small   \n",
       "...                   ...           ...   \n",
       "1525           CASABLANCA         small   \n",
       "1526             TOM FORD         small   \n",
       "1527  BRUNELLO CUCINELLI          small   \n",
       "1528           Loro Piana         small   \n",
       "1529           BALENCIAGA         small   \n",
       "\n",
       "                                  self_clothes_url  \\\n",
       "0     https://www.wconcept.co.kr/Product/303117076   \n",
       "1     https://www.wconcept.co.kr/Product/303117295   \n",
       "2     https://www.wconcept.co.kr/Product/303117293   \n",
       "3     https://www.wconcept.co.kr/Product/303115638   \n",
       "4     https://www.wconcept.co.kr/Product/303115217   \n",
       "...                                            ...   \n",
       "1525  https://www.wconcept.co.kr/Product/303084830   \n",
       "1526  https://www.wconcept.co.kr/Product/303084806   \n",
       "1527  https://www.wconcept.co.kr/Product/303084782   \n",
       "1528  https://www.wconcept.co.kr/Product/303084774   \n",
       "1529  https://www.wconcept.co.kr/Product/303084771   \n",
       "\n",
       "                                       clothes_material    clothes_importer  \\\n",
       "0                                        100% POLYAMIDE       아워 레가시 / 병행수입   \n",
       "1                             COTTON 40%, POLYESTER 60%            MOSCHINO   \n",
       "2                                           COTTON 100%            MOSCHINO   \n",
       "3                                               상세설명 참조          JIL SANDER   \n",
       "4          80% cotton 20% polyester  Lining 100% cotton         PALM ANGELS   \n",
       "...                                                 ...                 ...   \n",
       "1525                                     100% POLYESTER          CASABLANCA   \n",
       "1526  Fabric 99%Cotton  1%Polyurethane    Lining 100...             TOMFORD   \n",
       "1527                                         93%CO 7%PA  BRUNELLO CUCINELLI   \n",
       "1528                                             Cotone          LORO PIANA   \n",
       "1529                                   T POLYESTER  51%          BALENCIAGA   \n",
       "\n",
       "        price  \n",
       "0      366000  \n",
       "1      602000  \n",
       "2      724000  \n",
       "3     2311000  \n",
       "4      704000  \n",
       "...       ...  \n",
       "1525  1047000  \n",
       "1526  1659000  \n",
       "1527  1532000  \n",
       "1528  1090000  \n",
       "1529  2396000  \n",
       "\n",
       "[1530 rows x 9 columns]"
      ]
     },
     "execution_count": 15,
     "metadata": {},
     "output_type": "execute_result"
    }
   ],
   "source": [
    "df5 = df.dropna(axis=0)\n",
    "df5"
   ]
  },
  {
   "cell_type": "code",
   "execution_count": 16,
   "metadata": {
    "id": "Us0fLXyY4x-2"
   },
   "outputs": [],
   "source": [
    "df5.to_csv(f'clothes_info_바지_{code}_page{page}_20230630.csv',encoding='utf-8-sig',index=False)"
   ]
  },
  {
   "cell_type": "code",
   "execution_count": null,
   "metadata": {},
   "outputs": [],
   "source": []
  }
 ],
 "metadata": {
  "accelerator": "GPU",
  "colab": {
   "gpuType": "T4",
   "provenance": []
  },
  "kernelspec": {
   "display_name": "Pytorch2.0, Tensorflow2.11 (kaggle 23.05/Python 3.10 Conda, CUDA 11.3) on Backend.AI",
   "language": "python",
   "name": "python3"
  },
  "language_info": {
   "codemirror_mode": {
    "name": "ipython",
    "version": 3
   },
   "file_extension": ".py",
   "mimetype": "text/x-python",
   "name": "python",
   "nbconvert_exporter": "python",
   "pygments_lexer": "ipython3",
   "version": "3.10.10"
  }
 },
 "nbformat": 4,
 "nbformat_minor": 1
}
