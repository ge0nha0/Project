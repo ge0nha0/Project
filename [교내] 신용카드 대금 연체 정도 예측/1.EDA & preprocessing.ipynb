{
 "cells": [
  {
   "cell_type": "code",
   "execution_count": null,
   "id": "bd55657c",
   "metadata": {},
   "outputs": [],
   "source": [
    "#import matplotlib_hangul\n",
    "%matplotlib inline\n",
    "import warnings\n",
    "warnings.filterwarnings(\"ignore\")\n",
    "\n",
    "import pandas as pd\n",
    "import numpy as np\n",
    "import matplotlib.pyplot as plt\n",
    "import seaborn as sns"
   ]
  },
  {
   "cell_type": "code",
   "execution_count": null,
   "id": "bbd35c41",
   "metadata": {},
   "outputs": [],
   "source": [
    "train = pd.read_csv('data/train.csv', encoding = 'cp949')\n",
    "test = pd.read_csv('data/test.csv', encoding = 'cp949')\n",
    "\n",
    "submission = pd.read_csv('data/sample_submission.csv', encoding = 'cp949')"
   ]
  },
  {
   "cell_type": "code",
   "execution_count": null,
   "id": "eabd4fe7",
   "metadata": {},
   "outputs": [],
   "source": [
    "display(train.shape, test.shape)"
   ]
  },
  {
   "cell_type": "markdown",
   "id": "a15ca971",
   "metadata": {},
   "source": [
    "## __Data Cleansing__"
   ]
  },
  {
   "cell_type": "code",
   "execution_count": null,
   "id": "6f3e25f0",
   "metadata": {},
   "outputs": [],
   "source": [
    "print('train data 결측치 비율 \\n')\n",
    "\n",
    "for col in train.columns:\n",
    "    msg = 'column: {:>10}\\t Percent of NaN value: {:.2f}%'.format(col, 100 * train[col].isnull().sum() / train[col].shape[0])\n",
    "    print(msg)"
   ]
  },
  {
   "cell_type": "markdown",
   "id": "ccec64bf",
   "metadata": {},
   "source": [
    "- train 데이터에 occpy_type에만 30.88% 결측치가 존재함."
   ]
  },
  {
   "cell_type": "code",
   "execution_count": null,
   "id": "717c9c98",
   "metadata": {},
   "outputs": [],
   "source": [
    "print('test data 결측치 비율 \\n')\n",
    "\n",
    "for col in test.columns:\n",
    "    msg = 'column: {:>10}\\t Percent of NaN value: {:.2f}%'.format(col, 100 * test[col].isnull().sum() / test[col].shape[0])\n",
    "    print(msg)"
   ]
  },
  {
   "cell_type": "markdown",
   "id": "e03a6ee2",
   "metadata": {},
   "source": [
    "- test 데이터에 occpy_type에만 31.52% 결측치가 존재함."
   ]
  },
  {
   "cell_type": "code",
   "execution_count": null,
   "id": "7af9914f",
   "metadata": {},
   "outputs": [],
   "source": [
    "train['occyp_type'].value_counts(dropna=False)"
   ]
  },
  {
   "cell_type": "markdown",
   "id": "e0c90f51",
   "metadata": {},
   "source": [
    "### 결측치 처리"
   ]
  },
  {
   "cell_type": "code",
   "execution_count": null,
   "id": "d6a18e61",
   "metadata": {},
   "outputs": [],
   "source": [
    "train.fillna('NaN', inplace=True)\n",
    "test.fillna('NaN', inplace = True)"
   ]
  },
  {
   "cell_type": "code",
   "execution_count": null,
   "id": "e21af63e",
   "metadata": {},
   "outputs": [],
   "source": [
    "train['occyp_type'].value_counts(dropna=False)"
   ]
  },
  {
   "cell_type": "markdown",
   "id": "087e6351",
   "metadata": {},
   "source": [
    "## __EDA__"
   ]
  },
  {
   "cell_type": "code",
   "execution_count": null,
   "id": "7cd76b6a",
   "metadata": {},
   "outputs": [],
   "source": [
    "train.info()"
   ]
  },
  {
   "cell_type": "markdown",
   "id": "cb425f96",
   "metadata": {},
   "source": [
    "### 이산형 변수 EDA"
   ]
  },
  {
   "cell_type": "markdown",
   "id": "9cff1b62",
   "metadata": {},
   "source": [
    "- gender, car, reality, income_type, edu_type, family_type, FLAG_MOBIL, work_phone, phone, email,house_type,occyp_type 12개 features \n",
    "\n",
    "- y_train: credit 1개 feature"
   ]
  },
  {
   "cell_type": "code",
   "execution_count": null,
   "id": "abf2f28e",
   "metadata": {},
   "outputs": [],
   "source": [
    "plt.subplots(figsize = (8,8))\n",
    "plt.pie(train['credit'].value_counts(), labels = train['credit'].value_counts().index, \n",
    "        autopct=\"%.2f%%\", shadow = True, startangle = 90)\n",
    "plt.title('신용 등급 비율', size=20)\n",
    "plt.show()"
   ]
  },
  {
   "cell_type": "markdown",
   "id": "479002ad",
   "metadata": {},
   "source": [
    "- 0: 신용도가 좋음 \n",
    "- 2: 신용도가 낮음"
   ]
  },
  {
   "cell_type": "markdown",
   "id": "71ed6132",
   "metadata": {},
   "source": [
    "- 2가 많은 것으로 보아 신용도가 낮은 사람들이 많다는 것을 알 수 있음."
   ]
  },
  {
   "cell_type": "code",
   "execution_count": null,
   "id": "4cf2847a",
   "metadata": {},
   "outputs": [],
   "source": [
    "# 등급에 따른 차이를 보기 위한 데이터 분류\n",
    "train_0 = train[train['credit']==0.0]\n",
    "train_1 = train[train['credit']==1.0]\n",
    "train_2 = train[train['credit']==2.0]"
   ]
  },
  {
   "cell_type": "markdown",
   "id": "c35d0b4b",
   "metadata": {},
   "source": [
    "- 신용 등급에 따른 차이를 알아보기 위해 Categorical 그래프 함수 생성"
   ]
  },
  {
   "cell_type": "code",
   "execution_count": null,
   "id": "c6280cf8",
   "metadata": {},
   "outputs": [],
   "source": [
    "# Categorical 그래프 함수 정의\n",
    "def categorical_plot(column):\n",
    "\n",
    "  f, ax = plt.subplots(1, 3, figsize=(16, 6))\n",
    "\n",
    "\n",
    "  sns.countplot(x = column,\n",
    "                data = train_0,\n",
    "                ax = ax[0],\n",
    "                order = train_0[column].value_counts().index)\n",
    "  ax[0].tick_params(labelsize=12)\n",
    "  ax[0].set_title('credit = 0')\n",
    "  ax[0].set_ylabel('count')\n",
    "  ax[0].tick_params(rotation=50)\n",
    "\n",
    "\n",
    "  sns.countplot(x = column,\n",
    "                data = train_1,\n",
    "                ax = ax[1],\n",
    "                order = train_1[column].value_counts().index)\n",
    "  ax[1].tick_params(labelsize=12)\n",
    "  ax[1].set_title('credit = 1')\n",
    "  ax[1].set_ylabel('count')\n",
    "  ax[1].tick_params(rotation=50)\n",
    "\n",
    "  sns.countplot(x = column,\n",
    "                data = train_2,\n",
    "                ax = ax[2],\n",
    "                order = train_2[column].value_counts().index)\n",
    "  ax[2].tick_params(labelsize=12)\n",
    "  ax[2].set_title('credit = 2')\n",
    "  ax[2].set_ylabel('count')\n",
    "  ax[2].tick_params(rotation=50)\n",
    "  plt.subplots_adjust(wspace=0.3, hspace=0.3)\n",
    "  plt.show()"
   ]
  },
  {
   "cell_type": "code",
   "execution_count": null,
   "id": "91c60ddd",
   "metadata": {},
   "outputs": [],
   "source": [
    "categorical_plot(\"gender\")"
   ]
  },
  {
   "cell_type": "markdown",
   "id": "18b84141",
   "metadata": {},
   "source": [
    "- 모든 등급에서 여성이 더 많다라는 것을 알 수 있음."
   ]
  },
  {
   "cell_type": "code",
   "execution_count": null,
   "id": "4200a088",
   "metadata": {},
   "outputs": [],
   "source": [
    "categorical_plot(\"car\")"
   ]
  },
  {
   "cell_type": "markdown",
   "id": "3ca9237b",
   "metadata": {},
   "source": [
    "- 모든 등급에서 차를 갖고 있지 않은 사람들이 더 많음."
   ]
  },
  {
   "cell_type": "code",
   "execution_count": null,
   "id": "a956365e",
   "metadata": {},
   "outputs": [],
   "source": [
    "categorical_plot(\"reality\")"
   ]
  },
  {
   "cell_type": "markdown",
   "id": "c9a86dc7",
   "metadata": {},
   "source": [
    "- 모든 등급에서 부동산을 소유한 사람들이 더 많음."
   ]
  },
  {
   "cell_type": "code",
   "execution_count": null,
   "id": "9662045b",
   "metadata": {},
   "outputs": [],
   "source": [
    "categorical_plot(\"income_type\")"
   ]
  },
  {
   "cell_type": "markdown",
   "id": "d7e542cc",
   "metadata": {},
   "source": [
    "- 모든 등급에서 직장인들이 더 많음.\n",
    "\n",
    "- credit 0 (신용등급이 높은 등급)에서는 Student가 존재하지 않음.\n",
    "\n",
    "- Credit 1, 2 (신용등급이 낮은 등급)에서는 Student가 아주 조금 존재함."
   ]
  },
  {
   "cell_type": "code",
   "execution_count": null,
   "id": "ea436089",
   "metadata": {},
   "outputs": [],
   "source": [
    "categorical_plot(\"edu_type\")"
   ]
  },
  {
   "cell_type": "markdown",
   "id": "3fa62b9b",
   "metadata": {},
   "source": [
    "- 모든 등급에서 교육 수준의 순위가 같음."
   ]
  },
  {
   "cell_type": "markdown",
   "id": "426a555b",
   "metadata": {},
   "source": [
    "- Secondary / Secondary special : 중등 특수 교육\n",
    "- Higher education : 고등 교육\n",
    "- Incomplete higher : 대학에서 전체 과정을 이수하지 않았고 수료증을 받지 못했다는 것을 의미\n",
    "- Lower secondary : 7th ~ 9th grades 중등교육\n",
    "- Academic degree : 학사학위"
   ]
  },
  {
   "cell_type": "markdown",
   "id": "9e70f793",
   "metadata": {},
   "source": [
    "- 미국의 고등학생은 졸업 이후의 진로를 대학 진학과 취업 사이에서 결정함 그리고 스스로에게 필요한 수업을 선택하여 수강함."
   ]
  },
  {
   "cell_type": "code",
   "execution_count": null,
   "id": "e68f1e17",
   "metadata": {},
   "outputs": [],
   "source": [
    "categorical_plot(\"family_type\")"
   ]
  },
  {
   "cell_type": "markdown",
   "id": "36782d1c",
   "metadata": {},
   "source": [
    "- 모든 등급에서 결혼한 사람들이 가장 많음."
   ]
  },
  {
   "cell_type": "markdown",
   "id": "33163630",
   "metadata": {},
   "source": [
    "- married: 결혼 \n",
    "- single/not married : 미혼\n",
    "- civil_marriage : 종교 의식을 하지 않는 결혼\n",
    "- separated : 이혼 (배우자와 헤어진 뒤 재혼하지 않고 혼자 살고 있는 사람)\n",
    "- widow : 사별 (배우자 중 한쪽이 사망한 뒤 재혼하지 않고 혼자 살고 있는 사람)"
   ]
  },
  {
   "cell_type": "code",
   "execution_count": null,
   "id": "ecbf1b9b",
   "metadata": {},
   "outputs": [],
   "source": [
    "categorical_plot(\"house_type\")"
   ]
  },
  {
   "cell_type": "markdown",
   "id": "dd89962b",
   "metadata": {},
   "source": [
    "- house / apartment\n",
    "- with parent\n",
    "- Municipal apartment\n",
    "- Rented apartment\n",
    "- Office apartment\n",
    "- Co-op apartment"
   ]
  },
  {
   "cell_type": "markdown",
   "id": "638c8fe0",
   "metadata": {},
   "source": [
    "- 모든 등급에서 순서가 같고, house / aprartment를 가진 사람들이 모든 등급에서 제일 높음."
   ]
  },
  {
   "cell_type": "code",
   "execution_count": null,
   "id": "66a6d409",
   "metadata": {},
   "outputs": [],
   "source": [
    "categorical_plot(\"FLAG_MOBIL\") # 변수 제거해도 될듯"
   ]
  },
  {
   "cell_type": "markdown",
   "id": "15e36d72",
   "metadata": {},
   "source": [
    "- FLAG_MOBIL은 핸드폰 소유 여부\n",
    "\n",
    "- 모든 사람들이 휴대폰을 소유하고 있음."
   ]
  },
  {
   "cell_type": "code",
   "execution_count": null,
   "id": "0186b446",
   "metadata": {},
   "outputs": [],
   "source": [
    "categorical_plot(\"work_phone\")"
   ]
  },
  {
   "cell_type": "markdown",
   "id": "baa47206",
   "metadata": {},
   "source": [
    "- work_phone : 업무용 전화 소유 여부\n",
    "    \n",
    "- 모든 등급에서 업무용 전화를 소유하지 않는 사람들이 더 많음."
   ]
  },
  {
   "cell_type": "code",
   "execution_count": null,
   "id": "0a055d6e",
   "metadata": {},
   "outputs": [],
   "source": [
    "categorical_plot(\"phone\")"
   ]
  },
  {
   "cell_type": "markdown",
   "id": "5430f005",
   "metadata": {},
   "source": [
    "- phone: 전화 소유 여부\n",
    "- 모든 등급에서 가정용 전화를 소유하지 않는 사람들이 더 많음."
   ]
  },
  {
   "cell_type": "code",
   "execution_count": null,
   "id": "d08a53e3",
   "metadata": {},
   "outputs": [],
   "source": [
    "categorical_plot(\"email\")"
   ]
  },
  {
   "cell_type": "markdown",
   "id": "44c41309",
   "metadata": {},
   "source": [
    "- email : 이메일 소유 여부\n",
    "- 모든 등급에서 이메일을 소유하지 않는 사람들이 더 많음. "
   ]
  },
  {
   "cell_type": "code",
   "execution_count": null,
   "id": "11247cdc",
   "metadata": {},
   "outputs": [],
   "source": [
    "categorical_plot(\"occyp_type\")"
   ]
  },
  {
   "cell_type": "markdown",
   "id": "86007cd0",
   "metadata": {},
   "source": [
    "## 연속형 변수 EDA"
   ]
  },
  {
   "cell_type": "markdown",
   "id": "2912d78c",
   "metadata": {},
   "source": [
    "- child_num, income_total, DAYS_BIRTH, DAYS_EMPLOYED, family_size, begin_month 6개 features"
   ]
  },
  {
   "cell_type": "code",
   "execution_count": null,
   "id": "6b3b6401",
   "metadata": {},
   "outputs": [],
   "source": [
    "# Numerical 그래프 함수 정의\n",
    "def numerical_plot(column):\n",
    "  \n",
    "  fig, axes = plt.subplots(1, 3, figsize=(16, 6))\n",
    "\n",
    "\n",
    "  sns.distplot(train_0[column],\n",
    "                ax = axes[0])\n",
    "  axes[0].tick_params(labelsize=12)\n",
    "  axes[0].set_title('credit = 0')\n",
    "  axes[0].set_ylabel('count')\n",
    "\n",
    "  sns.distplot(train_1[column],\n",
    "                ax = axes[1])\n",
    "  axes[1].tick_params(labelsize=12)\n",
    "  axes[1].set_title('credit = 1')\n",
    "  axes[1].set_ylabel('count')\n",
    "\n",
    "  sns.distplot(train_2[column],\n",
    "                ax = axes[2])\n",
    "  axes[2].tick_params(labelsize=12)\n",
    "  axes[2].set_title('credit = 2')\n",
    "  axes[2].set_ylabel('count')\n",
    "  plt.subplots_adjust(wspace=0.3, hspace=0.3)"
   ]
  },
  {
   "cell_type": "code",
   "execution_count": null,
   "id": "9ca5473a",
   "metadata": {},
   "outputs": [],
   "source": [
    "numerical_plot(\"child_num\")"
   ]
  },
  {
   "cell_type": "code",
   "execution_count": null,
   "id": "496aa5bc",
   "metadata": {},
   "outputs": [],
   "source": [
    "- 신용등급이 높은 2에서 자녀의 수가 0~2개가 가장 많음.\n",
    "- 신용등급에 따라 자녀수의 차이는 존재하지 않는 것으로 보임."
   ]
  },
  {
   "cell_type": "code",
   "execution_count": null,
   "id": "3df5a812",
   "metadata": {},
   "outputs": [],
   "source": [
    "numerical_plot(\"income_total\")"
   ]
  },
  {
   "cell_type": "markdown",
   "id": "be022b16",
   "metadata": {},
   "source": [
    "- 신용 등급에 따라 연간 소득의 차이는 존재하지 않는 것으로 보임."
   ]
  },
  {
   "cell_type": "code",
   "execution_count": null,
   "id": "ce2fcea3",
   "metadata": {},
   "outputs": [],
   "source": [
    "numerical_plot(\"family_size\")"
   ]
  },
  {
   "cell_type": "markdown",
   "id": "94f77aed",
   "metadata": {},
   "source": [
    "- 신용도가 높은 등급에서는 왼쪽으로 치우친 그래프임.\n",
    "- 모든 등급에서 보통 가족 수가 2명인 사람들이 많음."
   ]
  },
  {
   "cell_type": "code",
   "execution_count": null,
   "id": "ff57bcaa",
   "metadata": {},
   "outputs": [],
   "source": [
    "train['family_size'].value_counts()"
   ]
  },
  {
   "cell_type": "code",
   "execution_count": null,
   "id": "740101c1",
   "metadata": {},
   "outputs": [],
   "source": [
    "test['family_size'].value_counts()"
   ]
  },
  {
   "cell_type": "markdown",
   "id": "b59771a1",
   "metadata": {},
   "source": [
    "- test셋에는 7이하까지만 있으므로 \n",
    "- train 데이터셋에 7 이상인 것들은 제거해준다."
   ]
  },
  {
   "cell_type": "markdown",
   "id": "5eb7f489",
   "metadata": {},
   "source": [
    "### 이상치 처리"
   ]
  },
  {
   "cell_type": "code",
   "execution_count": null,
   "id": "81640a6c",
   "metadata": {},
   "outputs": [],
   "source": [
    "train = train[(train['family_size'] <= 7)]\n",
    "train = train.reset_index(drop=True)"
   ]
  },
  {
   "cell_type": "code",
   "execution_count": null,
   "id": "be3bd456",
   "metadata": {},
   "outputs": [],
   "source": [
    "train['family_size'].value_counts()"
   ]
  },
  {
   "cell_type": "markdown",
   "id": "d2204e65",
   "metadata": {},
   "source": [
    "### X_train, y_train, X_test로 나눔"
   ]
  },
  {
   "cell_type": "code",
   "execution_count": null,
   "id": "a67b47b4",
   "metadata": {},
   "outputs": [],
   "source": [
    "X_train = train.iloc[:,:-1]\n",
    "y_train = train.iloc[:, -1]\n",
    "\n",
    "X_train = X_train.drop(columns = ['FLAG_MOBIL'])\n",
    "\n",
    "X_test = test\n",
    "test_id = X_test.index\n",
    "X_test = test.drop(columns = ['FLAG_MOBIL'])"
   ]
  },
  {
   "cell_type": "code",
   "execution_count": null,
   "id": "00045d80",
   "metadata": {},
   "outputs": [],
   "source": [
    "X_train.shape, y_train.shape"
   ]
  },
  {
   "cell_type": "markdown",
   "id": "6f118df4",
   "metadata": {},
   "source": [
    "### 중복값 처리"
   ]
  },
  {
   "cell_type": "code",
   "execution_count": null,
   "id": "9eebef72",
   "metadata": {},
   "outputs": [],
   "source": [
    "X_train_cp = X_train.copy()\n",
    "X_test_cp = X_test.copy()"
   ]
  },
  {
   "cell_type": "code",
   "execution_count": null,
   "id": "e7734ebe",
   "metadata": {},
   "outputs": [],
   "source": [
    "X = pd.concat([X_train_cp,X_test_cp])"
   ]
  },
  {
   "cell_type": "code",
   "execution_count": null,
   "id": "05b970c2",
   "metadata": {},
   "outputs": [],
   "source": [
    "X_train.drop(columns=['begin_month','index']).shape"
   ]
  },
  {
   "cell_type": "code",
   "execution_count": null,
   "id": "af67cf52",
   "metadata": {},
   "outputs": [],
   "source": [
    "X_train.drop(columns=['begin_month','index']).drop_duplicates().shape"
   ]
  },
  {
   "cell_type": "code",
   "execution_count": null,
   "id": "35ed86c5",
   "metadata": {},
   "outputs": [],
   "source": [
    "X = X.astype('str')"
   ]
  },
  {
   "cell_type": "code",
   "execution_count": null,
   "id": "383fd916",
   "metadata": {},
   "outputs": [],
   "source": [
    "X['new'] = X['child_num']+X['income_total']+X['DAYS_BIRTH']+X['DAYS_EMPLOYED']+X['family_size']+X['gender']+X['car'] + \\\n",
    "    X['reality']+X['income_type']+X['edu_type']+X['family_size'] + \\\n",
    "    X['house_type']+X['work_phone']+X['phone']+X['email']+X['occyp_type']"
   ]
  },
  {
   "cell_type": "code",
   "execution_count": null,
   "id": "b43c9869",
   "metadata": {},
   "outputs": [],
   "source": [
    "X.drop(columns=['child_num', 'income_total' , 'DAYS_BIRTH', 'DAYS_EMPLOYED', 'family_size','gender' , 'car', 'reality', 'income_type', 'edu_type', 'family_type', 'house_type',  'work_phone', 'phone', 'email', 'occyp_type'],inplace=True)"
   ]
  },
  {
   "cell_type": "code",
   "execution_count": null,
   "id": "12b81f26",
   "metadata": {},
   "outputs": [],
   "source": [
    "X.loc[:, 'new_factorize'] = pd.factorize(X['new'])[0].reshape(-1, 1)"
   ]
  },
  {
   "cell_type": "code",
   "execution_count": null,
   "id": "03d05a6f",
   "metadata": {},
   "outputs": [],
   "source": [
    "X['new_factorize'].value_counts()"
   ]
  },
  {
   "cell_type": "code",
   "execution_count": null,
   "id": "32ce51a7",
   "metadata": {},
   "outputs": [],
   "source": [
    "X_train_cp = X.iloc[:X_train.shape[0],:]\n",
    "X_test_cp = X.iloc[X_train.shape[0]:,:]"
   ]
  },
  {
   "cell_type": "code",
   "execution_count": null,
   "id": "7ff54831",
   "metadata": {},
   "outputs": [],
   "source": [
    "X_train['id'] = X_train_cp['new_factorize']\n",
    "X_test['id'] = X_test_cp['new_factorize']"
   ]
  },
  {
   "cell_type": "code",
   "execution_count": null,
   "id": "f7d7f437",
   "metadata": {},
   "outputs": [],
   "source": [
    "X_train.drop(columns='index', inplace=True)\n",
    "X_test.drop(columns='index', inplace=True)"
   ]
  },
  {
   "cell_type": "code",
   "execution_count": null,
   "id": "838a8002",
   "metadata": {},
   "outputs": [],
   "source": [
    "X_train"
   ]
  },
  {
   "cell_type": "code",
   "execution_count": null,
   "id": "c406fd73",
   "metadata": {},
   "outputs": [],
   "source": [
    "X_train.to_csv('data/preprocessing_train.csv', encoding='utf-8')\n",
    "X_test.to_csv('data/preprocessing_test.csv', encoding='utf-8')"
   ]
  }
 ],
 "metadata": {
  "kernelspec": {
   "display_name": "Python 3 (ipykernel)",
   "language": "python",
   "name": "python3"
  },
  "language_info": {
   "codemirror_mode": {
    "name": "ipython",
    "version": 3
   },
   "file_extension": ".py",
   "mimetype": "text/x-python",
   "name": "python",
   "nbconvert_exporter": "python",
   "pygments_lexer": "ipython3",
   "version": "3.9.7"
  }
 },
 "nbformat": 4,
 "nbformat_minor": 5
}
