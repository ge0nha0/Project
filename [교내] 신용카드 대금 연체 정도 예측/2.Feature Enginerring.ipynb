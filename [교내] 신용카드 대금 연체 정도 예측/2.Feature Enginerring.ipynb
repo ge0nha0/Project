{
 "cells": [
  {
   "cell_type": "code",
   "execution_count": null,
   "id": "6716d9aa",
   "metadata": {},
   "outputs": [],
   "source": [
    "#import matplotlib_hangul\n",
    "%matplotlib inline\n",
    "import warnings\n",
    "warnings.filterwarnings(\"ignore\")\n",
    "\n",
    "import pandas as pd\n",
    "import numpy as np\n",
    "import matplotlib.pyplot as plt\n",
    "import seaborn as sns"
   ]
  },
  {
   "cell_type": "code",
   "execution_count": null,
   "id": "1aecc6f1",
   "metadata": {},
   "outputs": [],
   "source": [
    "X_train = pd.read_csv('data/preprocessing_train.csv', encoding = 'cp949')\n",
    "X_test = pd.read_csv('data/preprocessing_test.csv', encoding = 'cp949')\n",
    "\n",
    "submission = pd.read_csv('data/sample_submission.csv', encoding = 'cp949')"
   ]
  },
  {
   "cell_type": "markdown",
   "id": "ad5d9bb6",
   "metadata": {},
   "source": [
    "## __Feature Engineering__"
   ]
  },
  {
   "cell_type": "markdown",
   "id": "a365198f",
   "metadata": {},
   "source": [
    "### DAYS_EMPLOYED"
   ]
  },
  {
   "cell_type": "markdown",
   "id": "cd194bff",
   "metadata": {},
   "source": [
    "- 양수값은 고용되지 않은 상태를 의미하므로 무직자라고 생각함. 0으로 처리하기"
   ]
  },
  {
   "cell_type": "code",
   "execution_count": null,
   "id": "f561c24e",
   "metadata": {},
   "outputs": [],
   "source": [
    "X_train['DAYS_EMPLOYED'] = X_train['DAYS_EMPLOYED'].map(lambda x:0 if x >0 else x)\n",
    "X_test['DAYS_EMPLOYED'] = X_test['DAYS_EMPLOYED'].map(lambda x:0 if x >0 else x)"
   ]
  },
  {
   "cell_type": "markdown",
   "id": "480df36b",
   "metadata": {},
   "source": [
    "### DAYS_BIRTH, DAYS_EMPLOYED, begin_month \n",
    "- 음수값 -> 양수값으로 변환하기"
   ]
  },
  {
   "cell_type": "code",
   "execution_count": null,
   "id": "633b92c3",
   "metadata": {},
   "outputs": [],
   "source": [
    "new_features = ['DAYS_BIRTH', 'DAYS_EMPLOYED', 'begin_month']\n",
    "for features in new_features:\n",
    "    X_train[features] = np.abs(X_train[features])\n",
    "    X_test[features] = np.abs(X_test[features])"
   ]
  },
  {
   "cell_type": "code",
   "execution_count": null,
   "id": "430e3db0",
   "metadata": {},
   "outputs": [],
   "source": [
    "X_train.head()"
   ]
  },
  {
   "cell_type": "markdown",
   "id": "5087dfdb",
   "metadata": {},
   "source": [
    "- 양수값으로 잘 변환한것을 알 수 있음."
   ]
  },
  {
   "cell_type": "markdown",
   "id": "9f847d5e",
   "metadata": {},
   "source": [
    "### 'age' Feauture 생성 -> DAYS_BIRTH으로 변환 작업"
   ]
  },
  {
   "cell_type": "code",
   "execution_count": null,
   "id": "dd95895a",
   "metadata": {},
   "outputs": [],
   "source": [
    "X_train['age'] = round(X_train['DAYS_BIRTH']/365,0).astype(np.int32)\n",
    "X_train.head(1)"
   ]
  },
  {
   "cell_type": "code",
   "execution_count": null,
   "id": "169b3dc1",
   "metadata": {},
   "outputs": [],
   "source": [
    "X_test['age'] = round(X_test['DAYS_BIRTH']/365,0).astype(np.int32)\n",
    "X_test.head(1)"
   ]
  },
  {
   "cell_type": "markdown",
   "id": "a9915eb2",
   "metadata": {},
   "source": [
    "### 시각화해서 분포 확인하기"
   ]
  },
  {
   "cell_type": "code",
   "execution_count": null,
   "id": "75318983",
   "metadata": {},
   "outputs": [],
   "source": [
    "X_train['age'].plot.hist(bins = range(10,80,10), color = 'c', edgecolor = 'k')\n",
    "\n",
    "plt.xlabel('age')\n",
    "plt.title('Age distribution')\n",
    "plt.show()"
   ]
  },
  {
   "cell_type": "markdown",
   "id": "c939f5c6",
   "metadata": {},
   "source": [
    "- 시각화한 결과, 데이터에 30, 40, 50대가 주로 이루고 있음"
   ]
  },
  {
   "cell_type": "markdown",
   "id": "96bfb917",
   "metadata": {},
   "source": [
    "### 'age_group' feature 생성 -> age으로 변환 작업"
   ]
  },
  {
   "cell_type": "code",
   "execution_count": null,
   "id": "1496d2f2",
   "metadata": {},
   "outputs": [],
   "source": [
    "X_train['age_group'] = X_train['age'].copy()\n",
    "X_test['age_group'] = X_test['age'].copy()"
   ]
  },
  {
   "cell_type": "code",
   "execution_count": null,
   "id": "7d4c9868",
   "metadata": {},
   "outputs": [],
   "source": [
    "X_train['age_group'] = X_train['age_group'].replace({21, 22, 23, 24, 25, 26, 27, 27, 28, 29}, '20대')\n",
    "X_train['age_group'] = X_train['age_group'].replace({30, 31, 32, 33, 34, 35, 36, 37, 38, 39}, '30대')\n",
    "X_train['age_group'] = X_train['age_group'].replace({40, 41, 42, 43, 44, 45, 46, 47, 48, 49}, '40대')\n",
    "X_train['age_group'] = X_train['age_group'].replace({50, 51, 52, 53, 54, 55, 56, 57, 58, 59}, '50대')\n",
    "X_train['age_group'] = X_train['age_group'].replace({60, 61, 62, 63, 64, 65, 66, 67, 68, 69}, '60대')"
   ]
  },
  {
   "cell_type": "code",
   "execution_count": null,
   "id": "650f1c14",
   "metadata": {},
   "outputs": [],
   "source": [
    "X_train['age_group'].value_counts()"
   ]
  },
  {
   "cell_type": "code",
   "execution_count": null,
   "id": "14373088",
   "metadata": {},
   "outputs": [],
   "source": [
    "X_test['age_group'] = X_test['age_group'].replace({21, 22, 23, 24, 25, 26, 27, 27, 28, 29}, '20대')\n",
    "X_test['age_group'] = X_test['age_group'].replace({30, 31, 32, 33, 34, 35, 36, 37, 38, 39}, '30대')\n",
    "X_test['age_group'] = X_test['age_group'].replace({40, 41, 42, 43, 44, 45, 46, 47, 48, 49}, '40대')\n",
    "X_test['age_group'] = X_test['age_group'].replace({50, 51, 52, 53, 54, 55, 56, 57, 58, 59}, '50대')\n",
    "X_test['age_group'] = X_test['age_group'].replace({60, 61, 62, 63, 64, 65, 66, 67, 68, 69}, '60대')"
   ]
  },
  {
   "cell_type": "code",
   "execution_count": null,
   "id": "3056ecb0",
   "metadata": {},
   "outputs": [],
   "source": [
    "X_test['age_group'].value_counts()"
   ]
  },
  {
   "cell_type": "markdown",
   "id": "fadd5878",
   "metadata": {},
   "source": [
    "### 'year of service' feature 생성 -> DAYS_EMPLOYED으로 변환 작업\n",
    "- 근무년수"
   ]
  },
  {
   "cell_type": "code",
   "execution_count": null,
   "id": "22364edf",
   "metadata": {},
   "outputs": [],
   "source": [
    "X_train['year_of_service'] = round(X_train['DAYS_EMPLOYED']/365,0).astype(np.int64)\n",
    "X_train.head(1)"
   ]
  },
  {
   "cell_type": "code",
   "execution_count": null,
   "id": "6cfeea69",
   "metadata": {},
   "outputs": [],
   "source": [
    "X_test['year_of_service'] = round(X_test['DAYS_EMPLOYED']/365,0).astype(np.int64)\n",
    "X_test.head(5)"
   ]
  },
  {
   "cell_type": "markdown",
   "id": "83868dcd",
   "metadata": {},
   "source": [
    "### 'years_group' feature 생성 -> year_of_service으로 변환 작업\n",
    "- 근무경력 기준"
   ]
  },
  {
   "cell_type": "code",
   "execution_count": null,
   "id": "720aef3e",
   "metadata": {},
   "outputs": [],
   "source": [
    "X_train['years_group'] = X_train['year_of_service'].copy()\n",
    "X_test['years_group'] = X_test['year_of_service'].copy()"
   ]
  },
  {
   "cell_type": "code",
   "execution_count": null,
   "id": "3833102c",
   "metadata": {},
   "outputs": [],
   "source": [
    "X_train['years_group'].value_counts(ascending = False)"
   ]
  },
  {
   "cell_type": "code",
   "execution_count": null,
   "id": "7bd2ae4f",
   "metadata": {},
   "outputs": [],
   "source": [
    "X_train['years_group'] = X_train['years_group'].replace(0, '근무경력없음')\n",
    "X_train['years_group'] = X_train['years_group'].replace({1,2,3}, '1~3년')\n",
    "X_train['years_group'] = X_train['years_group'].replace({4,5,6}, '4~6년')\n",
    "X_train['years_group'] = X_train['years_group'].replace({7,8,9}, '7~9년')\n",
    "X_train['years_group'] = X_train['years_group'].replace({10,11,12,13,14,15}, '10~15년')\n",
    "X_train['years_group'] = X_train['years_group'].replace({16,17,18,19,20}, '16~20년')\n",
    "X_train['years_group'] = X_train['years_group'].replace({21,22,23,24,25}, '21년~25년')\n",
    "X_train['years_group'] = X_train['years_group'].replace({26,27,28,29,30}, '26년~30년')\n",
    "X_train['years_group'] = X_train['years_group'].replace({31,32,33,34,35,36,37,38,39,40,41,43}, '31년이상')"
   ]
  },
  {
   "cell_type": "code",
   "execution_count": null,
   "id": "d2ff50e1",
   "metadata": {},
   "outputs": [],
   "source": [
    "X_train['years_group'].value_counts()"
   ]
  },
  {
   "cell_type": "code",
   "execution_count": null,
   "id": "07da2424",
   "metadata": {},
   "outputs": [],
   "source": [
    "X_test['years_group'] = X_test['years_group'].replace(0, '근무경력없음')\n",
    "X_test['years_group'] = X_test['years_group'].replace({1,2,3}, '1~3년')\n",
    "X_test['years_group'] = X_test['years_group'].replace({4,5,6}, '4~6년')\n",
    "X_test['years_group'] = X_test['years_group'].replace({7,8,9}, '7~9년')\n",
    "X_test['years_group'] = X_test['years_group'].replace({10,11,12,13,14,15}, '10~15년')\n",
    "X_test['years_group'] = X_test['years_group'].replace({16,17,18,19,20}, '16~20년')\n",
    "X_test['years_group'] = X_test['years_group'].replace({21,22,23,24,25}, '21년~25년')\n",
    "X_test['years_group'] = X_test['years_group'].replace({26,27,28,29,30}, '26년~30년')\n",
    "X_test['years_group'] = X_test['years_group'].replace({31,32,33,34,35,36,37,38,39,40,41,42, 43}, '31년이상')"
   ]
  },
  {
   "cell_type": "code",
   "execution_count": null,
   "id": "b0399062",
   "metadata": {},
   "outputs": [],
   "source": [
    "X_test['years_group'].value_counts()"
   ]
  },
  {
   "cell_type": "markdown",
   "id": "19c0f521",
   "metadata": {},
   "source": [
    "### DAYS_BIRTH_month, DAYS_BIRTH_week 피처 생성 \n",
    "- DAYS_BIRTH 변환 작업"
   ]
  },
  {
   "cell_type": "code",
   "execution_count": null,
   "id": "1e62885a",
   "metadata": {},
   "outputs": [],
   "source": [
    "# DAYS_BIRTH\n",
    "X_train['DAYS_BIRTH_month']=np.floor((X_train['DAYS_BIRTH'])/30)-((np.floor((X_train['DAYS_BIRTH'])/30)/12).astype(int)*12)\n",
    "X_train['DAYS_BIRTH_week']=np.floor((X_train['DAYS_BIRTH'])/7)-((np.floor((X_train['DAYS_BIRTH'])/7)/4).astype(int)*4)"
   ]
  },
  {
   "cell_type": "code",
   "execution_count": null,
   "id": "cdab2dfb",
   "metadata": {},
   "outputs": [],
   "source": [
    "X_train['DAYS_BIRTH_month'] = X_train['DAYS_BIRTH_month'].astype(int)\n",
    "X_train['DAYS_BIRTH_week'] = X_train['DAYS_BIRTH_week'].astype(int)"
   ]
  },
  {
   "cell_type": "code",
   "execution_count": null,
   "id": "05e762b1",
   "metadata": {},
   "outputs": [],
   "source": [
    "X_test['DAYS_BIRTH_month']=np.floor((X_test['DAYS_BIRTH'])/30)-((np.floor((X_test['DAYS_BIRTH'])/30)/12).astype(int)*12)\n",
    "X_test['DAYS_BIRTH_week']=np.floor((X_test['DAYS_BIRTH'])/7)-((np.floor((X_test['DAYS_BIRTH'])/7)/4).astype(int)*4)"
   ]
  },
  {
   "cell_type": "code",
   "execution_count": null,
   "id": "9f79000e",
   "metadata": {},
   "outputs": [],
   "source": [
    "X_test['DAYS_BIRTH_month'] = X_test['DAYS_BIRTH_month'].astype(int)\n",
    "X_test['DAYS_BIRTH_week'] = X_test['DAYS_BIRTH_week'].astype(int)"
   ]
  },
  {
   "cell_type": "markdown",
   "id": "e8932037",
   "metadata": {},
   "source": [
    "### DAYS_EMPLOYED_month, DAYS_EMPLOYED_week 피처 생성\n",
    "- DAYS_EMPLOYED 변환 작업"
   ]
  },
  {
   "cell_type": "code",
   "execution_count": null,
   "id": "a329edab",
   "metadata": {},
   "outputs": [],
   "source": [
    "# DAYS_EMPLOYED\n",
    "X_train['DAYS_EMPLOYED_month']=np.floor((X_train['DAYS_EMPLOYED'])/30)-((np.floor((X_train['DAYS_EMPLOYED'])/30)/12).astype(int)*12)\n",
    "X_train['DAYS_EMPLOYED_week']=np.floor((X_train['DAYS_EMPLOYED'])/7)-((np.floor((X_train['DAYS_EMPLOYED'])/7)/4).astype(int)*4)"
   ]
  },
  {
   "cell_type": "code",
   "execution_count": null,
   "id": "d6579160",
   "metadata": {},
   "outputs": [],
   "source": [
    "X_train['DAYS_EMPLOYED_month'] = X_train['DAYS_EMPLOYED_month'].astype(int)\n",
    "X_train['DAYS_EMPLOYED_week'] = X_train['DAYS_EMPLOYED_week'].astype(int)"
   ]
  },
  {
   "cell_type": "code",
   "execution_count": null,
   "id": "5b6b1ea6",
   "metadata": {},
   "outputs": [],
   "source": [
    "X_test['DAYS_EMPLOYED_month']=np.floor((X_test['DAYS_EMPLOYED'])/30)-((np.floor((X_test['DAYS_EMPLOYED'])/30)/12).astype(int)*12)\n",
    "X_test['DAYS_EMPLOYED_week']=np.floor((X_test['DAYS_EMPLOYED'])/7)-((np.floor((X_test['DAYS_EMPLOYED'])/7)/4).astype(int)*4)"
   ]
  },
  {
   "cell_type": "code",
   "execution_count": null,
   "id": "90faef0f",
   "metadata": {},
   "outputs": [],
   "source": [
    "X_test['DAYS_EMPLOYED_month'] = X_test['DAYS_EMPLOYED_month'].astype(int)\n",
    "X_test['DAYS_EMPLOYED_week'] = X_test['DAYS_EMPLOYED_week'].astype(int)"
   ]
  },
  {
   "cell_type": "markdown",
   "id": "6239b83d",
   "metadata": {},
   "source": [
    "### DAYS_EMPLOYED_month, DAYS_EMPLOYED_week 피처 생성\n",
    "- DAYS_EMPLOYED 변환 작업"
   ]
  },
  {
   "cell_type": "code",
   "execution_count": null,
   "id": "ce08dba4",
   "metadata": {},
   "outputs": [],
   "source": [
    "# before_EMPLOYED: 고용되기 전까지의 일수\n",
    "\n",
    "X_train['before_EMPLOYED']= X_train['DAYS_BIRTH']-X_train['DAYS_EMPLOYED']"
   ]
  },
  {
   "cell_type": "code",
   "execution_count": null,
   "id": "8c14816b",
   "metadata": {},
   "outputs": [],
   "source": [
    "X_train['before_EMPLOYED_month']=np.floor((X_train['before_EMPLOYED'])/30)-((np.floor((X_train['before_EMPLOYED'])/30)/12).astype(int)*12)\n",
    "X_train['before_EMPLOYED_week']=np.floor((X_train['before_EMPLOYED'])/7)-((np.floor((X_train['before_EMPLOYED'])/7)/4).astype(int)*4)"
   ]
  },
  {
   "cell_type": "code",
   "execution_count": null,
   "id": "da04f09e",
   "metadata": {},
   "outputs": [],
   "source": [
    "X_train['before_EMPLOYED'] = X_train['before_EMPLOYED'].astype(int)\n",
    "X_train['before_EMPLOYED_month'] = X_train['before_EMPLOYED_month'].astype(int)\n",
    "X_train['before_EMPLOYED_week'] = X_train['before_EMPLOYED_week'].astype(int)"
   ]
  },
  {
   "cell_type": "code",
   "execution_count": null,
   "id": "22cd42b0",
   "metadata": {},
   "outputs": [],
   "source": [
    "# before_EMPLOYED: 고용되기 전까지의 일수\n",
    "\n",
    "X_test['before_EMPLOYED']= X_test['DAYS_BIRTH']-X_test['DAYS_EMPLOYED']\n",
    "X_test['before_EMPLOYED_month']=np.floor((X_test['before_EMPLOYED'])/30)-((np.floor((X_train['before_EMPLOYED'])/30)/12).astype(int)*12)\n",
    "X_test['before_EMPLOYED_week']=np.floor((X_test['before_EMPLOYED'])/7)-((np.floor((X_train['before_EMPLOYED'])/7)/4).astype(int)*4)"
   ]
  },
  {
   "cell_type": "code",
   "execution_count": null,
   "id": "19df83a0",
   "metadata": {},
   "outputs": [],
   "source": [
    "X_test['before_EMPLOYED'] = X_test['before_EMPLOYED'].astype(int)\n",
    "X_test['before_EMPLOYED_month'] = X_test['before_EMPLOYED_month'].astype(int)\n",
    "X_test['before_EMPLOYED_week'] = X_test['before_EMPLOYED_week'].astype(int)"
   ]
  },
  {
   "cell_type": "markdown",
   "id": "b27e5108",
   "metadata": {},
   "source": [
    "### DAYS_BIRTH 범주화"
   ]
  },
  {
   "cell_type": "code",
   "execution_count": null,
   "id": "55a7a549",
   "metadata": {},
   "outputs": [],
   "source": [
    "a = []\n",
    "\n",
    "for i in X_train['DAYS_BIRTH']:\n",
    "    if i<=X_train['DAYS_BIRTH'].quantile(q=0.25):\n",
    "        a.append(1)\n",
    "    elif i<=X_train['DAYS_BIRTH'].quantile(q=0.5):\n",
    "        a.append(2)\n",
    "    elif i<=X_train['DAYS_BIRTH'].quantile(q=0.75):\n",
    "        a.append(3)\n",
    "    else:\n",
    "        a.append(4)\n",
    "\n",
    "X_train['DAYS_BIRTH_class'] = a\n",
    "\n",
    "a = []\n",
    "\n",
    "for i in X_test['DAYS_BIRTH']:\n",
    "    if i<=X_test['DAYS_BIRTH'].quantile(q=0.25):\n",
    "        a.append(1)\n",
    "    elif i<=X_test['DAYS_BIRTH'].quantile(q=0.5):\n",
    "        a.append(2)\n",
    "    elif i<=X_test['DAYS_BIRTH'].quantile(q=0.75):\n",
    "        a.append(3)\n",
    "    else:\n",
    "        a.append(4)\n",
    "\n",
    "X_test['DAYS_BIRTH_class'] = a"
   ]
  },
  {
   "cell_type": "markdown",
   "id": "ec7dd235",
   "metadata": {},
   "source": [
    "### begin_month 범주화"
   ]
  },
  {
   "cell_type": "code",
   "execution_count": null,
   "id": "6ce3c415",
   "metadata": {},
   "outputs": [],
   "source": [
    "a = []\n",
    "\n",
    "for i in X_train['begin_month']:\n",
    "    if i <= X_train['begin_month'].quantile(q=0.25):\n",
    "        a.append(1)\n",
    "    elif i <= X_train['begin_month'].quantile(q=0.5):\n",
    "        a.append(2)\n",
    "    elif i <= X_train['begin_month'].quantile(q=0.75):\n",
    "        a.append(3)\n",
    "    else:\n",
    "        a.append(4)\n",
    "\n",
    "X_train['begin_month_class'] = a\n",
    "\n",
    "a = []\n",
    "\n",
    "for i in X_test['begin_month']:\n",
    "    if i <= X_test['begin_month'].quantile(q=0.25):\n",
    "        a.append(1)\n",
    "    elif i <= X_test['begin_month'].quantile(q=0.5):\n",
    "        a.append(2)\n",
    "    elif i <= X_test['begin_month'].quantile(q=0.75):\n",
    "        a.append(3)\n",
    "    else:\n",
    "        a.append(4)\n",
    "\n",
    "X_test['begin_month_class'] = a\n"
   ]
  },
  {
   "cell_type": "markdown",
   "id": "5b46ddbb",
   "metadata": {},
   "source": [
    "### income_total*10000"
   ]
  },
  {
   "cell_type": "code",
   "execution_count": null,
   "id": "3482346e",
   "metadata": {},
   "outputs": [],
   "source": [
    "X_train['income_total'] = X_train['income_total'].astype(float)\n",
    "X_test['income_total'] = X_test['income_total'].astype(float)\n",
    "\n",
    "X_train['income_total*10000'] = X_train['income_total']/10000 \n",
    "X_test['income_total*10000'] = X_test['income_total']/10000"
   ]
  },
  {
   "cell_type": "markdown",
   "id": "70391785",
   "metadata": {},
   "source": [
    "### income_total_dev & income_total_log"
   ]
  },
  {
   "cell_type": "code",
   "execution_count": null,
   "id": "d5d4945e",
   "metadata": {},
   "outputs": [],
   "source": [
    "def numeric_process(data):\n",
    "\n",
    "    # 편차 제곱 변수 생성\n",
    "    data['income_total_dev'] = (\n",
    "        data['income_total*10000'] - data['income_total*10000'].mean())**2\n",
    "\n",
    "    # 로그 변환\n",
    "    data['income_total_log'] = data['income_total*10000'].apply(np.log1p)\n",
    "\n",
    "    return data\n",
    "\n",
    "\n",
    "X_train = numeric_process(X_train)\n",
    "X_test = numeric_process(X_test)"
   ]
  },
  {
   "cell_type": "markdown",
   "id": "a08324f8",
   "metadata": {},
   "source": [
    "### 연간소득/가족규모"
   ]
  },
  {
   "cell_type": "code",
   "execution_count": null,
   "id": "e27853fe",
   "metadata": {},
   "outputs": [],
   "source": [
    "X_train['소득/가족'] = X_train['income_total'] / X_train['family_size']\n",
    "X_test['소득/가족'] = X_test['income_total'] / X_test['family_size']"
   ]
  },
  {
   "cell_type": "markdown",
   "id": "e06f17bf",
   "metadata": {},
   "source": [
    "### 연간소득/자녀수"
   ]
  },
  {
   "cell_type": "code",
   "execution_count": null,
   "id": "80ae7918",
   "metadata": {},
   "outputs": [],
   "source": [
    "X_train['소득/자녀'] = X_train['income_total'] / X_train['child_num']\n",
    "X_test['소득/자녀'] = X_test['income_total'] / X_test['child_num']"
   ]
  },
  {
   "cell_type": "markdown",
   "id": "034c9078",
   "metadata": {},
   "source": [
    "### 소득분류별 연간소득"
   ]
  },
  {
   "cell_type": "code",
   "execution_count": null,
   "id": "46c49bb9",
   "metadata": {},
   "outputs": [],
   "source": [
    "object1 = X_train.groupby('income_type')['income_total'].agg([('income_type__총income_total', np.sum),\n",
    "                                            ('income_type_평균income_total', np.mean),\n",
    "                                            ('income_type_최대income_total', np.max),\n",
    "                                            ('income_type__최소income_total', np.min),\n",
    "                                            ('income_type__income_total표준편차', np.std),   \n",
    "                                            ('income_type__income_total변동계수', lambda x : np.std(x)/np.mean(x))]).reset_index().fillna(0)\n",
    "X_train= pd.merge(X_train, object1, on = 'income_type', how='left')\n",
    "\n",
    "\n",
    "\n",
    "object2 = X_test.groupby('income_type')['income_total'].agg([('income_type__총income_total', np.sum),\n",
    "                                            ('income_type_평균income_total', np.mean),\n",
    "                                            ('income_type_최대income_total', np.max),\n",
    "                                            ('income_type__최소income_total', np.min),\n",
    "                                            ('income_type__income_total표준편차', np.std),   \n",
    "                                            ('income_type__income_total변동계수', lambda x : np.std(x)/np.mean(x))]).reset_index().fillna(0)\n",
    "X_test= pd.merge(X_test, object2, on = 'income_type', how='left')"
   ]
  },
  {
   "cell_type": "markdown",
   "id": "1666c794",
   "metadata": {},
   "source": [
    "### 교육수준별 연간소득"
   ]
  },
  {
   "cell_type": "code",
   "execution_count": null,
   "id": "b7dd702b",
   "metadata": {},
   "outputs": [],
   "source": [
    "object3 = X_train.groupby('edu_type')['income_total'].agg([('edu_type__총income_total', np.sum),\n",
    "                                            ('edu_type_평균income_total', np.mean),\n",
    "                                            ('edu_type_최대income_total', np.max),\n",
    "                                            ('edu_type__최소income_total', np.min),\n",
    "                                            ('edu_type__income_total표준편차', np.std),   \n",
    "                                            ('edu_type__income_total변동계수', lambda x : np.std(x)/np.mean(x))]).reset_index().fillna(0)\n",
    "X_train= pd.merge(X_train, object3, on = 'edu_type', how='left')\n",
    "\n",
    "\n",
    "\n",
    "object4 = X_test.groupby('edu_type')['income_total'].agg([('edu_type__총income_total', np.sum),\n",
    "                                            ('edu_type_평균income_total', np.mean),\n",
    "                                            ('edu_type_최대income_total', np.max),\n",
    "                                            ('edu_type__최소income_total', np.min),\n",
    "                                            ('edu_type__income_total표준편차', np.std),   \n",
    "                                            ('edu_type__income_total변동계수', lambda x : np.std(x)/np.mean(x))]).reset_index().fillna(0)\n",
    "X_test= pd.merge(X_test, object4, on = 'edu_type', how='left')"
   ]
  },
  {
   "cell_type": "markdown",
   "id": "65f10fca",
   "metadata": {},
   "source": [
    "### 결혼여부별 연간소득"
   ]
  },
  {
   "cell_type": "code",
   "execution_count": null,
   "id": "660b1608",
   "metadata": {},
   "outputs": [],
   "source": [
    "object5 = X_train.groupby('family_type')['income_total'].agg([('family_type__총income_total', np.sum),\n",
    "                                            ('family_type_평균income_total', np.mean),\n",
    "                                            ('family_type_최대income_total', np.max),\n",
    "                                            ('family_type__최소income_total', np.min),\n",
    "                                            ('family_type__income_total표준편차', np.std),   \n",
    "                                            ('family_type__income_total변동계수', lambda x : np.std(x)/np.mean(x))]).reset_index().fillna(0)\n",
    "X_train= pd.merge(X_train, object5, on = 'family_type', how='left')\n",
    "\n",
    "\n",
    "\n",
    "object6 = X_test.groupby('family_type')['income_total'].agg([('family_type__총income_total', np.sum),\n",
    "                                            ('family_type_평균income_total', np.mean),\n",
    "                                            ('family_type_최대income_total', np.max),\n",
    "                                            ('family_type__최소income_total', np.min),\n",
    "                                            ('family_type__income_total표준편차', np.std),   \n",
    "                                            ('family_type__income_total변동계수', lambda x : np.std(x)/np.mean(x))]).reset_index().fillna(0)\n",
    "X_test= pd.merge(X_test, object6, on = 'family_type', how='left')"
   ]
  },
  {
   "cell_type": "markdown",
   "id": "2d968d79",
   "metadata": {},
   "source": [
    "### 생활방식별 연간소득"
   ]
  },
  {
   "cell_type": "code",
   "execution_count": null,
   "id": "f5d931df",
   "metadata": {},
   "outputs": [],
   "source": [
    "object7 = X_train.groupby('house_type')['income_total'].agg([('house_type__총income_total', np.sum),\n",
    "                                            ('house_type_평균income_total', np.mean),\n",
    "                                            ('house_type_최대income_total', np.max),\n",
    "                                            ('house_type__최소income_total', np.min),\n",
    "                                            ('house_type__income_total표준편차', np.std),   \n",
    "                                            ('house_type__income_total변동계수', lambda x : np.std(x)/np.mean(x))]).reset_index().fillna(0)\n",
    "X_train= pd.merge(X_train, object7, on = 'house_type', how='left')\n",
    "\n",
    "\n",
    "\n",
    "object8 = X_test.groupby('house_type')['income_total'].agg([('house_type__총income_total', np.sum),\n",
    "                                            ('house_type_평균income_total', np.mean),\n",
    "                                            ('house_type_최대income_total', np.max),\n",
    "                                            ('house_type__최소income_total', np.min),\n",
    "                                            ('house_type__income_total표준편차', np.std),   \n",
    "                                            ('house_type__income_total변동계수', lambda x : np.std(x)/np.mean(x))]).reset_index().fillna(0)\n",
    "X_test= pd.merge(X_test, object8, on = 'house_type', how='left')"
   ]
  },
  {
   "cell_type": "markdown",
   "id": "592047f6",
   "metadata": {},
   "source": [
    "### 나이대별 연간소득"
   ]
  },
  {
   "cell_type": "code",
   "execution_count": null,
   "id": "3a10970b",
   "metadata": {},
   "outputs": [],
   "source": [
    "object9 = X_train.groupby('age_group')['income_total'].agg([('Age_type__총income_total', np.sum),\n",
    "                                            ('Age_type_평균income_total', np.mean),\n",
    "                                            ('Age_type_최대income_total', np.max),\n",
    "                                            ('Age_type__최소income_total', np.min),\n",
    "                                            ('Age_type__income_total표준편차', np.std),   \n",
    "                                            ('Age_type__income_total변동계수', lambda x : np.std(x)/np.mean(x))]).reset_index().fillna(0)\n",
    "X_train= pd.merge(X_train, object9, on = 'age_group', how='left')\n",
    "\n",
    "\n",
    "\n",
    "object10 = X_test.groupby('age_group')['income_total'].agg([('Age_type__총income_total', np.sum),\n",
    "                                            ('Age_type_평균income_total', np.mean),\n",
    "                                            ('Age_type_최대income_total', np.max),\n",
    "                                            ('Age_type__최소income_total', np.min),\n",
    "                                            ('Age_type__income_total표준편차', np.std),   \n",
    "                                            ('Age_type__income_total변동계수', lambda x : np.std(x)/np.mean(x))]).reset_index().fillna(0)\n",
    "X_test= pd.merge(X_test, object10, on = 'age_group', how='left')"
   ]
  },
  {
   "cell_type": "markdown",
   "id": "9c4b335d",
   "metadata": {},
   "source": [
    "### 직업유형별 연간소득"
   ]
  },
  {
   "cell_type": "code",
   "execution_count": null,
   "id": "964ed3cc",
   "metadata": {},
   "outputs": [],
   "source": [
    "object11 = X_train.groupby('occyp_type')['income_total'].agg([('occyp_type__총income_total', np.sum),\n",
    "                                            ('occyp_type_평균income_total', np.mean),\n",
    "                                            ('occyp_type_최대income_total', np.max),\n",
    "                                            ('occyp_type__최소income_total', np.min),\n",
    "                                            ('occyp_type__income_total표준편차', np.std),   \n",
    "                                            ('occyp_type__income_total변동계수', lambda x : np.std(x)/np.mean(x))]).reset_index().fillna(0)\n",
    "X_train= pd.merge(X_train, object11, on = 'occyp_type', how='left')\n",
    "\n",
    "\n",
    "\n",
    "object12 = X_test.groupby('occyp_type')['income_total'].agg([('occyp_type__총income_total', np.sum),\n",
    "                                            ('occyp_type_평균income_total', np.mean),\n",
    "                                            ('occyp_type_최대income_total', np.max),\n",
    "                                            ('occyp_type__최소income_total', np.min),\n",
    "                                            ('occyp_type__income_total표준편차', np.std),   \n",
    "                                            ('occyp_type__income_total변동계수', lambda x : np.std(x)/np.mean(x))]).reset_index().fillna(0)\n",
    "X_test= pd.merge(X_test, object12, on = 'occyp_type', how='left')"
   ]
  },
  {
   "cell_type": "markdown",
   "id": "73f824a4",
   "metadata": {},
   "source": [
    "### EMPLOYED_RATIO"
   ]
  },
  {
   "cell_type": "code",
   "execution_count": null,
   "id": "578fbf48",
   "metadata": {},
   "outputs": [],
   "source": [
    "X_train['EMPLOYED_RATIO'] = X_train['DAYS_EMPLOYED'] / X_train['DAYS_BIRTH']\n",
    "X_test['EMPLOYED_RATIO'] = X_test['DAYS_EMPLOYED'] / X_test['DAYS_BIRTH']"
   ]
  },
  {
   "cell_type": "markdown",
   "id": "4eed135d",
   "metadata": {},
   "source": [
    "### income_per_days_birth"
   ]
  },
  {
   "cell_type": "code",
   "execution_count": null,
   "id": "7005dfca",
   "metadata": {},
   "outputs": [],
   "source": [
    "X_train['income_per_days_birth'] = X_train['income_total'] / X_train['DAYS_BIRTH']\n",
    "X_test['income_per_days_birth'] = X_test['income_total'] / X_test['DAYS_BIRTH']"
   ]
  },
  {
   "cell_type": "markdown",
   "id": "052f4657",
   "metadata": {},
   "source": [
    "### income_per_days_birth_X_DAYS_BIRTH"
   ]
  },
  {
   "cell_type": "code",
   "execution_count": null,
   "id": "708081dc",
   "metadata": {},
   "outputs": [],
   "source": [
    "X_train['income_per_days_birth_X_DAYS_BIRTH'] = X_train['income_per_days_birth'] * X_train['DAYS_BIRTH']\n",
    "X_test['income_per_days_birth_X_DAYS_BIRTH'] = X_test['income_per_days_birth'] * X_test['DAYS_BIRTH']"
   ]
  },
  {
   "cell_type": "markdown",
   "id": "ec08d2a3",
   "metadata": {},
   "source": [
    "### begin_month_X_DAYS_BIRTH"
   ]
  },
  {
   "cell_type": "code",
   "execution_count": null,
   "id": "a1a3a3f2",
   "metadata": {},
   "outputs": [],
   "source": [
    "X_train['begin_month_X_DAYS_BIRTH'] = X_train['begin_month'] * X_train['DAYS_BIRTH']\n",
    "X_test['begin_month_X_DAYS_BIRTH'] = X_test['begin_month'] * X_test['DAYS_BIRTH']"
   ]
  },
  {
   "cell_type": "markdown",
   "id": "8e5b5e43",
   "metadata": {},
   "source": [
    "### BIRTH*id"
   ]
  },
  {
   "cell_type": "code",
   "execution_count": null,
   "id": "48b8afe3",
   "metadata": {},
   "outputs": [],
   "source": [
    "X_train['BIRTH*id'] = X_train['DAYS_BIRTH'] * X_train['id']\n",
    "X_test['BIRTH*id'] = X_test['DAYS_BIRTH'] * X_test['id']"
   ]
  },
  {
   "cell_type": "markdown",
   "id": "88e7c6b1",
   "metadata": {},
   "source": [
    "### EMP*id"
   ]
  },
  {
   "cell_type": "code",
   "execution_count": null,
   "id": "1dcdd3e7",
   "metadata": {},
   "outputs": [],
   "source": [
    "X_train['EMP*id'] = X_train['DAYS_EMPLOYED'] * X_train['id']\n",
    "X_test['EMP*id'] = X_test['DAYS_EMPLOYED'] * X_test['id']"
   ]
  },
  {
   "cell_type": "markdown",
   "id": "624b3b05",
   "metadata": {},
   "source": [
    "### BIRTH*EMP"
   ]
  },
  {
   "cell_type": "code",
   "execution_count": null,
   "id": "e2f3e437",
   "metadata": {},
   "outputs": [],
   "source": [
    "X_train['BIRTH*EMP'] = X_train['DAYS_BIRTH'] * X_train['DAYS_EMPLOYED']\n",
    "X_test['BIRTH*EMP'] = X_test['DAYS_BIRTH'] * X_test['DAYS_EMPLOYED']"
   ]
  },
  {
   "cell_type": "markdown",
   "id": "a5fae531",
   "metadata": {},
   "source": [
    "### possible"
   ]
  },
  {
   "cell_type": "code",
   "execution_count": null,
   "id": "97ca930e",
   "metadata": {},
   "outputs": [],
   "source": [
    "X_train['possible'] = X_train['income_total'] / (X_train['DAYS_BIRTH'] + X_train['DAYS_EMPLOYED'])\n",
    "X_test['possible'] = X_test['income_total'] / (X_test['DAYS_BIRTH'] + X_test['DAYS_EMPLOYED'])"
   ]
  },
  {
   "cell_type": "markdown",
   "id": "08431b70",
   "metadata": {},
   "source": [
    "### possible_class"
   ]
  },
  {
   "cell_type": "code",
   "execution_count": null,
   "id": "49500037",
   "metadata": {},
   "outputs": [],
   "source": [
    "a = []\n",
    "\n",
    "for i in X_train['possible'].clip(0, 35):\n",
    "    if i <= 5:\n",
    "        a.append(1)\n",
    "    elif i <= 10:\n",
    "        a.append(2)\n",
    "    elif i <= 15:\n",
    "        a.append(3)\n",
    "    elif i <= 20:\n",
    "        a.append(4)\n",
    "    elif i <= 25:\n",
    "        a.append(5)\n",
    "    elif i <= 30:\n",
    "        a.append(6)\n",
    "    elif i <= 35:\n",
    "        a.append(7)\n",
    "\n",
    "X_train['possible_class'] = a\n",
    "\n",
    "a = []\n",
    "\n",
    "for i in X_test['possible'].clip(0, 35):\n",
    "    if i <= 5:\n",
    "        a.append(1)\n",
    "    elif i <= 10:\n",
    "        a.append(2)\n",
    "    elif i <= 15:\n",
    "        a.append(3)\n",
    "    elif i <= 20:\n",
    "        a.append(4)\n",
    "    elif i <= 25:\n",
    "        a.append(5)\n",
    "    elif i <= 30:\n",
    "        a.append(6)\n",
    "    elif i <= 35:\n",
    "        a.append(7)\n",
    "\n",
    "X_test['possible_class'] = a"
   ]
  },
  {
   "cell_type": "markdown",
   "id": "d6204350",
   "metadata": {},
   "source": [
    "### car_reality"
   ]
  },
  {
   "cell_type": "code",
   "execution_count": null,
   "id": "5fc9630b",
   "metadata": {},
   "outputs": [],
   "source": [
    "X_train['car_reality'] = X_train['car'] + X_train['reality']\n",
    "X_test['car_reality'] = X_test['car'] + X_test['reality']"
   ]
  },
  {
   "cell_type": "markdown",
   "id": "d39e4b14",
   "metadata": {},
   "source": [
    "### ID + DAYS_BIRTH"
   ]
  },
  {
   "cell_type": "code",
   "execution_count": null,
   "id": "7dd61f40",
   "metadata": {},
   "outputs": [],
   "source": [
    "object1 = X_train.groupby('id')['DAYS_BIRTH'].agg([('id_총DAYS_BIRTH', np.sum),\n",
    "                                           #  ('구매건수', np.size),\n",
    "                                            ('id_평균DAYS_BIRTH', np.mean),\n",
    "                                            ('id_최대DAYS_BIRTH', np.max),\n",
    "                                            ('id_최소DAYS_BIRTH', np.min),\n",
    "                                            ('id_DAYS_BIRTH표준편차', np.std),   \n",
    "                                            ('id_DAYS_BIRTH변동계수', lambda X_train : np.std(X_train)/np.mean(X_train))]).reset_index().fillna(0)\n",
    "\n",
    "X_train= pd.merge(X_train, object1, on = 'id', how='left')\n",
    "\n",
    "object1 = X_test.groupby('id')['DAYS_BIRTH'].agg([('id_총DAYS_BIRTH', np.sum),\n",
    "                                           #  ('구매건수', np.size),\n",
    "                                            ('id_평균DAYS_BIRTH', np.mean),\n",
    "                                            ('id_최대DAYS_BIRTH', np.max),\n",
    "                                            ('id_최소DAYS_BIRTH', np.min),\n",
    "                                            ('id_DAYS_BIRTH표준편차', np.std),   \n",
    "                                            ('id_DAYS_BIRTH변동계수', lambda X_test : np.std(X_test)/np.mean(X_test))]).reset_index().fillna(0)\n",
    "\n",
    "X_test= pd.merge(X_test, object1, on = 'id', how='left')"
   ]
  },
  {
   "cell_type": "markdown",
   "id": "6b3ab2bf",
   "metadata": {},
   "source": [
    "###  ID + begin_month"
   ]
  },
  {
   "cell_type": "code",
   "execution_count": null,
   "id": "8cc0dae0",
   "metadata": {},
   "outputs": [],
   "source": [
    "object90 = X_train.groupby('id')['begin_month'].agg([('id_총begin_months5', np.sum),\n",
    "                                           #  ('구매건수', np.size),\n",
    "                                            ('id_평균begin_month', np.mean),\n",
    "                                            ('id_최대begin_month', np.max),\n",
    "                                            ('id_최소begin_month', np.min),\n",
    "                                            ('id_begin_month표준편차', np.std),   \n",
    "                                            ('id_begin_month변동계수', lambda X_train : np.std(X_train)/np.mean(X_train))]).reset_index().fillna(0)\n",
    "\n",
    "X_train= pd.merge(X_train, object90, on = 'id', how='left')\n",
    "\n",
    "object91 = X_test.groupby('id')['begin_month'].agg([('id_총begin_months5', np.sum),\n",
    "                                           #  ('구매건수', np.size),\n",
    "                                            ('id_평균begin_month', np.mean),\n",
    "                                            ('id_최대begin_month', np.max),\n",
    "                                            ('id_최소begin_month', np.min),\n",
    "                                            ('id_begin_month표준편차', np.std),   \n",
    "                                            ('id_begin_month변동계수', lambda X_test : np.std(X_test)/np.mean(X_test))]).reset_index().fillna(0)\n",
    "\n",
    "X_test= pd.merge(X_test, object91, on = 'id', how='left')"
   ]
  },
  {
   "cell_type": "markdown",
   "id": "f5a69dab",
   "metadata": {},
   "source": [
    "### possible 범주화 + begin_month_class 범주화 + DAYS_BIRTH_class 범주화"
   ]
  },
  {
   "cell_type": "code",
   "execution_count": null,
   "id": "7fb514da",
   "metadata": {},
   "outputs": [],
   "source": [
    "X_train['pos+beg+dBirth'] = X_train['possible_class'] + X_train['begin_month_class'] + X_train['DAYS_BIRTH_class']\n",
    "X_test['pos+beg+dBirth'] = X_test['possible_class'] + X_test['begin_month_class'] + X_test['DAYS_BIRTH_class']"
   ]
  },
  {
   "cell_type": "markdown",
   "id": "736f76dc",
   "metadata": {},
   "source": [
    "### income/before_EMPLOYED"
   ]
  },
  {
   "cell_type": "code",
   "execution_count": null,
   "id": "72025d9e",
   "metadata": {},
   "outputs": [],
   "source": [
    "X_train['income/before_EMPLOYED'] = X_train['income_total'] / X_train['before_EMPLOYED']\n",
    "X_test['income/before_EMPLOYED'] = X_test['income_total'] / X_test['before_EMPLOYED']"
   ]
  },
  {
   "cell_type": "markdown",
   "id": "73d12ec0",
   "metadata": {},
   "source": [
    "### edu_type 별 신뢰도 0의 비율"
   ]
  },
  {
   "cell_type": "code",
   "execution_count": null,
   "id": "b184f8ec",
   "metadata": {},
   "outputs": [],
   "source": [
    "a = []\n",
    "\n",
    "for i in X_train['edu_type']:\n",
    "    if i == 'Academic degree':\n",
    "        a.append(0.08)\n",
    "    elif i == 'Higher education':\n",
    "        a.append(0.126)\n",
    "    elif i == 'Incomplete higher':\n",
    "        a.append(0.111)\n",
    "    elif i == 'Lower Secondary':\n",
    "        a.append(0.108)\n",
    "    else:\n",
    "        a.append(0.12)\n",
    "\n",
    "X_train['edu_type_num'] = a\n",
    "\n",
    "a = []\n",
    "\n",
    "for i in X_test['edu_type']:\n",
    "    if i == 'Academic degree':\n",
    "        a.append(0.08)\n",
    "    elif i == 'Higher education':\n",
    "        a.append(0.126)\n",
    "    elif i == 'Incomplete higher':\n",
    "        a.append(0.111)\n",
    "    elif i == 'Lower Secondary':\n",
    "        a.append(0.108)\n",
    "    else:\n",
    "        a.append(0.12)\n",
    "\n",
    "\n",
    "X_test['edu_type_num'] = a\n"
   ]
  },
  {
   "cell_type": "markdown",
   "id": "b2e66ab0",
   "metadata": {},
   "source": [
    "### edu_type_num / DAYS_BIRTH "
   ]
  },
  {
   "cell_type": "code",
   "execution_count": null,
   "id": "65865e68",
   "metadata": {},
   "outputs": [],
   "source": [
    "X_train['edu_type_num/DAYS_BIRTH'] = (X_train['edu_type_num'] / X_train['DAYS_BIRTH'])*10000\n",
    "X_test['edu_type_num/DAYS_BIRTH'] = (X_test['edu_type_num'] / X_test['DAYS_BIRTH'])*10000"
   ]
  },
  {
   "cell_type": "markdown",
   "id": "c1cc3fb0",
   "metadata": {},
   "source": [
    "### edu_type_num * income_per_days_birth"
   ]
  },
  {
   "cell_type": "code",
   "execution_count": null,
   "id": "f64d1963",
   "metadata": {},
   "outputs": [],
   "source": [
    "X_train['edu_type_num*income_per_days_birth'] = X_train['edu_type_num'] * X_train['income_per_days_birth']\n",
    "X_test['edu_type_num*income_per_days_birth'] = X_test['edu_type_num'] * X_test['income_per_days_birth']"
   ]
  },
  {
   "cell_type": "markdown",
   "id": "80565f8d",
   "metadata": {},
   "source": [
    "### 데이터 타입 변경"
   ]
  },
  {
   "cell_type": "code",
   "execution_count": null,
   "id": "01d07d6b",
   "metadata": {},
   "outputs": [],
   "source": [
    "X_train['family_size'] = X_train['family_size'].astype(int)\n",
    "X_test['family_size'] = X_test['family_size'].astype(int)\n",
    "\n",
    "X_train['age'] = X_train['age'].astype('int64')\n",
    "X_test['age'] = X_test['age'].astype('int64')\n",
    "\n",
    "X_train['year_of_service'] = X_train['year_of_service'].astype('int64')\n",
    "X_test['year_of_service'] = X_test['year_of_service'].astype('int64')"
   ]
  },
  {
   "cell_type": "code",
   "execution_count": null,
   "id": "f599dc20",
   "metadata": {},
   "outputs": [],
   "source": [
    "X_train.to_csv('data/feature_enginerring_train.csv', encoding='utf-8')\n",
    "X_test.to_csv('data/feature_enginerring_test.csv', encoding='utf-8')"
   ]
  }
 ],
 "metadata": {
  "kernelspec": {
   "display_name": "Python 3 (ipykernel)",
   "language": "python",
   "name": "python3"
  },
  "language_info": {
   "codemirror_mode": {
    "name": "ipython",
    "version": 3
   },
   "file_extension": ".py",
   "mimetype": "text/x-python",
   "name": "python",
   "nbconvert_exporter": "python",
   "pygments_lexer": "ipython3",
   "version": "3.9.7"
  }
 },
 "nbformat": 4,
 "nbformat_minor": 5
}
