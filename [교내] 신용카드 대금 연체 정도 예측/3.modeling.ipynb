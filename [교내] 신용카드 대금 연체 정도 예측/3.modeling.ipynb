{
 "cells": [
  {
   "cell_type": "code",
   "execution_count": null,
   "id": "e6a19221",
   "metadata": {},
   "outputs": [],
   "source": [
    "#import matplotlib_hangul\n",
    "%matplotlib inline\n",
    "import warnings\n",
    "warnings.filterwarnings(\"ignore\")\n",
    "\n",
    "import pandas as pd\n",
    "import numpy as np\n",
    "import matplotlib.pyplot as plt\n",
    "import seaborn as sns\n",
    "from sklearn.pipeline import Pipeline\n",
    "from sklearn.compose import ColumnTransformer\n",
    "from sklearn.preprocessing import FunctionTransformer\n",
    "from sklearn.base import BaseEstimator, TransformerMixin\n",
    "from sklearn.impute import SimpleImputer\n",
    "from sklearn.impute import KNNImputer\n",
    "from sklearn.preprocessing import PowerTransformer \n",
    "from sklearn.preprocessing import OrdinalEncoder\n",
    "from sklearn.feature_selection import SelectPercentile\n",
    "from sklearn.model_selection import train_test_split, cross_val_score, cross_validate,KFold\n",
    "from sklearn.metrics import mean_squared_error\n",
    "from sklearn import set_config\n",
    "from catboost import CatBoostClassifier\n",
    "from lightgbm import LGBMClassifier\n",
    "import optuna\n",
    "from optuna.distributions import CategoricalDistribution, IntDistribution, FloatDistribution\n",
    "from optuna.integration import OptunaSearchCV, ShapleyImportanceEvaluator\n",
    "from sklearn.metrics import log_loss\n",
    "from sklearn.preprocessing import LabelEncoder"
   ]
  },
  {
   "cell_type": "code",
   "execution_count": null,
   "id": "19b90128",
   "metadata": {},
   "outputs": [],
   "source": [
    "X_train = pd.read_csv('data/feature_enginerring_train.csv', encoding = 'cp949')\n",
    "X_test = pd.read_csv('data/feature_enginerring_test.csv', encoding = 'cp949')\n",
    "\n",
    "submission = pd.read_csv('data/sample_submission.csv', encoding = 'cp949')"
   ]
  },
  {
   "cell_type": "markdown",
   "id": "3c308101",
   "metadata": {},
   "source": [
    "## __CatBoost__"
   ]
  },
  {
   "cell_type": "code",
   "execution_count": null,
   "id": "ec105e28",
   "metadata": {},
   "outputs": [],
   "source": [
    "numeric_features = ['income_total', 'family_size', 'begin_month', 'age', 'year_of_service', 'child_num','DAYS_BIRTH','DAYS_EMPLOYED',\n",
    "                    'DAYS_BIRTH_month', 'DAYS_BIRTH_week', 'DAYS_EMPLOYED_month', 'DAYS_EMPLOYED_week',\n",
    "                    'before_EMPLOYED', 'before_EMPLOYED_month', 'before_EMPLOYED_week','소득/가족','소득/자녀',\n",
    "                    'BIRTH*id', 'EMP*id', 'BIRTH*EMP', 'possible','id_총DAYS_BIRTH','id_평균DAYS_BIRTH', 'id_최대DAYS_BIRTH', 'id_최소DAYS_BIRTH', 'id_DAYS_BIRTH표준편차', 'id_DAYS_BIRTH변동계수',\n",
    "                    'id_평균begin_month','id_최대begin_month','id_최소begin_month','id_begin_month표준편차','id_begin_month변동계수',\n",
    "                    'income_type__총income_total', 'income_type_평균income_total', 'income_type_최대income_total', 'income_type__최소income_total', 'income_type__income_total표준편차', 'income_type__income_total변동계수',\n",
    "                    'edu_type__총income_total', 'edu_type_평균income_total', 'edu_type_최대income_total', 'edu_type__최소income_total','edu_type__income_total표준편차','edu_type__income_total변동계수',\n",
    "                    'family_type__총income_total', 'family_type_평균income_total', 'family_type_최대income_total', 'family_type__최소income_total','family_type__income_total표준편차','family_type__income_total변동계수',\n",
    "                    'house_type__총income_total','house_type_평균income_total','house_type_최대income_total','house_type__최소income_total','house_type__income_total표준편차','house_type__income_total변동계수',\n",
    "                    'Age_type__총income_total','Age_type_평균income_total','Age_type_최대income_total','Age_type__최소income_total','Age_type__income_total표준편차','Age_type__income_total변동계수',\n",
    "                    'EMPLOYED_RATIO','income_per_days_birth','income_per_days_birth_X_DAYS_BIRTH','begin_month_X_DAYS_BIRTH',\n",
    "                    'occyp_type__총income_total','occyp_type_평균income_total','occyp_type_최대income_total','occyp_type__최소income_total','occyp_type__income_total표준편차','occyp_type__income_total변동계수',\n",
    "                    'income/before_EMPLOYED','income_total_dev','income_total_log','edu_type_num','edu_type_num/DAYS_BIRTH','edu_type_num*income_per_days_birth']\n",
    "categorical_features= ['gender', 'car', 'reality', 'income_type', 'edu_type', 'family_type', 'house_type', 'occyp_type',\n",
    "                       'age_group', 'years_group', 'id','work_phone','phone','email','DAYS_BIRTH_class','possible_class',\n",
    "                       'car_reality','begin_month_class','pos+beg+dBirth']\n",
    "\n",
    "X_train = X_train[numeric_features+categorical_features]\n",
    "X_test = X_test[numeric_features+categorical_features]"
   ]
  },
  {
   "cell_type": "code",
   "execution_count": null,
   "id": "7187f292",
   "metadata": {},
   "outputs": [],
   "source": [
    "X_train.info()"
   ]
  },
  {
   "cell_type": "code",
   "execution_count": null,
   "id": "53030592",
   "metadata": {},
   "outputs": [],
   "source": [
    "# num_train = X_train[numeric_features]\n",
    "# num_test = X_test[numeric_features]"
   ]
  },
  {
   "cell_type": "code",
   "execution_count": null,
   "id": "6a37438f",
   "metadata": {},
   "outputs": [],
   "source": [
    "# # Method: Using SHAP values\n",
    "# import shap\n",
    "\n",
    "# # DF, based on which importance is checked\n",
    "# X_importance = num_test\n",
    "\n",
    "# # Explain model predictions using shap library:\n",
    "# model = CatBoostClassifier(verbose=False, random_state=0).fit(num_train, y_train)\n",
    "# explainer = shap.TreeExplainer(model)\n",
    "# shap_values = explainer.shap_values(X_importance)\n",
    "\n",
    "# # Plot summary_plot as barplot:\n",
    "# shap.summary_plot(shap_values, X_importance, plot_type='bar')\n"
   ]
  },
  {
   "cell_type": "code",
   "execution_count": null,
   "id": "6336650c",
   "metadata": {},
   "outputs": [],
   "source": [
    "# shap_sum = np.abs(shap_values).mean(axis=1)[1, :]\n",
    "# importance_df = pd.DataFrame(\n",
    "#     [X_importance.columns.tolist(), shap_sum.tolist()]).T\n",
    "# importance_df.columns = ['column_name', 'shap_importance']\n",
    "# importance_df = importance_df.sort_values('shap_importance', ascending=False)\n",
    "# importance_df\n"
   ]
  },
  {
   "cell_type": "code",
   "execution_count": null,
   "id": "a808ebe6",
   "metadata": {},
   "outputs": [],
   "source": [
    "# # feature 중요도가 0 이상\n",
    "# SHAP_THRESHOLD = 0\n",
    "# features_selected = importance_df.query('shap_importance > @SHAP_THRESHOLD').column_name.tolist()"
   ]
  },
  {
   "cell_type": "code",
   "execution_count": null,
   "id": "e04c02d7",
   "metadata": {},
   "outputs": [],
   "source": [
    "from sklearn.model_selection import StratifiedKFold\n",
    "\n",
    "skfold = StratifiedKFold(n_splits=5, shuffle=True, random_state=42)\n",
    "folds = []\n",
    "for train_index, valid_index in skfold.split(X_train, y_train):\n",
    "    folds.append((train_index, valid_index))\n",
    "\n",
    "cat_pred = np.zeros((X_train.shape[0], 3))\n",
    "cat_pred_test = np.zeros((X_test.shape[0], 3))\n",
    "\n",
    "for fold in range(5):\n",
    "  print(f'\\n training model for CV {fold} \\n')\n",
    "  train_index, valid_index = folds[fold]\n",
    "  train_x, valid_x = X_train.iloc[train_index], X_train.iloc[valid_index]\n",
    "  train_y, valid_y = y_train.iloc[train_index], y_train.iloc[valid_index]\n",
    "\n",
    "  model = CatBoostClassifier(\n",
    "      cat_features=categorical_features, verbose=False, random_state=0)\n",
    "  model.fit(train_x, train_y,\n",
    "            eval_set=[(valid_x, valid_y)],\n",
    "            early_stopping_rounds=100,\n",
    "            )\n",
    "\n",
    "  cat_pred[valid_index] = model.predict_proba(valid_x)\n",
    "  cat_pred_test += model.predict_proba(X_test) / 5\n",
    "  print(f'CV Log Loss Score: {log_loss(valid_y, cat_pred[valid_index]):.6f}')\n",
    "\n",
    "print(f'\\tLog Loss: {log_loss(y_train, cat_pred):.6f}')\n"
   ]
  },
  {
   "cell_type": "code",
   "execution_count": null,
   "id": "c27df497",
   "metadata": {},
   "outputs": [],
   "source": [
    "def plot_feature_importance(importance, names, model_type):\n",
    "\n",
    "    feature_importance = np.array(importance)\n",
    "    feature_names = np.array(names)\n",
    "\n",
    "    data = {'feature_names': feature_names,\n",
    "            'feature_importance': feature_importance}\n",
    "    fi_df = pd.DataFrame(data)\n",
    "\n",
    "    fi_df.sort_values(by=['feature_importance'], ascending=False, inplace=True)\n",
    "\n",
    "    plt.figure(figsize=(40, 30))\n",
    "\n",
    "    sns.barplot(x=fi_df['feature_importance'], y=fi_df['feature_names'])\n",
    "\n",
    "    plt.title(model_type + ' Feature Importance')\n",
    "    plt.xlabel('Feature Importance')\n",
    "    plt.ylabel('Feature Names')\n",
    "\n",
    "    plt.savefig('Feature Importance.png', dpi=400)"
   ]
  },
  {
   "cell_type": "code",
   "execution_count": null,
   "id": "d1657a55",
   "metadata": {},
   "outputs": [],
   "source": [
    "plot_feature_importance(model.get_feature_importance(),X_test.columns,'CATBOOST')\n"
   ]
  },
  {
   "cell_type": "code",
   "execution_count": null,
   "id": "18101c9a",
   "metadata": {},
   "outputs": [],
   "source": [
    "sub = pd.read_csv('data/sample_submission.csv')"
   ]
  },
  {
   "cell_type": "code",
   "execution_count": null,
   "id": "ebcb5af5",
   "metadata": {},
   "outputs": [],
   "source": [
    "sub.iloc[:, 1:] = cat_pred_test "
   ]
  },
  {
   "cell_type": "code",
   "execution_count": null,
   "id": "5f8c1b8f",
   "metadata": {},
   "outputs": [],
   "source": [
    "sub.to_csv(f\"submission_cat_all_2.csv\", index=False)"
   ]
  }
 ],
 "metadata": {
  "kernelspec": {
   "display_name": "Python 3 (ipykernel)",
   "language": "python",
   "name": "python3"
  },
  "language_info": {
   "codemirror_mode": {
    "name": "ipython",
    "version": 3
   },
   "file_extension": ".py",
   "mimetype": "text/x-python",
   "name": "python",
   "nbconvert_exporter": "python",
   "pygments_lexer": "ipython3",
   "version": "3.9.7"
  }
 },
 "nbformat": 4,
 "nbformat_minor": 5
}
